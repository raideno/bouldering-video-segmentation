{
 "cells": [
  {
   "cell_type": "code",
   "execution_count": 6,
   "metadata": {},
   "outputs": [
    {
     "name": "stdout",
     "output_type": "stream",
     "text": [
      "The autoreload extension is already loaded. To reload it, use:\n",
      "  %reload_ext autoreload\n"
     ]
    }
   ],
   "source": [
    "%load_ext autoreload\n",
    "%autoreload 2"
   ]
  },
  {
   "cell_type": "code",
   "execution_count": 7,
   "metadata": {},
   "outputs": [],
   "source": [
    "import torch\n",
    "\n",
    "from video_dataset.video import VideoFromVideoFile\n",
    "\n",
    "from tas_helpers.visualization import SegmentationVisualizer\n",
    "\n",
    "from bouldering_video_segmentation.models import VideoSegmentMlp\n",
    "from bouldering_video_segmentation.extractors import ResNet3DFeatureExtractor"
   ]
  },
  {
   "cell_type": "markdown",
   "metadata": {},
   "source": [
    "<div class=\"alert alert-warning\">\n",
    "\n",
    "**Information:** The constants below (`VIDEO_PATH` and `VIDEO_SEGMENT_MLP_MODEL_WEIGHTS_PATH`) are to be defined. You can find an example video and the models weights in the github repository.\n",
    "\n",
    "</div>"
   ]
  },
  {
   "cell_type": "code",
   "execution_count": null,
   "metadata": {},
   "outputs": [],
   "source": [
    "VIDEO_PATH = \"dsds\"\n",
    "SEGMENT_SIZE = 32\n",
    "NUMBER_OF_CLASSES = 5\n",
    "VIDEO_SEGMENT_MLP_MODEL_WEIGHTS_PATH = \"dsds\""
   ]
  },
  {
   "cell_type": "code",
   "execution_count": 14,
   "metadata": {},
   "outputs": [],
   "source": [
    "video_dir_path = \"/\".join(VIDEO_PATH.split(\"/\")[:-1])\n",
    "video_name, video_extension = VIDEO_PATH.split(\"/\")[-1].split(\".\")"
   ]
  },
  {
   "cell_type": "code",
   "execution_count": null,
   "metadata": {},
   "outputs": [],
   "source": [
    "extractor = ResNet3DFeatureExtractor()\n",
    "\n",
    "model = VideoSegmentMlp(\n",
    "    input_size=extractor.get_features_shape(),\n",
    "    # NOTE: the model has been trained on 5 classes, thus the output size is 5 and can't be changed when used with the provided weights\n",
    "    output_size=NUMBER_OF_CLASSES\n",
    ")\n",
    "\n",
    "model = model.load_state_dict(torch.load(VIDEO_SEGMENT_MLP_MODEL_WEIGHTS_PATH))\n",
    "\n",
    "video = VideoFromVideoFile(\n",
    "    videos_dir_path=video_dir_path,\n",
    "    id=video_name,\n",
    "    video_extension=video_extension\n",
    ")"
   ]
  },
  {
   "cell_type": "code",
   "execution_count": null,
   "metadata": {},
   "outputs": [],
   "source": [
    "predictions = []\n",
    "\n",
    "for segment in video.get_segments(segment_size=SEGMENT_SIZE):\n",
    "    features = extractor.transform_and_extract(segment)\n",
    "    \n",
    "    prediction = model(features)\n",
    "    \n",
    "    predictions.append(prediction)"
   ]
  },
  {
   "cell_type": "code",
   "execution_count": null,
   "metadata": {},
   "outputs": [],
   "source": [
    "SegmentationVisualizer(segment, prediction).show()"
   ]
  }
 ],
 "metadata": {
  "kernelspec": {
   "display_name": ".venv",
   "language": "python",
   "name": "python3"
  },
  "language_info": {
   "codemirror_mode": {
    "name": "ipython",
    "version": 3
   },
   "file_extension": ".py",
   "mimetype": "text/x-python",
   "name": "python",
   "nbconvert_exporter": "python",
   "pygments_lexer": "ipython3",
   "version": "3.12.0"
  }
 },
 "nbformat": 4,
 "nbformat_minor": 2
}
