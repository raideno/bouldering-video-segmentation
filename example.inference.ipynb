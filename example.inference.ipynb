{
 "cells": [
  {
   "cell_type": "code",
   "execution_count": 1,
   "metadata": {},
   "outputs": [],
   "source": [
    "%load_ext autoreload\n",
    "%autoreload 2"
   ]
  },
  {
   "cell_type": "code",
   "execution_count": 107,
   "metadata": {},
   "outputs": [],
   "source": [
    "import os\n",
    "import math\n",
    "import tqdm\n",
    "import torch\n",
    "\n",
    "import numpy as np\n",
    "\n",
    "from video_dataset.video import VideoFromVideoFile\n",
    "from bouldering_video_segmentation.utils import LabelEncoderFactory\n",
    "\n",
    "from tas_helpers.visualization import SegmentationVisualizer\n",
    "\n",
    "from bouldering_video_segmentation.models import VideoSegmentMlp\n",
    "from bouldering_video_segmentation.extractors import X3DFeatureExtractor, X3DModelType"
   ]
  },
  {
   "cell_type": "markdown",
   "metadata": {},
   "source": [
    "<div class=\"alert alert-warning\">\n",
    "\n",
    "**Information:** The constants below (`VIDEO_PATH` and `VIDEO_SEGMENT_MLP_MODEL_WEIGHTS_PATH`) are to be defined. You can find an example video and the models weights in the github repository.\n",
    "\n",
    "</div>"
   ]
  },
  {
   "cell_type": "code",
   "execution_count": 13,
   "metadata": {},
   "outputs": [],
   "source": [
    "VIDEO_PATH = \"/Users/nadir/Documents/research-project-example-videos/climb_1-climber_MoubeAdrian-bloc_1-angle_face.mp4\"\n",
    "SEGMENT_SIZE = 32\n",
    "NUMBER_OF_CLASSES = 5\n",
    "VIDEO_SEGMENT_MLP_MODEL_WEIGHTS_PATH = \"models-weights/mlp.x3d-xs.pt\""
   ]
  },
  {
   "cell_type": "code",
   "execution_count": 14,
   "metadata": {},
   "outputs": [],
   "source": [
    "video_dir_path = \"/\".join(VIDEO_PATH.split(\"/\")[:-1])\n",
    "video_name, video_extension = VIDEO_PATH.split(\"/\")[-1].split(\".\")"
   ]
  },
  {
   "cell_type": "code",
   "execution_count": 15,
   "metadata": {},
   "outputs": [
    {
     "name": "stdout",
     "output_type": "stream",
     "text": [
      "[video-path]: /Users/nadir/Documents/research-project-example-videos/climb_1-climber_MoubeAdrian-bloc_1-angle_face.mp4\n"
     ]
    }
   ],
   "source": [
    "print(f\"[video-path]: {os.path.join(video_dir_path, f\"{video_name}.{video_extension}\")}\")"
   ]
  },
  {
   "cell_type": "code",
   "execution_count": 72,
   "metadata": {},
   "outputs": [
    {
     "name": "stdout",
     "output_type": "stream",
     "text": [
      "[incompatible-keys]: <All keys matched successfully>\n"
     ]
    },
    {
     "name": "stderr",
     "output_type": "stream",
     "text": [
      "Using cache found in /Users/nadir/.cache/torch/hub/facebookresearch_pytorchvideo_main\n"
     ]
    }
   ],
   "source": [
    "extractor = X3DFeatureExtractor(X3DModelType.XS)\n",
    "\n",
    "model = VideoSegmentMlp(\n",
    "    input_size=extractor.get_features_shape(),\n",
    "    # NOTE: the model has been trained on 5 classes, thus the output size is 5 and can't be changed when used with the provided weights\n",
    "    output_size=NUMBER_OF_CLASSES\n",
    ")\n",
    "\n",
    "incompatible_keys = model.load_state_dict(torch.load(VIDEO_SEGMENT_MLP_MODEL_WEIGHTS_PATH))\n",
    "\n",
    "model = model.eval()\n",
    "\n",
    "print(f\"[incompatible-keys]: {incompatible_keys}\")\n",
    "\n",
    "video = VideoFromVideoFile(\n",
    "    videos_dir_path=video_dir_path,\n",
    "    id=video_name,\n",
    "    video_extension=video_extension\n",
    ")"
   ]
  },
  {
   "cell_type": "code",
   "execution_count": 73,
   "metadata": {},
   "outputs": [
    {
     "name": "stdout",
     "output_type": "stream",
     "text": [
      "[#segments]: 221\n",
      "[video[0].shape]: (1920, 1080, 3)\n",
      "[video[0:10].shape]: (10, 1920, 1080, 3)\n"
     ]
    }
   ],
   "source": [
    "print(f\"[#segments]: {math.ceil(len(video) / SEGMENT_SIZE)}\")\n",
    "\n",
    "# NOTE: (Time, Height, Width, Channels)\n",
    "print(f\"[video[0].shape]: {video[0].shape}\")\n",
    "\n",
    "# NOTE: (Time, Height, Width, Channels)\n",
    "print(f\"[video[0:10].shape]: {video[0:10].shape}\")"
   ]
  },
  {
   "cell_type": "code",
   "execution_count": 76,
   "metadata": {},
   "outputs": [
    {
     "name": "stderr",
     "output_type": "stream",
     "text": [
      "[processing-video-segments]:: 100%|██████████| 221/221 [02:36<00:00,  1.41it/s]\n"
     ]
    }
   ],
   "source": [
    "features = []\n",
    "predictions = []\n",
    "\n",
    "for i in tqdm.tqdm(iterable=range(0, len(video), SEGMENT_SIZE), desc=\"[processing-video-segments]:\"):\n",
    "    segment = video[i:i+SEGMENT_SIZE]\n",
    "    # NOTE: required to be transposed to (Channel, Time, Height, Width)\n",
    "    segment = segment.transpose(3, 0, 1, 2)\n",
    "    feature = extractor.transform_and_extract(segment)\n",
    "    feature = feature.unsqueeze(0)\n",
    "    prediction = model(feature)\n",
    "    \n",
    "    features.append(feature)\n",
    "    predictions.append(prediction)"
   ]
  },
  {
   "cell_type": "code",
   "execution_count": 103,
   "metadata": {},
   "outputs": [],
   "source": [
    "_, labels = torch.max(torch.stack(predictions), dim=2)"
   ]
  },
  {
   "cell_type": "code",
   "execution_count": 104,
   "metadata": {},
   "outputs": [],
   "source": [
    "frames_predictions = np.repeat(labels.numpy(), SEGMENT_SIZE)"
   ]
  },
  {
   "cell_type": "code",
   "execution_count": 115,
   "metadata": {},
   "outputs": [
    {
     "data": {
      "text/plain": [
       "<Axes: >"
      ]
     },
     "execution_count": 115,
     "metadata": {},
     "output_type": "execute_result"
    },
    {
     "data": {
      "image/png": "[encoded data removed]",
      "text/plain": [
       "<Figure size 1200x200 with 1 Axes>"
      ]
     },
     "metadata": {},
     "output_type": "display_data"
    }
   ],
   "source": [
    "label_encoder = LabelEncoderFactory.get()\n",
    "\n",
    "visualizer = SegmentationVisualizer(\n",
    "    labels_values=label_encoder.transform(label_encoder.classes_),\n",
    "    labels_names=label_encoder.classes_\n",
    ")\n",
    "\n",
    "visualizer.plot_segmentation(\n",
    "    frames_labels=frames_predictions,\n",
    "    fps=25\n",
    ")"
   ]
  }
 ],
 "metadata": {
  "kernelspec": {
   "display_name": ".venv",
   "language": "python",
   "name": "python3"
  },
  "language_info": {
   "codemirror_mode": {
    "name": "ipython",
    "version": 3
   },
   "file_extension": ".py",
   "mimetype": "text/x-python",
   "name": "python",
   "nbconvert_exporter": "python",
   "pygments_lexer": "ipython3",
   "version": "3.12.0"
  }
 },
 "nbformat": 4,
 "nbformat_minor": 2
}
