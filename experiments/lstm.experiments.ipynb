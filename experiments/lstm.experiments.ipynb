{
 "cells": [
  {
   "cell_type": "markdown",
   "metadata": {},
   "source": [
    "<div class=\"alert alert-info\">\n",
    "\n",
    "#### **LSTM Experiment**\n",
    "\n",
    "In this notebook we are going to train a simple LSTM classifier on the climbing dataset.\n",
    "\n",
    "</div>"
   ]
  },
  {
   "cell_type": "code",
   "execution_count": 163,
   "metadata": {},
   "outputs": [
    {
     "name": "stdout",
     "output_type": "stream",
     "text": [
      "The autoreload extension is already loaded. To reload it, use:\n",
      "  %reload_ext autoreload\n"
     ]
    }
   ],
   "source": [
    "%load_ext autoreload\n",
    "%autoreload 2"
   ]
  },
  {
   "cell_type": "markdown",
   "metadata": {},
   "source": [
    "<div class=\"alert alert-info\">\n",
    "\n",
    "#### **1- Preliminary**\n",
    "\n",
    "We first do a preliminary work to prepare the datasets. In order to know more about this, please read the `experiments/preliminary.ipynb` notebook.\n",
    "\n",
    "</div>"
   ]
  },
  {
   "cell_type": "code",
   "execution_count": 164,
   "metadata": {},
   "outputs": [],
   "source": [
    "from experiments.helpers.preliminary import preliminary, FilteringMode, FilteringOperator"
   ]
  },
  {
   "cell_type": "code",
   "execution_count": 165,
   "metadata": {},
   "outputs": [],
   "source": [
    "# FILTERING_MODE = FilteringMode(0)\n",
    "# FILTERING_MODE = FilteringMode.NO_PERSONLESS\n",
    "# FILTERING_MODE = FilteringMode.NO_PERSONLESS | FilteringMode.NO_NOTHING_CLASS\n",
    "FILTERING_MODE = FilteringMode.NO_PERSONLESS | FilteringMode.NO_NOTHING_CLASS | FilteringMode.NO_STOPWATCH_CLASS\n",
    "# FILTERING_MODE = FilteringMode.NO_PERSONLESS | FilteringMode.NO_STOPWATCH_CLASS | FilteringMode.NO_NOTHING_CLASS | FilteringMode.NO_MULTI_CLASS"
   ]
  },
  {
   "cell_type": "code",
   "execution_count": 166,
   "metadata": {},
   "outputs": [
    {
     "name": "stdout",
     "output_type": "stream",
     "text": [
      "[extractor-yolo]:\n",
      "[extractor-dino]:\n",
      "[extractor-r3d]:\n",
      "[extractor-i3d]:\n",
      "[extractor-clip]:\n",
      "[extractor-x3d-xs]:\n",
      "[extractor-x3d-s]:\n",
      "[extractor-x3d-m]:\n",
      "[extractor-x3d-l]:\n",
      "[extractor-s3d-k]:\n",
      "[extractor-s3d-h]:\n",
      "[extractor-slowfast]:\n",
      "[extractor-vivit]:\n"
     ]
    }
   ],
   "source": [
    "datasets, filtered_datasets, extractors = preliminary(\n",
    "    filtering_mode=FILTERING_MODE,\n",
    "    filtering_operator=FilteringOperator.OR,\n",
    "    ignore_frames_extraction=True\n",
    ")"
   ]
  },
  {
   "cell_type": "code",
   "execution_count": 167,
   "metadata": {},
   "outputs": [
    {
     "name": "stdout",
     "output_type": "stream",
     "text": [
      "[filtering]: 21.43%\n"
     ]
    }
   ],
   "source": [
    "initial_size = len(datasets[0])\n",
    "filtered_size = len(filtered_datasets[0])\n",
    "\n",
    "reduction_percentage = 100 * (initial_size - filtered_size) / initial_size\n",
    "\n",
    "print(f\"[filtering]: {reduction_percentage:.2f}%\")"
   ]
  },
  {
   "cell_type": "markdown",
   "metadata": {},
   "source": [
    "<div class=\"alert alert-info\">\n",
    "\n",
    "#### **2- Data Adaptation**\n",
    "\n",
    "The dataset is structured in term of segments, we need to group and order the segments by videos in order to pass the whole video to an LSTM.\n",
    "\n",
    "</div>"
   ]
  },
  {
   "cell_type": "code",
   "execution_count": 168,
   "metadata": {},
   "outputs": [],
   "source": [
    "import torch\n",
    "\n",
    "import numpy as np\n",
    "\n",
    "from experiments.helpers.full_videos_features_dataset import FullVideosFeaturesDataset"
   ]
  },
  {
   "cell_type": "code",
   "execution_count": 169,
   "metadata": {},
   "outputs": [],
   "source": [
    "def transform(sample):\n",
    "    features, annotations, video_id = sample\n",
    "    \n",
    "    return torch.stack(features), torch.tensor(np.array(annotations)[0:, 0])"
   ]
  },
  {
   "cell_type": "code",
   "execution_count": 170,
   "metadata": {},
   "outputs": [
    {
     "name": "stderr",
     "output_type": "stream",
     "text": [
      "100%|██████████| 3220/3220 [00:00<00:00, 14430.28it/s]\n",
      "100%|██████████| 3220/3220 [00:00<00:00, 4691.80it/s]\n",
      "100%|██████████| 3220/3220 [00:00<00:00, 4247.83it/s]\n",
      "100%|██████████| 3220/3220 [00:00<00:00, 5027.08it/s]\n",
      "100%|██████████| 3220/3220 [00:00<00:00, 6163.38it/s]\n",
      "100%|██████████| 3220/3220 [00:00<00:00, 6809.83it/s]\n",
      "100%|██████████| 3220/3220 [00:00<00:00, 8085.67it/s]\n",
      "100%|██████████| 3220/3220 [00:00<00:00, 7723.67it/s]\n",
      "100%|██████████| 3220/3220 [00:00<00:00, 6195.70it/s]\n",
      "100%|██████████| 3220/3220 [00:00<00:00, 6738.02it/s]\n",
      "100%|██████████| 3220/3220 [00:00<00:00, 5057.86it/s]\n",
      "100%|██████████| 3220/3220 [00:00<00:00, 7620.13it/s]\n",
      "100%|██████████| 3220/3220 [00:00<00:00, 5154.14it/s]\n"
     ]
    }
   ],
   "source": [
    "videos_datasets = [\n",
    "    FullVideosFeaturesDataset(\n",
    "        dataset=dataset,\n",
    "        transform=transform,\n",
    "        verbose=True    \n",
    "    ) for dataset in filtered_datasets\n",
    "]"
   ]
  },
  {
   "cell_type": "markdown",
   "metadata": {},
   "source": [
    "<div class=\"alert alert-info\">\n",
    "\n",
    "#### **3- Model Definition**\n",
    "\n",
    "Now we define the globally temporal aware models and their training functions.\n",
    "\n",
    "</div>"
   ]
  },
  {
   "cell_type": "code",
   "execution_count": 171,
   "metadata": {},
   "outputs": [],
   "source": [
    "from bouldering_video_segmentation.models import FullVideoLstm"
   ]
  },
  {
   "cell_type": "markdown",
   "metadata": {},
   "source": [
    "<div class=\"alert alert-info\">\n",
    "\n",
    "#### **4- Training**\n",
    "\n",
    "We'll train the different models.\n",
    "\n",
    "</div>"
   ]
  },
  {
   "cell_type": "code",
   "execution_count": 172,
   "metadata": {},
   "outputs": [],
   "source": [
    "class WrapperDataset(torch.utils.data.Dataset):\n",
    "    def __init__(self, dataset, transform=None):\n",
    "        self.dataset = dataset\n",
    "        self.transform = transform\n",
    "        \n",
    "    def __getitem__(self, index):\n",
    "        if self.transform:\n",
    "            return self.transform(self.dataset[index])\n",
    "        else:\n",
    "            return self.dataset[index]\n",
    "        \n",
    "    def __len__(self):\n",
    "        return len(self.dataset)"
   ]
  },
  {
   "cell_type": "code",
   "execution_count": 173,
   "metadata": {},
   "outputs": [],
   "source": [
    "def transform(sample):\n",
    "    features, annotations = sample\n",
    "    \n",
    "    annotations = torch.nn.functional.one_hot(annotations, num_classes=5).float()\n",
    "    \n",
    "    return features, annotations"
   ]
  },
  {
   "cell_type": "code",
   "execution_count": 174,
   "metadata": {},
   "outputs": [],
   "source": [
    "def collate_fn(batch):\n",
    "    features, labels = zip(*batch)\n",
    "    \n",
    "    features_padded = torch.nn.utils.rnn.pad_sequence(features, batch_first=True, padding_value=0)\n",
    "    \n",
    "    labels_padded = torch.nn.utils.rnn.pad_sequence(labels, batch_first=True, padding_value=-1)\n",
    "    \n",
    "    return features_padded, labels_padded"
   ]
  },
  {
   "cell_type": "code",
   "execution_count": 175,
   "metadata": {},
   "outputs": [
    {
     "name": "stderr",
     "output_type": "stream",
     "text": [
      "[training-yolo-1/5]: 100%|██████████| 32/32 [00:10<00:00,  3.12epoch/s, training-loss=0.547, training-accuracy=0.762, validation-loss=0.79, validation-accuracy=0.708, best-validation-accuracy=0.659, best-training-accuracy=0.751] \n",
      "[training-dino-1/5]: 100%|██████████| 32/32 [00:12<00:00,  2.53epoch/s, training-loss=0.345, training-accuracy=0.864, validation-loss=0.55, validation-accuracy=0.82, best-validation-accuracy=0.841, best-training-accuracy=0.841]  \n",
      "[training-r3d-1/5]: 100%|██████████| 32/32 [00:11<00:00,  2.71epoch/s, training-loss=0.319, training-accuracy=0.883, validation-loss=0.354, validation-accuracy=0.885, best-validation-accuracy=0.885, best-training-accuracy=0.883]\n",
      "[training-i3d-1/5]: 100%|██████████| 32/32 [00:11<00:00,  2.80epoch/s, training-loss=0.576, training-accuracy=0.831, validation-loss=0.607, validation-accuracy=0.702, best-validation-accuracy=0.817, best-training-accuracy=0.814]\n",
      "[training-clip-1/5]: 100%|██████████| 32/32 [00:12<00:00,  2.55epoch/s, training-loss=0.437, training-accuracy=0.83, validation-loss=0.587, validation-accuracy=0.732, best-validation-accuracy=0.745, best-training-accuracy=0.799] \n",
      "[training-x3d-xs-1/5]: 100%|██████████| 32/32 [00:11<00:00,  2.89epoch/s, training-loss=0.291, training-accuracy=0.908, validation-loss=0.66, validation-accuracy=0.748, best-validation-accuracy=0.856, best-training-accuracy=0.906] \n",
      "[training-x3d-s-1/5]: 100%|██████████| 32/32 [00:11<00:00,  2.89epoch/s, training-loss=0.269, training-accuracy=0.916, validation-loss=0.469, validation-accuracy=0.855, best-validation-accuracy=0.855, best-training-accuracy=0.905]\n",
      "[training-x3d-m-1/5]: 100%|██████████| 32/32 [00:11<00:00,  2.90epoch/s, training-loss=0.244, training-accuracy=0.895, validation-loss=0.347, validation-accuracy=0.871, best-validation-accuracy=0.871, best-training-accuracy=0.895]\n",
      "[training-x3d-l-1/5]: 100%|██████████| 32/32 [00:10<00:00,  2.93epoch/s, training-loss=0.231, training-accuracy=0.907, validation-loss=0.475, validation-accuracy=0.838, best-validation-accuracy=0.86, best-training-accuracy=0.903] \n",
      "[training-s3d-k-1/5]: 100%|██████████| 32/32 [00:11<00:00,  2.90epoch/s, training-loss=0.3, training-accuracy=0.866, validation-loss=0.667, validation-accuracy=0.753, best-validation-accuracy=0.792, best-training-accuracy=0.856]  \n",
      "[training-s3d-h-1/5]: 100%|██████████| 32/32 [00:11<00:00,  2.87epoch/s, training-loss=1.06, training-accuracy=0.377, validation-loss=1.12, validation-accuracy=0.366, best-validation-accuracy=0.411, best-training-accuracy=0.394]\n",
      "[training-slowfast-1/5]: 100%|██████████| 32/32 [00:11<00:00,  2.86epoch/s, training-loss=0.608, training-accuracy=0.809, validation-loss=0.73, validation-accuracy=0.67, best-validation-accuracy=0.829, best-training-accuracy=0.831]  \n",
      "[training-vivit-1/5]: 100%|██████████| 32/32 [00:10<00:00,  2.98epoch/s, training-loss=0.317, training-accuracy=0.882, validation-loss=0.74, validation-accuracy=0.752, best-validation-accuracy=0.841, best-training-accuracy=0.856] \n",
      "[training-yolo-2/5]: 100%|██████████| 32/32 [00:09<00:00,  3.25epoch/s, training-loss=0.607, training-accuracy=0.745, validation-loss=0.971, validation-accuracy=0.63, best-validation-accuracy=0.724, best-training-accuracy=0.71]  \n",
      "[training-dino-2/5]: 100%|██████████| 32/32 [00:12<00:00,  2.55epoch/s, training-loss=0.477, training-accuracy=0.853, validation-loss=0.515, validation-accuracy=0.87, best-validation-accuracy=0.87, best-training-accuracy=0.858]  \n",
      "[training-r3d-2/5]: 100%|██████████| 32/32 [00:11<00:00,  2.78epoch/s, training-loss=0.343, training-accuracy=0.868, validation-loss=0.463, validation-accuracy=0.878, best-validation-accuracy=0.907, best-training-accuracy=0.859]\n",
      "[training-i3d-2/5]: 100%|██████████| 32/32 [00:11<00:00,  2.85epoch/s, training-loss=0.415, training-accuracy=0.843, validation-loss=0.44, validation-accuracy=0.857, best-validation-accuracy=0.857, best-training-accuracy=0.843] \n",
      "[training-clip-2/5]: 100%|██████████| 32/32 [00:12<00:00,  2.58epoch/s, training-loss=0.418, training-accuracy=0.811, validation-loss=0.648, validation-accuracy=0.761, best-validation-accuracy=0.806, best-training-accuracy=0.788]\n",
      "[training-x3d-xs-2/5]: 100%|██████████| 32/32 [00:11<00:00,  2.89epoch/s, training-loss=0.287, training-accuracy=0.906, validation-loss=0.661, validation-accuracy=0.831, best-validation-accuracy=0.894, best-training-accuracy=0.845]\n",
      "[training-x3d-s-2/5]: 100%|██████████| 32/32 [00:10<00:00,  2.93epoch/s, training-loss=0.221, training-accuracy=0.924, validation-loss=0.579, validation-accuracy=0.872, best-validation-accuracy=0.886, best-training-accuracy=0.847]\n",
      "[training-x3d-m-2/5]: 100%|██████████| 32/32 [00:10<00:00,  2.94epoch/s, training-loss=0.231, training-accuracy=0.907, validation-loss=0.447, validation-accuracy=0.889, best-validation-accuracy=0.885, best-training-accuracy=0.863]\n",
      "[training-x3d-l-2/5]: 100%|██████████| 32/32 [00:10<00:00,  2.93epoch/s, training-loss=0.204, training-accuracy=0.924, validation-loss=0.693, validation-accuracy=0.837, best-validation-accuracy=0.878, best-training-accuracy=0.856]\n",
      "[training-s3d-k-2/5]: 100%|██████████| 32/32 [00:11<00:00,  2.88epoch/s, training-loss=0.26, training-accuracy=0.905, validation-loss=0.62, validation-accuracy=0.775, best-validation-accuracy=0.831, best-training-accuracy=0.863]  \n",
      "[training-s3d-h-2/5]: 100%|██████████| 32/32 [00:11<00:00,  2.88epoch/s, training-loss=1.06, training-accuracy=0.334, validation-loss=1.02, validation-accuracy=0.522, best-validation-accuracy=0.522, best-training-accuracy=0.334]\n",
      "[training-slowfast-2/5]: 100%|██████████| 32/32 [00:11<00:00,  2.87epoch/s, training-loss=0.467, training-accuracy=0.809, validation-loss=0.569, validation-accuracy=0.759, best-validation-accuracy=0.877, best-training-accuracy=0.788]\n",
      "[training-vivit-2/5]: 100%|██████████| 32/32 [00:10<00:00,  2.96epoch/s, training-loss=0.218, training-accuracy=0.914, validation-loss=0.694, validation-accuracy=0.796, best-validation-accuracy=0.792, best-training-accuracy=0.784]\n",
      "[training-yolo-3/5]: 100%|██████████| 32/32 [00:09<00:00,  3.29epoch/s, training-loss=0.61, training-accuracy=0.725, validation-loss=0.666, validation-accuracy=0.675, best-validation-accuracy=0.763, best-training-accuracy=0.729] \n",
      "[training-dino-3/5]: 100%|██████████| 32/32 [00:11<00:00,  2.76epoch/s, training-loss=0.358, training-accuracy=0.867, validation-loss=0.58, validation-accuracy=0.726, best-validation-accuracy=0.809, best-training-accuracy=0.862] \n",
      "[training-r3d-3/5]: 100%|██████████| 32/32 [00:11<00:00,  2.88epoch/s, training-loss=0.362, training-accuracy=0.883, validation-loss=0.442, validation-accuracy=0.825, best-validation-accuracy=0.886, best-training-accuracy=0.868]\n",
      "[training-i3d-3/5]: 100%|██████████| 32/32 [00:10<00:00,  2.92epoch/s, training-loss=0.41, training-accuracy=0.83, validation-loss=0.781, validation-accuracy=0.698, best-validation-accuracy=0.787, best-training-accuracy=0.823]  \n",
      "[training-clip-3/5]: 100%|██████████| 32/32 [00:12<00:00,  2.62epoch/s, training-loss=0.387, training-accuracy=0.838, validation-loss=0.527, validation-accuracy=0.774, best-validation-accuracy=0.817, best-training-accuracy=0.824]\n",
      "[training-x3d-xs-3/5]: 100%|██████████| 32/32 [00:11<00:00,  2.88epoch/s, training-loss=0.273, training-accuracy=0.896, validation-loss=0.442, validation-accuracy=0.828, best-validation-accuracy=0.849, best-training-accuracy=0.901]\n",
      "[training-x3d-s-3/5]: 100%|██████████| 32/32 [00:10<00:00,  2.96epoch/s, training-loss=0.229, training-accuracy=0.903, validation-loss=0.336, validation-accuracy=0.874, best-validation-accuracy=0.895, best-training-accuracy=0.918]\n",
      "[training-x3d-m-3/5]: 100%|██████████| 32/32 [00:11<00:00,  2.85epoch/s, training-loss=0.264, training-accuracy=0.911, validation-loss=0.503, validation-accuracy=0.814, best-validation-accuracy=0.861, best-training-accuracy=0.901]\n",
      "[training-x3d-l-3/5]: 100%|██████████| 32/32 [00:11<00:00,  2.89epoch/s, training-loss=0.218, training-accuracy=0.913, validation-loss=0.65, validation-accuracy=0.774, best-validation-accuracy=0.857, best-training-accuracy=0.868] \n",
      "[training-s3d-k-3/5]: 100%|██████████| 32/32 [00:10<00:00,  2.98epoch/s, training-loss=0.299, training-accuracy=0.889, validation-loss=0.572, validation-accuracy=0.765, best-validation-accuracy=0.799, best-training-accuracy=0.839]\n",
      "[training-s3d-h-3/5]: 100%|██████████| 32/32 [00:11<00:00,  2.90epoch/s, training-loss=1.04, training-accuracy=0.476, validation-loss=1.08, validation-accuracy=0.396, best-validation-accuracy=0.396, best-training-accuracy=0.476]\n",
      "[training-slowfast-3/5]: 100%|██████████| 32/32 [00:10<00:00,  2.95epoch/s, training-loss=0.543, training-accuracy=0.802, validation-loss=0.579, validation-accuracy=0.781, best-validation-accuracy=0.867, best-training-accuracy=0.814]\n",
      "[training-vivit-3/5]: 100%|██████████| 32/32 [00:10<00:00,  3.00epoch/s, training-loss=0.236, training-accuracy=0.911, validation-loss=0.518, validation-accuracy=0.763, best-validation-accuracy=0.842, best-training-accuracy=0.89] \n",
      "[training-yolo-4/5]: 100%|██████████| 32/32 [00:09<00:00,  3.26epoch/s, training-loss=0.542, training-accuracy=0.764, validation-loss=0.724, validation-accuracy=0.684, best-validation-accuracy=0.679, best-training-accuracy=0.772]\n",
      "[training-dino-4/5]: 100%|██████████| 32/32 [00:11<00:00,  2.76epoch/s, training-loss=0.319, training-accuracy=0.878, validation-loss=0.688, validation-accuracy=0.732, best-validation-accuracy=0.777, best-training-accuracy=0.873]\n",
      "[training-r3d-4/5]: 100%|██████████| 32/32 [00:11<00:00,  2.88epoch/s, training-loss=0.385, training-accuracy=0.883, validation-loss=0.628, validation-accuracy=0.816, best-validation-accuracy=0.806, best-training-accuracy=0.831]\n",
      "[training-i3d-4/5]: 100%|██████████| 32/32 [00:10<00:00,  2.92epoch/s, training-loss=0.371, training-accuracy=0.857, validation-loss=0.973, validation-accuracy=0.607, best-validation-accuracy=0.689, best-training-accuracy=0.825]\n",
      "[training-clip-4/5]: 100%|██████████| 32/32 [00:12<00:00,  2.66epoch/s, training-loss=0.396, training-accuracy=0.831, validation-loss=0.615, validation-accuracy=0.75, best-validation-accuracy=0.756, best-training-accuracy=0.837] \n",
      "[training-x3d-xs-4/5]: 100%|██████████| 32/32 [00:10<00:00,  2.96epoch/s, training-loss=0.247, training-accuracy=0.908, validation-loss=0.54, validation-accuracy=0.815, best-validation-accuracy=0.815, best-training-accuracy=0.908] \n",
      "[training-x3d-s-4/5]: 100%|██████████| 32/32 [00:10<00:00,  2.95epoch/s, training-loss=0.232, training-accuracy=0.893, validation-loss=0.878, validation-accuracy=0.764, best-validation-accuracy=0.816, best-training-accuracy=0.909]\n",
      "[training-x3d-m-4/5]: 100%|██████████| 32/32 [00:10<00:00,  3.00epoch/s, training-loss=0.225, training-accuracy=0.919, validation-loss=0.849, validation-accuracy=0.777, best-validation-accuracy=0.821, best-training-accuracy=0.826]\n",
      "[training-x3d-l-4/5]: 100%|██████████| 32/32 [00:10<00:00,  2.93epoch/s, training-loss=0.24, training-accuracy=0.914, validation-loss=0.575, validation-accuracy=0.836, best-validation-accuracy=0.838, best-training-accuracy=0.883] \n",
      "[training-s3d-k-4/5]: 100%|██████████| 32/32 [00:11<00:00,  2.75epoch/s, training-loss=0.262, training-accuracy=0.893, validation-loss=0.707, validation-accuracy=0.723, best-validation-accuracy=0.709, best-training-accuracy=0.901]\n",
      "[training-s3d-h-4/5]: 100%|██████████| 32/32 [00:11<00:00,  2.75epoch/s, training-loss=1.05, training-accuracy=0.459, validation-loss=1.1, validation-accuracy=0.418, best-validation-accuracy=0.395, best-training-accuracy=0.376] \n",
      "[training-slowfast-4/5]: 100%|██████████| 32/32 [00:11<00:00,  2.82epoch/s, training-loss=0.567, training-accuracy=0.772, validation-loss=0.561, validation-accuracy=0.812, best-validation-accuracy=0.849, best-training-accuracy=0.826]\n",
      "[training-vivit-4/5]: 100%|██████████| 32/32 [00:10<00:00,  2.98epoch/s, training-loss=0.216, training-accuracy=0.922, validation-loss=0.741, validation-accuracy=0.753, best-validation-accuracy=0.794, best-training-accuracy=0.876]\n",
      "[training-yolo-5/5]: 100%|██████████| 32/32 [00:10<00:00,  3.18epoch/s, training-loss=0.529, training-accuracy=0.8, validation-loss=0.703, validation-accuracy=0.647, best-validation-accuracy=0.705, best-training-accuracy=0.749]  \n",
      "[training-dino-5/5]: 100%|██████████| 32/32 [00:11<00:00,  2.76epoch/s, training-loss=0.357, training-accuracy=0.867, validation-loss=0.404, validation-accuracy=0.874, best-validation-accuracy=0.835, best-training-accuracy=0.816]\n",
      "[training-r3d-5/5]: 100%|██████████| 32/32 [00:11<00:00,  2.82epoch/s, training-loss=0.33, training-accuracy=0.89, validation-loss=0.475, validation-accuracy=0.855, best-validation-accuracy=0.855, best-training-accuracy=0.832]  \n",
      "[training-i3d-5/5]: 100%|██████████| 32/32 [00:11<00:00,  2.76epoch/s, training-loss=0.384, training-accuracy=0.866, validation-loss=0.641, validation-accuracy=0.766, best-validation-accuracy=0.819, best-training-accuracy=0.792]\n",
      "[training-clip-5/5]: 100%|██████████| 32/32 [00:12<00:00,  2.55epoch/s, training-loss=0.376, training-accuracy=0.845, validation-loss=0.572, validation-accuracy=0.783, best-validation-accuracy=0.813, best-training-accuracy=0.819]\n",
      "[training-x3d-xs-5/5]: 100%|██████████| 32/32 [00:10<00:00,  2.92epoch/s, training-loss=0.242, training-accuracy=0.905, validation-loss=0.558, validation-accuracy=0.843, best-validation-accuracy=0.83, best-training-accuracy=0.871] \n",
      "[training-x3d-s-5/5]: 100%|██████████| 32/32 [00:10<00:00,  2.96epoch/s, training-loss=0.182, training-accuracy=0.928, validation-loss=0.613, validation-accuracy=0.855, best-validation-accuracy=0.846, best-training-accuracy=0.882]\n",
      "[training-x3d-m-5/5]: 100%|██████████| 32/32 [00:10<00:00,  2.93epoch/s, training-loss=0.19, training-accuracy=0.926, validation-loss=0.564, validation-accuracy=0.845, best-validation-accuracy=0.845, best-training-accuracy=0.878] \n",
      "[training-x3d-l-5/5]: 100%|██████████| 32/32 [00:10<00:00,  2.94epoch/s, training-loss=0.218, training-accuracy=0.913, validation-loss=0.591, validation-accuracy=0.845, best-validation-accuracy=0.841, best-training-accuracy=0.855]\n",
      "[training-s3d-k-5/5]: 100%|██████████| 32/32 [00:11<00:00,  2.78epoch/s, training-loss=0.296, training-accuracy=0.895, validation-loss=0.586, validation-accuracy=0.78, best-validation-accuracy=0.797, best-training-accuracy=0.832] \n",
      "[training-s3d-h-5/5]: 100%|██████████| 32/32 [00:10<00:00,  2.91epoch/s, training-loss=1.08, training-accuracy=0.43, validation-loss=1.08, validation-accuracy=0.375, best-validation-accuracy=0.437, best-training-accuracy=0.385] \n",
      "[training-slowfast-5/5]: 100%|██████████| 32/32 [00:10<00:00,  2.96epoch/s, training-loss=0.401, training-accuracy=0.837, validation-loss=0.521, validation-accuracy=0.802, best-validation-accuracy=0.836, best-training-accuracy=0.763]\n",
      "[training-vivit-5/5]: 100%|██████████| 32/32 [00:10<00:00,  2.95epoch/s, training-loss=0.235, training-accuracy=0.904, validation-loss=0.503, validation-accuracy=0.832, best-validation-accuracy=0.805, best-training-accuracy=0.884]\n"
     ]
    }
   ],
   "source": [
    "NUMBER_OF_FOLDS = 5\n",
    "NUMBER_ANNOTATED_VIDEOS = 22\n",
    "\n",
    "from bouldering_video_segmentation.utils import LabelEncoderFactory\n",
    "\n",
    "from experiments.helpers.trainer import Trainer, TrainerVariant\n",
    "from experiments.helpers.splits_generator import splits_generator\n",
    "from experiments.helpers.videos_to_indices import videos_to_indices\n",
    "\n",
    "hidden_size = 128\n",
    "output_size = 5\n",
    "num_layers = 1\n",
    "dropout = 0.0\n",
    "\n",
    "folds_histories: list[dict] = []\n",
    "\n",
    "for fold_index, folds in enumerate(splits_generator(dataset_length=NUMBER_ANNOTATED_VIDEOS, k=NUMBER_OF_FOLDS)):\n",
    "    histories = {}\n",
    "    \n",
    "    for dataset, extractor in zip(videos_datasets, extractors):\n",
    "        training_videos_ids, validation_videos_ids = folds\n",
    "    \n",
    "        training_dataset = WrapperDataset(torch.utils.data.Subset(dataset, training_videos_ids), transform=transform)\n",
    "        validation_dataset = WrapperDataset(torch.utils.data.Subset(dataset, validation_videos_ids), transform=transform)\n",
    "        \n",
    "        training_dataloader = torch.utils.data.DataLoader(\n",
    "            training_dataset, batch_size=4, shuffle=True, collate_fn=collate_fn\n",
    "        )\n",
    "\n",
    "        validation_dataloader = torch.utils.data.DataLoader(\n",
    "            validation_dataset, batch_size=4, shuffle=False, collate_fn=collate_fn\n",
    "        )\n",
    "        \n",
    "        if dataset[0][0].dim() == 3:\n",
    "            input_size = dataset[0][0].shape[1] * dataset[0][0].shape[2]\n",
    "        else:\n",
    "            input_size = dataset[0][0].shape[1]\n",
    "        \n",
    "        model = FullVideoLstm(input_size, hidden_size, output_size, num_layers, dropout)    \n",
    "            \n",
    "        trainer = Trainer(model=model, variant=TrainerVariant.LSTM)\n",
    "        \n",
    "        statistics = trainer.train(training_dataloader, validation_dataloader, title=f\"[training-{extractor.get_name()}-{fold_index + 1}/{NUMBER_OF_FOLDS}]\")\n",
    "        \n",
    "        histories[extractor.get_name()] = statistics\n",
    "        \n",
    "    folds_histories.append(histories)"
   ]
  },
  {
   "cell_type": "markdown",
   "metadata": {},
   "source": [
    "<div class=\"alert alert-info\">\n",
    "\n",
    "#### **5- Results**\n",
    "\n",
    "Below we are going to display the training results for each model.\n",
    "\n",
    "</div>"
   ]
  },
  {
   "cell_type": "code",
   "execution_count": 176,
   "metadata": {},
   "outputs": [],
   "source": [
    "from experiments.helpers.training_results_visualization import aggregate_training_results"
   ]
  },
  {
   "cell_type": "code",
   "execution_count": 177,
   "metadata": {},
   "outputs": [],
   "source": [
    "aggregated_training_results = aggregate_training_results(folds_histories)\n",
    "\n",
    "models_training_accuracies = aggregated_training_results.models_training_accuracies\n",
    "models_validation_accuracies = aggregated_training_results.models_validation_accuracies\n",
    "models_training_losses = aggregated_training_results.models_training_losses\n",
    "models_validation_losses = aggregated_training_results.models_validation_losses"
   ]
  },
  {
   "cell_type": "code",
   "execution_count": 178,
   "metadata": {},
   "outputs": [],
   "source": [
    "import matplotlib.pyplot as plt"
   ]
  },
  {
   "cell_type": "code",
   "execution_count": 179,
   "metadata": {},
   "outputs": [],
   "source": [
    "from experiments.helpers.training_results_visualization import Metric\n",
    "from experiments.helpers.training_results_visualization import plot_models_performance, plot_models_comparison"
   ]
  },
  {
   "cell_type": "code",
   "execution_count": 180,
   "metadata": {},
   "outputs": [
    {
     "data": {
      "text/plain": [
       "<Figure size 1000x500 with 0 Axes>"
      ]
     },
     "metadata": {},
     "output_type": "display_data"
    },
    {
     "data": {
      "image/png": "[encoded data removed]",
      "text/plain": [
       "<Figure size 675x337.5 with 2 Axes>"
      ]
     },
     "metadata": {},
     "output_type": "display_data"
    },
    {
     "data": {
      "image/png": "[encoded data removed]",
      "text/plain": [
       "<Figure size 640x480 with 1 Axes>"
      ]
     },
     "metadata": {},
     "output_type": "display_data"
    }
   ],
   "source": [
    "plot_models_performance(\n",
    "    aggregated_training_results,\n",
    "    Metric.ALL\n",
    ")\n",
    "\n",
    "plt.tight_layout()\n",
    "\n",
    "plt.show()\n",
    "\n",
    "plot_models_comparison(\n",
    "    aggregated_training_results,\n",
    "    Metric.ACCURACY\n",
    ")\n",
    "\n",
    "plt.tight_layout()\n",
    "\n",
    "plt.show()"
   ]
  },
  {
   "cell_type": "code",
   "execution_count": 106,
   "metadata": {},
   "outputs": [
    {
     "name": "stdout",
     "output_type": "stream",
     "text": [
      "<THIS IS A SEPARATION LINE> & <THIS IS A SEPARATION LINE> & <THIS IS A SEPARATION LINE> & <THIS IS A SEPARATION LINE> \\\\\n"
     ]
    },
    {
     "data": {
      "text/plain": [
       "<Figure size 1000x500 with 0 Axes>"
      ]
     },
     "metadata": {},
     "output_type": "display_data"
    }
   ],
   "source": [
    "plot_models_performance(\n",
    "    aggregated_training_results,\n",
    "    Metric.ACCURACY\n",
    ")\n",
    "\n",
    "plt.tight_layout()\n",
    "\n",
    "plt.savefig(\"../assets/figures/lstm.training-results.boxplot.png\")\n",
    "\n",
    "plt.close()\n",
    "\n",
    "# --- --- --- ---- ---\n",
    "\n",
    "plot_models_comparison(\n",
    "    aggregated_training_results,\n",
    "    Metric.ACCURACY\n",
    ")\n",
    "\n",
    "plt.tight_layout()\n",
    "\n",
    "plt.savefig(\"../assets/figures/lstm.training-results.scatter.png\")\n",
    "\n",
    "plt.close()"
   ]
  },
  {
   "cell_type": "code",
   "execution_count": 183,
   "metadata": {},
   "outputs": [],
   "source": [
    "import pandas as pd\n",
    "\n",
    "from experiments.helpers.training_results_visualization import create_performance_dataframe, write_latex_table\n",
    "\n",
    "from experiments.helpers.training_results_visualization import generate_models_per_class_accuracies_dataframe\n",
    "\n",
    "per_class_accuracy_dataframe = generate_models_per_class_accuracies_dataframe(aggregated_training_results, [1, 4])\n",
    "\n",
    "per_class_accuracy_dataframe\n",
    "\n",
    "# --- --- --- ---\n",
    "\n",
    "model_performance_dataframe = create_performance_dataframe(aggregated_training_results, extractors, latex=True)\n",
    "\n",
    "\n",
    "merged_dataframe = pd.merge(\n",
    "    per_class_accuracy_dataframe,\n",
    "    model_performance_dataframe,\n",
    "    left_on=\"Model\",\n",
    "    right_on=\"Backbone Name\",\n",
    "    how=\"inner\"\n",
    ")\n",
    "\n",
    "write_latex_table(\n",
    "    dataframe=merged_dataframe,\n",
    "    caption=\"LSTM Models Performance Results.\",\n",
    "    path=\"../assets/tables/lstm.training-results.tex\",\n",
    ")"
   ]
  },
  {
   "cell_type": "code",
   "execution_count": null,
   "metadata": {},
   "outputs": [
    {
     "name": "stderr",
     "output_type": "stream",
     "text": [
      "<>:8: SyntaxWarning: invalid escape sequence '\\#'\n",
      "<>:8: SyntaxWarning: invalid escape sequence '\\#'\n",
      "/var/folders/hl/2fydtkj52y941xk_cs8nh5200000gn/T/ipykernel_31047/38798940.py:8: SyntaxWarning: invalid escape sequence '\\#'\n",
      "  dataframe['\\#Parameters'] = [f\"{extractor.get_number_of_params()}\" for extractor in extractors]\n"
     ]
    }
   ],
   "source": [
    "dataframe = create_performance_dataframe(aggregated_training_results, extractors)\n",
    "\n",
    "markdown_content = \"# Pre-Trained Models\\n\\n\"\n",
    "\n",
    "dataframe['Type'] = [f\"`{extractor.get_features_type()}`\" for extractor in extractors]\n",
    "dataframe['Model'] = [f\"`LSTM`\" for extractor in extractors]\n",
    "dataframe['Size'] = [f\"{extractor.get_number_of_params()}\" for extractor in extractors]\n",
    "dataframe['Download Link'] = [f\"[Download Weights](https://github.com/raideno/bouldering-video-segmentation/blob/main/models-weights/lstm.{extractor.get_name()}.pt)\" for extractor in extractors]\n",
    "\n",
    "markdown_table = dataframe.to_markdown(index=False)\n",
    "\n",
    "markdown_content += markdown_table\n",
    "\n",
    "with open(\"../models-weights/lstm.README.md\", \"w\") as file:\n",
    "    file.write(markdown_content)"
   ]
  },
  {
   "cell_type": "markdown",
   "metadata": {},
   "source": [
    "<div class=\"alert alert-info\">\n",
    "\n",
    "#### **6- Saving Models Weights**\n",
    "\n",
    "Below we are going to save the models weights and results.\n",
    "\n",
    "</div>"
   ]
  },
  {
   "cell_type": "code",
   "execution_count": 161,
   "metadata": {},
   "outputs": [
    {
     "name": "stderr",
     "output_type": "stream",
     "text": [
      "[training-yolo/5]:   0%|          | 0/32 [00:00<?, ?epoch/s]\n"
     ]
    },
    {
     "ename": "ValueError",
     "evalue": "multiclass-multioutput is not supported",
     "output_type": "error",
     "traceback": [
      "\u001b[0;31m---------------------------------------------------------------------------\u001b[0m",
      "\u001b[0;31mValueError\u001b[0m                                Traceback (most recent call last)",
      "Cell \u001b[0;32mIn[161], line 41\u001b[0m\n\u001b[1;32m     37\u001b[0m model \u001b[38;5;241m=\u001b[39m FullVideoLstm(input_size, hidden_size, output_size, num_layers, dropout)    \n\u001b[1;32m     39\u001b[0m trainer \u001b[38;5;241m=\u001b[39m Trainer(model\u001b[38;5;241m=\u001b[39mmodel, variant\u001b[38;5;241m=\u001b[39mTrainerVariant\u001b[38;5;241m.\u001b[39mLSTM, scores\u001b[38;5;241m=\u001b[39mscores)\n\u001b[0;32m---> 41\u001b[0m statistics \u001b[38;5;241m=\u001b[39m \u001b[43mtrainer\u001b[49m\u001b[38;5;241;43m.\u001b[39;49m\u001b[43mtrain\u001b[49m\u001b[43m(\u001b[49m\u001b[43mtraining_dataloader\u001b[49m\u001b[43m,\u001b[49m\u001b[43m \u001b[49m\u001b[43mvalidation_dataloader\u001b[49m\u001b[43m,\u001b[49m\u001b[43m \u001b[49m\u001b[43mtitle\u001b[49m\u001b[38;5;241;43m=\u001b[39;49m\u001b[38;5;124;43mf\u001b[39;49m\u001b[38;5;124;43m\"\u001b[39;49m\u001b[38;5;124;43m[training-\u001b[39;49m\u001b[38;5;132;43;01m{\u001b[39;49;00m\u001b[43mextractor\u001b[49m\u001b[38;5;241;43m.\u001b[39;49m\u001b[43mget_name\u001b[49m\u001b[43m(\u001b[49m\u001b[43m)\u001b[49m\u001b[38;5;132;43;01m}\u001b[39;49;00m\u001b[38;5;124;43m/\u001b[39;49m\u001b[38;5;132;43;01m{\u001b[39;49;00m\u001b[43mNUMBER_OF_FOLDS\u001b[49m\u001b[38;5;132;43;01m}\u001b[39;49;00m\u001b[38;5;124;43m]\u001b[39;49m\u001b[38;5;124;43m\"\u001b[39;49m\u001b[43m)\u001b[49m\n\u001b[1;32m     43\u001b[0m best_model_state_dict \u001b[38;5;241m=\u001b[39m statistics[\u001b[38;5;124m\"\u001b[39m\u001b[38;5;124mbest_model_state_dict\u001b[39m\u001b[38;5;124m\"\u001b[39m]\n\u001b[1;32m     45\u001b[0m \u001b[38;5;66;03m# torch.save(best_model_state_dict, f\"../models-weights/mlp.{extractor.get_name()}.pt\")\u001b[39;00m\n",
      "File \u001b[0;32m~/Documents/code/experiments/helpers/trainer.py:170\u001b[0m, in \u001b[0;36mTrainer.train\u001b[0;34m(self, training_dataloader, validation_loader, title)\u001b[0m\n\u001b[1;32m    168\u001b[0m \u001b[38;5;28;01mwith\u001b[39;00m tqdm\u001b[38;5;241m.\u001b[39mtqdm(iterable\u001b[38;5;241m=\u001b[39m\u001b[38;5;28mrange\u001b[39m(\u001b[38;5;241m32\u001b[39m), desc\u001b[38;5;241m=\u001b[39mtitle \u001b[38;5;129;01mor\u001b[39;00m \u001b[38;5;124m\"\u001b[39m\u001b[38;5;124m[training]\u001b[39m\u001b[38;5;124m\"\u001b[39m, unit\u001b[38;5;241m=\u001b[39m\u001b[38;5;124m\"\u001b[39m\u001b[38;5;124mepoch\u001b[39m\u001b[38;5;124m\"\u001b[39m) \u001b[38;5;28;01mas\u001b[39;00m progress_bar:\n\u001b[1;32m    169\u001b[0m     \u001b[38;5;28;01mfor\u001b[39;00m epoch \u001b[38;5;129;01min\u001b[39;00m progress_bar:\n\u001b[0;32m--> 170\u001b[0m         training_loss, training_accuracy, training_scores \u001b[38;5;241m=\u001b[39m \u001b[38;5;28;43mself\u001b[39;49m\u001b[38;5;241;43m.\u001b[39;49m\u001b[43m__train_one_epoch\u001b[49m\u001b[43m(\u001b[49m\u001b[43mtraining_dataloader\u001b[49m\u001b[43m,\u001b[49m\u001b[43m \u001b[49m\u001b[43mlearning_rate\u001b[49m\u001b[38;5;241;43m=\u001b[39;49m\u001b[38;5;241;43m0.001\u001b[39;49m\u001b[43m)\u001b[49m\n\u001b[1;32m    171\u001b[0m         validation_loss, validation_accuracy, validation_scores \u001b[38;5;241m=\u001b[39m \u001b[38;5;28mself\u001b[39m\u001b[38;5;241m.\u001b[39mvalidate(validation_loader)\n\u001b[1;32m    173\u001b[0m         \u001b[38;5;66;03m# NOTE: store history\u001b[39;00m\n",
      "File \u001b[0;32m~/Documents/code/experiments/helpers/trainer.py:78\u001b[0m, in \u001b[0;36mTrainer.__train_one_epoch\u001b[0;34m(self, training_dataloader, learning_rate)\u001b[0m\n\u001b[1;32m     75\u001b[0m     total \u001b[38;5;241m+\u001b[39m\u001b[38;5;241m=\u001b[39m labels\u001b[38;5;241m.\u001b[39msize(\u001b[38;5;241m0\u001b[39m) \u001b[38;5;241m*\u001b[39m labels\u001b[38;5;241m.\u001b[39msize(\u001b[38;5;241m1\u001b[39m)  \u001b[38;5;66;03m# batch_size * sequence_length\u001b[39;00m\n\u001b[1;32m     76\u001b[0m     correct \u001b[38;5;241m+\u001b[39m\u001b[38;5;241m=\u001b[39m (predicted \u001b[38;5;241m==\u001b[39m labels)\u001b[38;5;241m.\u001b[39msum()\u001b[38;5;241m.\u001b[39mitem()\n\u001b[0;32m---> 78\u001b[0m     total_scores_evaluations \u001b[38;5;241m=\u001b[39m {name: total_scores_evaluations[name] \u001b[38;5;241m+\u001b[39m \u001b[43mscore\u001b[49m\u001b[43m(\u001b[49m\u001b[43mpredicted\u001b[49m\u001b[43m,\u001b[49m\u001b[43m \u001b[49m\u001b[43mlabels\u001b[49m\u001b[43m)\u001b[49m \u001b[38;5;28;01mfor\u001b[39;00m name, score \u001b[38;5;129;01min\u001b[39;00m \u001b[38;5;28mself\u001b[39m\u001b[38;5;241m.\u001b[39mscores\u001b[38;5;241m.\u001b[39mitems()}\n\u001b[1;32m     80\u001b[0m total_loss \u001b[38;5;241m+\u001b[39m\u001b[38;5;241m=\u001b[39m loss\u001b[38;5;241m.\u001b[39mitem()\n\u001b[1;32m     81\u001b[0m num_batches \u001b[38;5;241m+\u001b[39m\u001b[38;5;241m=\u001b[39m \u001b[38;5;241m1\u001b[39m\n",
      "File \u001b[0;32m~/Documents/code/.venv/lib/python3.12/site-packages/tas_helpers/metrics/f1.py:4\u001b[0m, in \u001b[0;36mf1_score\u001b[0;34m(y_true, y_pred)\u001b[0m\n\u001b[1;32m      3\u001b[0m \u001b[38;5;28;01mdef\u001b[39;00m \u001b[38;5;21mf1_score\u001b[39m(y_true, y_pred):\n\u001b[0;32m----> 4\u001b[0m     \u001b[38;5;28;01mreturn\u001b[39;00m \u001b[43msk_f1_score\u001b[49m\u001b[43m(\u001b[49m\u001b[43my_true\u001b[49m\u001b[43m,\u001b[49m\u001b[43m \u001b[49m\u001b[43my_pred\u001b[49m\u001b[43m,\u001b[49m\u001b[43m \u001b[49m\u001b[43maverage\u001b[49m\u001b[38;5;241;43m=\u001b[39;49m\u001b[38;5;124;43m'\u001b[39;49m\u001b[38;5;124;43mweighted\u001b[39;49m\u001b[38;5;124;43m'\u001b[39;49m\u001b[43m)\u001b[49m\n",
      "File \u001b[0;32m~/Documents/code/.venv/lib/python3.12/site-packages/sklearn/utils/_param_validation.py:213\u001b[0m, in \u001b[0;36mvalidate_params.<locals>.decorator.<locals>.wrapper\u001b[0;34m(*args, **kwargs)\u001b[0m\n\u001b[1;32m    207\u001b[0m \u001b[38;5;28;01mtry\u001b[39;00m:\n\u001b[1;32m    208\u001b[0m     \u001b[38;5;28;01mwith\u001b[39;00m config_context(\n\u001b[1;32m    209\u001b[0m         skip_parameter_validation\u001b[38;5;241m=\u001b[39m(\n\u001b[1;32m    210\u001b[0m             prefer_skip_nested_validation \u001b[38;5;129;01mor\u001b[39;00m global_skip_validation\n\u001b[1;32m    211\u001b[0m         )\n\u001b[1;32m    212\u001b[0m     ):\n\u001b[0;32m--> 213\u001b[0m         \u001b[38;5;28;01mreturn\u001b[39;00m \u001b[43mfunc\u001b[49m\u001b[43m(\u001b[49m\u001b[38;5;241;43m*\u001b[39;49m\u001b[43margs\u001b[49m\u001b[43m,\u001b[49m\u001b[43m \u001b[49m\u001b[38;5;241;43m*\u001b[39;49m\u001b[38;5;241;43m*\u001b[39;49m\u001b[43mkwargs\u001b[49m\u001b[43m)\u001b[49m\n\u001b[1;32m    214\u001b[0m \u001b[38;5;28;01mexcept\u001b[39;00m InvalidParameterError \u001b[38;5;28;01mas\u001b[39;00m e:\n\u001b[1;32m    215\u001b[0m     \u001b[38;5;66;03m# When the function is just a wrapper around an estimator, we allow\u001b[39;00m\n\u001b[1;32m    216\u001b[0m     \u001b[38;5;66;03m# the function to delegate validation to the estimator, but we replace\u001b[39;00m\n\u001b[1;32m    217\u001b[0m     \u001b[38;5;66;03m# the name of the estimator by the name of the function in the error\u001b[39;00m\n\u001b[1;32m    218\u001b[0m     \u001b[38;5;66;03m# message to avoid confusion.\u001b[39;00m\n\u001b[1;32m    219\u001b[0m     msg \u001b[38;5;241m=\u001b[39m re\u001b[38;5;241m.\u001b[39msub(\n\u001b[1;32m    220\u001b[0m         \u001b[38;5;124mr\u001b[39m\u001b[38;5;124m\"\u001b[39m\u001b[38;5;124mparameter of \u001b[39m\u001b[38;5;124m\\\u001b[39m\u001b[38;5;124mw+ must be\u001b[39m\u001b[38;5;124m\"\u001b[39m,\n\u001b[1;32m    221\u001b[0m         \u001b[38;5;124mf\u001b[39m\u001b[38;5;124m\"\u001b[39m\u001b[38;5;124mparameter of \u001b[39m\u001b[38;5;132;01m{\u001b[39;00mfunc\u001b[38;5;241m.\u001b[39m\u001b[38;5;18m__qualname__\u001b[39m\u001b[38;5;132;01m}\u001b[39;00m\u001b[38;5;124m must be\u001b[39m\u001b[38;5;124m\"\u001b[39m,\n\u001b[1;32m    222\u001b[0m         \u001b[38;5;28mstr\u001b[39m(e),\n\u001b[1;32m    223\u001b[0m     )\n",
      "File \u001b[0;32m~/Documents/code/.venv/lib/python3.12/site-packages/sklearn/metrics/_classification.py:1293\u001b[0m, in \u001b[0;36mf1_score\u001b[0;34m(y_true, y_pred, labels, pos_label, average, sample_weight, zero_division)\u001b[0m\n\u001b[1;32m   1113\u001b[0m \u001b[38;5;129m@validate_params\u001b[39m(\n\u001b[1;32m   1114\u001b[0m     {\n\u001b[1;32m   1115\u001b[0m         \u001b[38;5;124m\"\u001b[39m\u001b[38;5;124my_true\u001b[39m\u001b[38;5;124m\"\u001b[39m: [\u001b[38;5;124m\"\u001b[39m\u001b[38;5;124marray-like\u001b[39m\u001b[38;5;124m\"\u001b[39m, \u001b[38;5;124m\"\u001b[39m\u001b[38;5;124msparse matrix\u001b[39m\u001b[38;5;124m\"\u001b[39m],\n\u001b[0;32m   (...)\u001b[0m\n\u001b[1;32m   1140\u001b[0m     zero_division\u001b[38;5;241m=\u001b[39m\u001b[38;5;124m\"\u001b[39m\u001b[38;5;124mwarn\u001b[39m\u001b[38;5;124m\"\u001b[39m,\n\u001b[1;32m   1141\u001b[0m ):\n\u001b[1;32m   1142\u001b[0m \u001b[38;5;250m    \u001b[39m\u001b[38;5;124;03m\"\"\"Compute the F1 score, also known as balanced F-score or F-measure.\u001b[39;00m\n\u001b[1;32m   1143\u001b[0m \n\u001b[1;32m   1144\u001b[0m \u001b[38;5;124;03m    The F1 score can be interpreted as a harmonic mean of the precision and\u001b[39;00m\n\u001b[0;32m   (...)\u001b[0m\n\u001b[1;32m   1291\u001b[0m \u001b[38;5;124;03m    array([0.66666667, 1.        , 0.66666667])\u001b[39;00m\n\u001b[1;32m   1292\u001b[0m \u001b[38;5;124;03m    \"\"\"\u001b[39;00m\n\u001b[0;32m-> 1293\u001b[0m     \u001b[38;5;28;01mreturn\u001b[39;00m \u001b[43mfbeta_score\u001b[49m\u001b[43m(\u001b[49m\n\u001b[1;32m   1294\u001b[0m \u001b[43m        \u001b[49m\u001b[43my_true\u001b[49m\u001b[43m,\u001b[49m\n\u001b[1;32m   1295\u001b[0m \u001b[43m        \u001b[49m\u001b[43my_pred\u001b[49m\u001b[43m,\u001b[49m\n\u001b[1;32m   1296\u001b[0m \u001b[43m        \u001b[49m\u001b[43mbeta\u001b[49m\u001b[38;5;241;43m=\u001b[39;49m\u001b[38;5;241;43m1\u001b[39;49m\u001b[43m,\u001b[49m\n\u001b[1;32m   1297\u001b[0m \u001b[43m        \u001b[49m\u001b[43mlabels\u001b[49m\u001b[38;5;241;43m=\u001b[39;49m\u001b[43mlabels\u001b[49m\u001b[43m,\u001b[49m\n\u001b[1;32m   1298\u001b[0m \u001b[43m        \u001b[49m\u001b[43mpos_label\u001b[49m\u001b[38;5;241;43m=\u001b[39;49m\u001b[43mpos_label\u001b[49m\u001b[43m,\u001b[49m\n\u001b[1;32m   1299\u001b[0m \u001b[43m        \u001b[49m\u001b[43maverage\u001b[49m\u001b[38;5;241;43m=\u001b[39;49m\u001b[43maverage\u001b[49m\u001b[43m,\u001b[49m\n\u001b[1;32m   1300\u001b[0m \u001b[43m        \u001b[49m\u001b[43msample_weight\u001b[49m\u001b[38;5;241;43m=\u001b[39;49m\u001b[43msample_weight\u001b[49m\u001b[43m,\u001b[49m\n\u001b[1;32m   1301\u001b[0m \u001b[43m        \u001b[49m\u001b[43mzero_division\u001b[49m\u001b[38;5;241;43m=\u001b[39;49m\u001b[43mzero_division\u001b[49m\u001b[43m,\u001b[49m\n\u001b[1;32m   1302\u001b[0m \u001b[43m    \u001b[49m\u001b[43m)\u001b[49m\n",
      "File \u001b[0;32m~/Documents/code/.venv/lib/python3.12/site-packages/sklearn/utils/_param_validation.py:186\u001b[0m, in \u001b[0;36mvalidate_params.<locals>.decorator.<locals>.wrapper\u001b[0;34m(*args, **kwargs)\u001b[0m\n\u001b[1;32m    184\u001b[0m global_skip_validation \u001b[38;5;241m=\u001b[39m get_config()[\u001b[38;5;124m\"\u001b[39m\u001b[38;5;124mskip_parameter_validation\u001b[39m\u001b[38;5;124m\"\u001b[39m]\n\u001b[1;32m    185\u001b[0m \u001b[38;5;28;01mif\u001b[39;00m global_skip_validation:\n\u001b[0;32m--> 186\u001b[0m     \u001b[38;5;28;01mreturn\u001b[39;00m \u001b[43mfunc\u001b[49m\u001b[43m(\u001b[49m\u001b[38;5;241;43m*\u001b[39;49m\u001b[43margs\u001b[49m\u001b[43m,\u001b[49m\u001b[43m \u001b[49m\u001b[38;5;241;43m*\u001b[39;49m\u001b[38;5;241;43m*\u001b[39;49m\u001b[43mkwargs\u001b[49m\u001b[43m)\u001b[49m\n\u001b[1;32m    188\u001b[0m func_sig \u001b[38;5;241m=\u001b[39m signature(func)\n\u001b[1;32m    190\u001b[0m \u001b[38;5;66;03m# Map *args/**kwargs to the function signature\u001b[39;00m\n",
      "File \u001b[0;32m~/Documents/code/.venv/lib/python3.12/site-packages/sklearn/metrics/_classification.py:1485\u001b[0m, in \u001b[0;36mfbeta_score\u001b[0;34m(y_true, y_pred, beta, labels, pos_label, average, sample_weight, zero_division)\u001b[0m\n\u001b[1;32m   1305\u001b[0m \u001b[38;5;129m@validate_params\u001b[39m(\n\u001b[1;32m   1306\u001b[0m     {\n\u001b[1;32m   1307\u001b[0m         \u001b[38;5;124m\"\u001b[39m\u001b[38;5;124my_true\u001b[39m\u001b[38;5;124m\"\u001b[39m: [\u001b[38;5;124m\"\u001b[39m\u001b[38;5;124marray-like\u001b[39m\u001b[38;5;124m\"\u001b[39m, \u001b[38;5;124m\"\u001b[39m\u001b[38;5;124msparse matrix\u001b[39m\u001b[38;5;124m\"\u001b[39m],\n\u001b[0;32m   (...)\u001b[0m\n\u001b[1;32m   1334\u001b[0m     zero_division\u001b[38;5;241m=\u001b[39m\u001b[38;5;124m\"\u001b[39m\u001b[38;5;124mwarn\u001b[39m\u001b[38;5;124m\"\u001b[39m,\n\u001b[1;32m   1335\u001b[0m ):\n\u001b[1;32m   1336\u001b[0m \u001b[38;5;250m    \u001b[39m\u001b[38;5;124;03m\"\"\"Compute the F-beta score.\u001b[39;00m\n\u001b[1;32m   1337\u001b[0m \n\u001b[1;32m   1338\u001b[0m \u001b[38;5;124;03m    The F-beta score is the weighted harmonic mean of precision and recall,\u001b[39;00m\n\u001b[0;32m   (...)\u001b[0m\n\u001b[1;32m   1482\u001b[0m \u001b[38;5;124;03m    np.float64(0.12...)\u001b[39;00m\n\u001b[1;32m   1483\u001b[0m \u001b[38;5;124;03m    \"\"\"\u001b[39;00m\n\u001b[0;32m-> 1485\u001b[0m     _, _, f, _ \u001b[38;5;241m=\u001b[39m \u001b[43mprecision_recall_fscore_support\u001b[49m\u001b[43m(\u001b[49m\n\u001b[1;32m   1486\u001b[0m \u001b[43m        \u001b[49m\u001b[43my_true\u001b[49m\u001b[43m,\u001b[49m\n\u001b[1;32m   1487\u001b[0m \u001b[43m        \u001b[49m\u001b[43my_pred\u001b[49m\u001b[43m,\u001b[49m\n\u001b[1;32m   1488\u001b[0m \u001b[43m        \u001b[49m\u001b[43mbeta\u001b[49m\u001b[38;5;241;43m=\u001b[39;49m\u001b[43mbeta\u001b[49m\u001b[43m,\u001b[49m\n\u001b[1;32m   1489\u001b[0m \u001b[43m        \u001b[49m\u001b[43mlabels\u001b[49m\u001b[38;5;241;43m=\u001b[39;49m\u001b[43mlabels\u001b[49m\u001b[43m,\u001b[49m\n\u001b[1;32m   1490\u001b[0m \u001b[43m        \u001b[49m\u001b[43mpos_label\u001b[49m\u001b[38;5;241;43m=\u001b[39;49m\u001b[43mpos_label\u001b[49m\u001b[43m,\u001b[49m\n\u001b[1;32m   1491\u001b[0m \u001b[43m        \u001b[49m\u001b[43maverage\u001b[49m\u001b[38;5;241;43m=\u001b[39;49m\u001b[43maverage\u001b[49m\u001b[43m,\u001b[49m\n\u001b[1;32m   1492\u001b[0m \u001b[43m        \u001b[49m\u001b[43mwarn_for\u001b[49m\u001b[38;5;241;43m=\u001b[39;49m\u001b[43m(\u001b[49m\u001b[38;5;124;43m\"\u001b[39;49m\u001b[38;5;124;43mf-score\u001b[39;49m\u001b[38;5;124;43m\"\u001b[39;49m\u001b[43m,\u001b[49m\u001b[43m)\u001b[49m\u001b[43m,\u001b[49m\n\u001b[1;32m   1493\u001b[0m \u001b[43m        \u001b[49m\u001b[43msample_weight\u001b[49m\u001b[38;5;241;43m=\u001b[39;49m\u001b[43msample_weight\u001b[49m\u001b[43m,\u001b[49m\n\u001b[1;32m   1494\u001b[0m \u001b[43m        \u001b[49m\u001b[43mzero_division\u001b[49m\u001b[38;5;241;43m=\u001b[39;49m\u001b[43mzero_division\u001b[49m\u001b[43m,\u001b[49m\n\u001b[1;32m   1495\u001b[0m \u001b[43m    \u001b[49m\u001b[43m)\u001b[49m\n\u001b[1;32m   1496\u001b[0m     \u001b[38;5;28;01mreturn\u001b[39;00m f\n",
      "File \u001b[0;32m~/Documents/code/.venv/lib/python3.12/site-packages/sklearn/utils/_param_validation.py:186\u001b[0m, in \u001b[0;36mvalidate_params.<locals>.decorator.<locals>.wrapper\u001b[0;34m(*args, **kwargs)\u001b[0m\n\u001b[1;32m    184\u001b[0m global_skip_validation \u001b[38;5;241m=\u001b[39m get_config()[\u001b[38;5;124m\"\u001b[39m\u001b[38;5;124mskip_parameter_validation\u001b[39m\u001b[38;5;124m\"\u001b[39m]\n\u001b[1;32m    185\u001b[0m \u001b[38;5;28;01mif\u001b[39;00m global_skip_validation:\n\u001b[0;32m--> 186\u001b[0m     \u001b[38;5;28;01mreturn\u001b[39;00m \u001b[43mfunc\u001b[49m\u001b[43m(\u001b[49m\u001b[38;5;241;43m*\u001b[39;49m\u001b[43margs\u001b[49m\u001b[43m,\u001b[49m\u001b[43m \u001b[49m\u001b[38;5;241;43m*\u001b[39;49m\u001b[38;5;241;43m*\u001b[39;49m\u001b[43mkwargs\u001b[49m\u001b[43m)\u001b[49m\n\u001b[1;32m    188\u001b[0m func_sig \u001b[38;5;241m=\u001b[39m signature(func)\n\u001b[1;32m    190\u001b[0m \u001b[38;5;66;03m# Map *args/**kwargs to the function signature\u001b[39;00m\n",
      "File \u001b[0;32m~/Documents/code/.venv/lib/python3.12/site-packages/sklearn/metrics/_classification.py:1789\u001b[0m, in \u001b[0;36mprecision_recall_fscore_support\u001b[0;34m(y_true, y_pred, beta, labels, pos_label, average, warn_for, sample_weight, zero_division)\u001b[0m\n\u001b[1;32m   1626\u001b[0m \u001b[38;5;250m\u001b[39m\u001b[38;5;124;03m\"\"\"Compute precision, recall, F-measure and support for each class.\u001b[39;00m\n\u001b[1;32m   1627\u001b[0m \n\u001b[1;32m   1628\u001b[0m \u001b[38;5;124;03mThe precision is the ratio ``tp / (tp + fp)`` where ``tp`` is the number of\u001b[39;00m\n\u001b[0;32m   (...)\u001b[0m\n\u001b[1;32m   1786\u001b[0m \u001b[38;5;124;03m array([2, 2, 2]))\u001b[39;00m\n\u001b[1;32m   1787\u001b[0m \u001b[38;5;124;03m\"\"\"\u001b[39;00m\n\u001b[1;32m   1788\u001b[0m _check_zero_division(zero_division)\n\u001b[0;32m-> 1789\u001b[0m labels \u001b[38;5;241m=\u001b[39m \u001b[43m_check_set_wise_labels\u001b[49m\u001b[43m(\u001b[49m\u001b[43my_true\u001b[49m\u001b[43m,\u001b[49m\u001b[43m \u001b[49m\u001b[43my_pred\u001b[49m\u001b[43m,\u001b[49m\u001b[43m \u001b[49m\u001b[43maverage\u001b[49m\u001b[43m,\u001b[49m\u001b[43m \u001b[49m\u001b[43mlabels\u001b[49m\u001b[43m,\u001b[49m\u001b[43m \u001b[49m\u001b[43mpos_label\u001b[49m\u001b[43m)\u001b[49m\n\u001b[1;32m   1791\u001b[0m \u001b[38;5;66;03m# Calculate tp_sum, pred_sum, true_sum ###\u001b[39;00m\n\u001b[1;32m   1792\u001b[0m samplewise \u001b[38;5;241m=\u001b[39m average \u001b[38;5;241m==\u001b[39m \u001b[38;5;124m\"\u001b[39m\u001b[38;5;124msamples\u001b[39m\u001b[38;5;124m\"\u001b[39m\n",
      "File \u001b[0;32m~/Documents/code/.venv/lib/python3.12/site-packages/sklearn/metrics/_classification.py:1561\u001b[0m, in \u001b[0;36m_check_set_wise_labels\u001b[0;34m(y_true, y_pred, average, labels, pos_label)\u001b[0m\n\u001b[1;32m   1558\u001b[0m \u001b[38;5;28;01mif\u001b[39;00m average \u001b[38;5;129;01mnot\u001b[39;00m \u001b[38;5;129;01min\u001b[39;00m average_options \u001b[38;5;129;01mand\u001b[39;00m average \u001b[38;5;241m!=\u001b[39m \u001b[38;5;124m\"\u001b[39m\u001b[38;5;124mbinary\u001b[39m\u001b[38;5;124m\"\u001b[39m:\n\u001b[1;32m   1559\u001b[0m     \u001b[38;5;28;01mraise\u001b[39;00m \u001b[38;5;167;01mValueError\u001b[39;00m(\u001b[38;5;124m\"\u001b[39m\u001b[38;5;124maverage has to be one of \u001b[39m\u001b[38;5;124m\"\u001b[39m \u001b[38;5;241m+\u001b[39m \u001b[38;5;28mstr\u001b[39m(average_options))\n\u001b[0;32m-> 1561\u001b[0m y_type, y_true, y_pred \u001b[38;5;241m=\u001b[39m \u001b[43m_check_targets\u001b[49m\u001b[43m(\u001b[49m\u001b[43my_true\u001b[49m\u001b[43m,\u001b[49m\u001b[43m \u001b[49m\u001b[43my_pred\u001b[49m\u001b[43m)\u001b[49m\n\u001b[1;32m   1562\u001b[0m \u001b[38;5;66;03m# Convert to Python primitive type to avoid NumPy type / Python str\u001b[39;00m\n\u001b[1;32m   1563\u001b[0m \u001b[38;5;66;03m# comparison. See https://github.com/numpy/numpy/issues/6784\u001b[39;00m\n\u001b[1;32m   1564\u001b[0m present_labels \u001b[38;5;241m=\u001b[39m unique_labels(y_true, y_pred)\u001b[38;5;241m.\u001b[39mtolist()\n",
      "File \u001b[0;32m~/Documents/code/.venv/lib/python3.12/site-packages/sklearn/metrics/_classification.py:123\u001b[0m, in \u001b[0;36m_check_targets\u001b[0;34m(y_true, y_pred)\u001b[0m\n\u001b[1;32m    121\u001b[0m \u001b[38;5;66;03m# No metrics support \"multiclass-multioutput\" format\u001b[39;00m\n\u001b[1;32m    122\u001b[0m \u001b[38;5;28;01mif\u001b[39;00m y_type \u001b[38;5;129;01mnot\u001b[39;00m \u001b[38;5;129;01min\u001b[39;00m [\u001b[38;5;124m\"\u001b[39m\u001b[38;5;124mbinary\u001b[39m\u001b[38;5;124m\"\u001b[39m, \u001b[38;5;124m\"\u001b[39m\u001b[38;5;124mmulticlass\u001b[39m\u001b[38;5;124m\"\u001b[39m, \u001b[38;5;124m\"\u001b[39m\u001b[38;5;124mmultilabel-indicator\u001b[39m\u001b[38;5;124m\"\u001b[39m]:\n\u001b[0;32m--> 123\u001b[0m     \u001b[38;5;28;01mraise\u001b[39;00m \u001b[38;5;167;01mValueError\u001b[39;00m(\u001b[38;5;124m\"\u001b[39m\u001b[38;5;132;01m{0}\u001b[39;00m\u001b[38;5;124m is not supported\u001b[39m\u001b[38;5;124m\"\u001b[39m\u001b[38;5;241m.\u001b[39mformat(y_type))\n\u001b[1;32m    125\u001b[0m \u001b[38;5;28;01mif\u001b[39;00m y_type \u001b[38;5;129;01min\u001b[39;00m [\u001b[38;5;124m\"\u001b[39m\u001b[38;5;124mbinary\u001b[39m\u001b[38;5;124m\"\u001b[39m, \u001b[38;5;124m\"\u001b[39m\u001b[38;5;124mmulticlass\u001b[39m\u001b[38;5;124m\"\u001b[39m]:\n\u001b[1;32m    126\u001b[0m     xp, _ \u001b[38;5;241m=\u001b[39m get_namespace(y_true, y_pred)\n",
      "\u001b[0;31mValueError\u001b[0m: multiclass-multioutput is not supported"
     ]
    }
   ],
   "source": [
    "import itertools\n",
    "\n",
    "from experiments.helpers.training_results_visualization import get_best_performing_fold\n",
    "\n",
    "fold_index = get_best_performing_fold(aggregated_training_results, Metric.ACCURACY)\n",
    "\n",
    "folds = next(itertools.islice(splits_generator(dataset_length=NUMBER_ANNOTATED_VIDEOS, k=NUMBER_OF_FOLDS), fold_index, fold_index + 1))\n",
    "\n",
    "# --- --- --- ---\n",
    "\n",
    "hidden_size = 128\n",
    "output_size = 5\n",
    "num_layers = 1\n",
    "dropout = 0.0\n",
    "\n",
    "# --- --- --- ---\n",
    "\n",
    "training_videos_ids, validation_videos_ids = folds\n",
    "\n",
    "for dataset, extractor in zip(videos_datasets, extractors):\n",
    "    training_dataset = WrapperDataset(torch.utils.data.Subset(dataset, training_videos_ids), transform=transform)\n",
    "    validation_dataset = WrapperDataset(torch.utils.data.Subset(dataset, validation_videos_ids), transform=transform)\n",
    "    \n",
    "    training_dataloader = torch.utils.data.DataLoader(\n",
    "        training_dataset, batch_size=4, shuffle=True, collate_fn=collate_fn\n",
    "    )\n",
    "\n",
    "    validation_dataloader = torch.utils.data.DataLoader(\n",
    "        validation_dataset, batch_size=4, shuffle=False, collate_fn=collate_fn\n",
    "    )\n",
    "    \n",
    "    if dataset[0][0].dim() == 3:\n",
    "        input_size = dataset[0][0].shape[1] * dataset[0][0].shape[2]\n",
    "    else:\n",
    "        input_size = dataset[0][0].shape[1]\n",
    "    \n",
    "    model = FullVideoLstm(input_size, hidden_size, output_size, num_layers, dropout)    \n",
    "        \n",
    "    trainer = Trainer(model=model, variant=TrainerVariant.LSTM)\n",
    "    \n",
    "    statistics = trainer.train(training_dataloader, validation_dataloader, title=f\"[training-{extractor.get_name()}]\")\n",
    "    \n",
    "    best_model_state_dict = statistics[\"best_model_state_dict\"]\n",
    "    \n",
    "    torch.save(best_model_state_dict, f\"../models-weights/mlp.{extractor.get_name()}.pt\")"
   ]
  }
 ],
 "metadata": {
  "kernelspec": {
   "display_name": ".venv",
   "language": "python",
   "name": "python3"
  },
  "language_info": {
   "codemirror_mode": {
    "name": "ipython",
    "version": 3
   },
   "file_extension": ".py",
   "mimetype": "text/x-python",
   "name": "python",
   "nbconvert_exporter": "python",
   "pygments_lexer": "ipython3",
   "version": "3.12.0"
  }
 },
 "nbformat": 4,
 "nbformat_minor": 2
}
