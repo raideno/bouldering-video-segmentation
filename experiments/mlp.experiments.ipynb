{
 "cells": [
  {
   "cell_type": "markdown",
   "metadata": {},
   "source": [
    "<div class=\"alert alert-info\">\n",
    "\n",
    "#### **MLP Experiment**\n",
    "\n",
    "In this notebook we are going to train a simple linear classifier on the climbing dataset.\n",
    "\n",
    "</div>"
   ]
  },
  {
   "cell_type": "code",
   "execution_count": 50,
   "metadata": {},
   "outputs": [
    {
     "name": "stdout",
     "output_type": "stream",
     "text": [
      "The autoreload extension is already loaded. To reload it, use:\n",
      "  %reload_ext autoreload\n"
     ]
    }
   ],
   "source": [
    "%load_ext autoreload\n",
    "%autoreload 2"
   ]
  },
  {
   "cell_type": "code",
   "execution_count": 51,
   "metadata": {},
   "outputs": [],
   "source": [
    "from experiments.helpers.plots_formatting import ICML"
   ]
  },
  {
   "cell_type": "markdown",
   "metadata": {},
   "source": [
    "<div class=\"alert alert-info\">\n",
    "\n",
    "#### **1- Preliminary**\n",
    "\n",
    "We first do a preliminary work to prepare the datasets. In order to know more about this, please read the `experiments/preliminary.ipynb` notebook.\n",
    "\n",
    "</div>"
   ]
  },
  {
   "cell_type": "code",
   "execution_count": 52,
   "metadata": {},
   "outputs": [],
   "source": [
    "from experiments.helpers.preliminary import preliminary, FilteringMode, FilteringOperator"
   ]
  },
  {
   "cell_type": "code",
   "execution_count": 53,
   "metadata": {},
   "outputs": [],
   "source": [
    "# FILTERING_MODE = FilteringMode(0)\n",
    "# FILTERING_MODE = FilteringMode.NO_PERSONLESS\n",
    "# FILTERING_MODE = FilteringMode.NO_PERSONLESS | FilteringMode.NO_NOTHING_CLASS\n",
    "FILTERING_MODE = FilteringMode.NO_PERSONLESS | FilteringMode.NO_NOTHING_CLASS | FilteringMode.NO_STOPWATCH_CLASS\n",
    "# FILTERING_MODE = FilteringMode.NO_PERSONLESS | FilteringMode.NO_STOPWATCH_CLASS | FilteringMode.NO_NOTHING_CLASS | FilteringMode.NO_MULTI_CLASS"
   ]
  },
  {
   "cell_type": "code",
   "execution_count": null,
   "metadata": {},
   "outputs": [],
   "source": [
    "datasets, filtered_datasets, extractors = preliminary(\n",
    "    filtering_mode=FILTERING_MODE,\n",
    "    filtering_operator=FilteringOperator.OR,\n",
    "    ignore_frames_extraction=True\n",
    ")"
   ]
  },
  {
   "cell_type": "code",
   "execution_count": null,
   "metadata": {},
   "outputs": [
    {
     "name": "stdout",
     "output_type": "stream",
     "text": [
      "[filtering-loss]: 21.43%\n"
     ]
    }
   ],
   "source": [
    "initial_size = len(datasets[0])\n",
    "filtered_size = len(filtered_datasets[0])\n",
    "\n",
    "reduction_percentage = 100 * (initial_size - filtered_size) / initial_size\n",
    "\n",
    "print(f\"[filtering-loss]: {reduction_percentage:.2f}%\")"
   ]
  },
  {
   "cell_type": "markdown",
   "metadata": {},
   "source": [
    "<div class=\"alert alert-info\">\n",
    "\n",
    "#### **2- Model Creation**\n",
    "\n",
    "Now we'll create the model on which we'll train the features we just extracted.\n",
    "\n",
    "</div>"
   ]
  },
  {
   "cell_type": "code",
   "execution_count": null,
   "metadata": {},
   "outputs": [],
   "source": [
    "from bouldering_video_segmentation.models import VideoSegmentMlp"
   ]
  },
  {
   "cell_type": "markdown",
   "metadata": {},
   "source": [
    "<div class=\"alert alert-info\">\n",
    "\n",
    "#### **3- Training**\n",
    "\n",
    "Below we'll train our model on the different extracted features. We'll run several trainings with different feature extractors in order to do cross validation and have an accurate estimation of the model's performance.\n",
    "\n",
    "The `Trainer` class is simply a class that takes the model and train it for a given number of epochs.\n",
    "\n",
    "</div>"
   ]
  },
  {
   "cell_type": "code",
   "execution_count": null,
   "metadata": {},
   "outputs": [],
   "source": [
    "import torch\n",
    "\n",
    "class WrapperDataset(torch.utils.data.Dataset):\n",
    "    def __init__(self, dataset, transform=None):\n",
    "        self.dataset = dataset\n",
    "        self.transform = transform\n",
    "        \n",
    "    def __getitem__(self, index):\n",
    "        if self.transform:\n",
    "            return self.transform(self.dataset[index])\n",
    "        else:\n",
    "            return self.dataset[index]\n",
    "        \n",
    "    def __len__(self):\n",
    "        return len(self.dataset)"
   ]
  },
  {
   "cell_type": "code",
   "execution_count": null,
   "metadata": {},
   "outputs": [],
   "source": [
    "def transform(sample):\n",
    "    features, annotations, video_id, segment_index = sample\n",
    "    \n",
    "    return features, annotations[0]"
   ]
  },
  {
   "cell_type": "code",
   "execution_count": null,
   "metadata": {},
   "outputs": [
    {
     "name": "stderr",
     "output_type": "stream",
     "text": [
      "[dataset-mappings-construction]:: 100%|██████████| 3220/3220 [00:00<00:00, 13186.51it/s]\n",
      "[dataset-mappings-construction]:: 100%|██████████| 3220/3220 [00:00<00:00, 14624.08it/s]\n",
      "[training-yolo-1/2]: 100%|██████████| 32/32 [00:07<00:00,  4.04epoch/s, training-loss=0.727, training-accuracy=0.693, validation-loss=0.808, validation-accuracy=0.636, best-validation-accuracy=0.636, best-training-accuracy=0.693]\n",
      "[dataset-mappings-construction]:: 100%|██████████| 3220/3220 [00:00<00:00, 4672.89it/s]\n",
      "[dataset-mappings-construction]:: 100%|██████████| 3220/3220 [00:00<00:00, 14208.30it/s]\n",
      "[training-dino-1/2]: 100%|██████████| 32/32 [00:08<00:00,  3.80epoch/s, training-loss=0.277, training-accuracy=0.908, validation-loss=1.09, validation-accuracy=0.716, best-validation-accuracy=0.809, best-training-accuracy=0.843] \n",
      "[dataset-mappings-construction]:: 100%|██████████| 3220/3220 [00:00<00:00, 3807.00it/s]\n",
      "[dataset-mappings-construction]:: 100%|██████████| 3220/3220 [00:00<00:00, 13218.72it/s]\n",
      "[training-r3d-1/2]: 100%|██████████| 32/32 [00:07<00:00,  4.07epoch/s, training-loss=0.3, training-accuracy=0.897, validation-loss=0.41, validation-accuracy=0.841, best-validation-accuracy=0.872, best-training-accuracy=0.895]   \n",
      "[dataset-mappings-construction]:: 100%|██████████| 3220/3220 [00:00<00:00, 4815.92it/s]\n",
      "[dataset-mappings-construction]:: 100%|██████████| 3220/3220 [00:00<00:00, 14534.75it/s]\n",
      "[training-i3d-1/2]: 100%|██████████| 32/32 [00:08<00:00,  3.87epoch/s, training-loss=0.308, training-accuracy=0.89, validation-loss=0.496, validation-accuracy=0.8, best-validation-accuracy=0.823, best-training-accuracy=0.86]    \n",
      "[dataset-mappings-construction]:: 100%|██████████| 3220/3220 [00:00<00:00, 5883.11it/s]\n",
      "[dataset-mappings-construction]:: 100%|██████████| 3220/3220 [00:00<00:00, 14265.39it/s]\n",
      "[training-clip-1/2]: 100%|██████████| 32/32 [00:07<00:00,  4.04epoch/s, training-loss=0.246, training-accuracy=0.919, validation-loss=0.953, validation-accuracy=0.683, best-validation-accuracy=0.748, best-training-accuracy=0.817]\n",
      "[dataset-mappings-construction]:: 100%|██████████| 3220/3220 [00:00<00:00, 6743.83it/s]\n",
      "[dataset-mappings-construction]:: 100%|██████████| 3220/3220 [00:00<00:00, 14373.72it/s]\n",
      "[training-x3d-xs-1/2]: 100%|██████████| 32/32 [00:08<00:00,  3.56epoch/s, training-loss=0.237, training-accuracy=0.914, validation-loss=0.499, validation-accuracy=0.816, best-validation-accuracy=0.835, best-training-accuracy=0.882]\n",
      "[dataset-mappings-construction]:: 100%|██████████| 3220/3220 [00:00<00:00, 7183.18it/s]\n",
      "[dataset-mappings-construction]:: 100%|██████████| 3220/3220 [00:00<00:00, 12812.31it/s]\n",
      "[training-x3d-s-1/2]: 100%|██████████| 32/32 [00:08<00:00,  3.64epoch/s, training-loss=0.194, training-accuracy=0.93, validation-loss=0.416, validation-accuracy=0.841, best-validation-accuracy=0.854, best-training-accuracy=0.897] \n",
      "[dataset-mappings-construction]:: 100%|██████████| 3220/3220 [00:00<00:00, 5819.29it/s]\n",
      "[dataset-mappings-construction]:: 100%|██████████| 3220/3220 [00:00<00:00, 11711.78it/s]\n",
      "[training-x3d-m-1/2]: 100%|██████████| 32/32 [00:08<00:00,  3.88epoch/s, training-loss=0.219, training-accuracy=0.914, validation-loss=0.511, validation-accuracy=0.802, best-validation-accuracy=0.889, best-training-accuracy=0.861]\n",
      "[dataset-mappings-construction]:: 100%|██████████| 3220/3220 [00:00<00:00, 6604.42it/s]\n",
      "[dataset-mappings-construction]:: 100%|██████████| 3220/3220 [00:00<00:00, 14411.82it/s]\n",
      "[training-x3d-l-1/2]: 100%|██████████| 32/32 [00:08<00:00,  3.73epoch/s, training-loss=0.203, training-accuracy=0.926, validation-loss=0.476, validation-accuracy=0.822, best-validation-accuracy=0.855, best-training-accuracy=0.842]\n",
      "[dataset-mappings-construction]:: 100%|██████████| 3220/3220 [00:00<00:00, 6468.46it/s]\n",
      "[dataset-mappings-construction]:: 100%|██████████| 3220/3220 [00:00<00:00, 14384.88it/s]\n",
      "[training-s3d-k-1/2]: 100%|██████████| 32/32 [00:08<00:00,  4.00epoch/s, training-loss=0.413, training-accuracy=0.851, validation-loss=0.549, validation-accuracy=0.794, best-validation-accuracy=0.793, best-training-accuracy=0.849]\n",
      "[dataset-mappings-construction]:: 100%|██████████| 3220/3220 [00:00<00:00, 4413.04it/s]\n",
      "[dataset-mappings-construction]:: 100%|██████████| 3220/3220 [00:00<00:00, 8018.45it/s] \n",
      "[training-s3d-h-1/2]: 100%|██████████| 32/32 [00:08<00:00,  3.59epoch/s, training-loss=1.02, training-accuracy=0.597, validation-loss=1.03, validation-accuracy=0.603, best-validation-accuracy=0.603, best-training-accuracy=0.597]\n",
      "[dataset-mappings-construction]:: 100%|██████████| 3220/3220 [00:00<00:00, 7290.23it/s]\n",
      "[dataset-mappings-construction]:: 100%|██████████| 3220/3220 [00:00<00:00, 13883.97it/s]\n",
      "[training-slowfast-1/2]: 100%|██████████| 32/32 [00:08<00:00,  3.90epoch/s, training-loss=0.137, training-accuracy=0.984, validation-loss=0.411, validation-accuracy=0.853, best-validation-accuracy=0.866, best-training-accuracy=0.942]\n",
      "[dataset-mappings-construction]:: 100%|██████████| 3220/3220 [00:00<00:00, 4888.56it/s]\n",
      "[dataset-mappings-construction]:: 100%|██████████| 3220/3220 [00:00<00:00, 14762.65it/s]\n",
      "[training-vivit-1/2]: 100%|██████████| 32/32 [00:07<00:00,  4.10epoch/s, training-loss=0.243, training-accuracy=0.91, validation-loss=0.617, validation-accuracy=0.744, best-validation-accuracy=0.8, best-training-accuracy=0.857]  \n",
      "[dataset-mappings-construction]:: 100%|██████████| 3220/3220 [00:00<00:00, 5710.75it/s]\n",
      "[dataset-mappings-construction]:: 100%|██████████| 3220/3220 [00:00<00:00, 11343.70it/s]\n",
      "[training-yolo-2/2]: 100%|██████████| 32/32 [00:07<00:00,  4.07epoch/s, training-loss=0.697, training-accuracy=0.71, validation-loss=0.86, validation-accuracy=0.597, best-validation-accuracy=0.597, best-training-accuracy=0.71]   \n",
      "[dataset-mappings-construction]:: 100%|██████████| 3220/3220 [00:00<00:00, 4619.52it/s]\n",
      "[dataset-mappings-construction]:: 100%|██████████| 3220/3220 [00:00<00:00, 14171.30it/s]\n",
      "[training-dino-2/2]: 100%|██████████| 32/32 [00:07<00:00,  4.03epoch/s, training-loss=0.176, training-accuracy=0.943, validation-loss=1.4, validation-accuracy=0.786, best-validation-accuracy=0.791, best-training-accuracy=0.727] \n",
      "[dataset-mappings-construction]:: 100%|██████████| 3220/3220 [00:00<00:00, 4768.61it/s]\n",
      "[dataset-mappings-construction]:: 100%|██████████| 3220/3220 [00:00<00:00, 14067.08it/s]\n",
      "[training-r3d-2/2]: 100%|██████████| 32/32 [00:08<00:00,  3.81epoch/s, training-loss=0.158, training-accuracy=0.957, validation-loss=0.737, validation-accuracy=0.821, best-validation-accuracy=0.813, best-training-accuracy=0.914]\n",
      "[dataset-mappings-construction]:: 100%|██████████| 3220/3220 [00:00<00:00, 4701.88it/s]\n",
      "[dataset-mappings-construction]:: 100%|██████████| 3220/3220 [00:00<00:00, 14354.67it/s]\n",
      "[training-i3d-2/2]: 100%|██████████| 32/32 [00:08<00:00,  3.73epoch/s, training-loss=0.198, training-accuracy=0.938, validation-loss=0.824, validation-accuracy=0.725, best-validation-accuracy=0.726, best-training-accuracy=0.878]\n",
      "[dataset-mappings-construction]:: 100%|██████████| 3220/3220 [00:00<00:00, 5425.24it/s]\n",
      "[dataset-mappings-construction]:: 100%|██████████| 3220/3220 [00:00<00:00, 13913.98it/s]\n",
      "[training-clip-2/2]: 100%|██████████| 32/32 [00:09<00:00,  3.53epoch/s, training-loss=0.166, training-accuracy=0.942, validation-loss=0.974, validation-accuracy=0.725, best-validation-accuracy=0.74, best-training-accuracy=0.82] \n",
      "[dataset-mappings-construction]:: 100%|██████████| 3220/3220 [00:00<00:00, 6557.18it/s]\n",
      "[dataset-mappings-construction]:: 100%|██████████| 3220/3220 [00:00<00:00, 13842.97it/s]\n",
      "[training-x3d-xs-2/2]: 100%|██████████| 32/32 [00:08<00:00,  3.67epoch/s, training-loss=0.158, training-accuracy=0.951, validation-loss=0.811, validation-accuracy=0.801, best-validation-accuracy=0.798, best-training-accuracy=0.861]\n",
      "[dataset-mappings-construction]:: 100%|██████████| 3220/3220 [00:00<00:00, 7114.75it/s]\n",
      "[dataset-mappings-construction]:: 100%|██████████| 3220/3220 [00:00<00:00, 13795.12it/s]\n",
      "[training-x3d-s-2/2]: 100%|██████████| 32/32 [00:09<00:00,  3.44epoch/s, training-loss=0.105, training-accuracy=0.967, validation-loss=0.888, validation-accuracy=0.813, best-validation-accuracy=0.812, best-training-accuracy=0.816]\n",
      "[dataset-mappings-construction]:: 100%|██████████| 3220/3220 [00:00<00:00, 7387.92it/s]\n",
      "[dataset-mappings-construction]:: 100%|██████████| 3220/3220 [00:00<00:00, 14110.18it/s]\n",
      "[training-x3d-m-2/2]: 100%|██████████| 32/32 [00:08<00:00,  3.78epoch/s, training-loss=0.108, training-accuracy=0.962, validation-loss=0.825, validation-accuracy=0.824, best-validation-accuracy=0.81, best-training-accuracy=0.903]\n",
      "[dataset-mappings-construction]:: 100%|██████████| 3220/3220 [00:00<00:00, 6964.58it/s]\n",
      "[dataset-mappings-construction]:: 100%|██████████| 3220/3220 [00:00<00:00, 13750.53it/s]\n",
      "[training-x3d-l-2/2]: 100%|██████████| 32/32 [00:09<00:00,  3.52epoch/s, training-loss=0.0909, training-accuracy=0.974, validation-loss=0.863, validation-accuracy=0.809, best-validation-accuracy=0.8, best-training-accuracy=0.782]\n",
      "[dataset-mappings-construction]:: 100%|██████████| 3220/3220 [00:00<00:00, 4889.80it/s]\n",
      "[dataset-mappings-construction]:: 100%|██████████| 3220/3220 [00:00<00:00, 12639.64it/s]\n",
      "[training-s3d-k-2/2]: 100%|██████████| 32/32 [00:08<00:00,  3.60epoch/s, training-loss=0.281, training-accuracy=0.919, validation-loss=0.697, validation-accuracy=0.747, best-validation-accuracy=0.747, best-training-accuracy=0.887]\n",
      "[dataset-mappings-construction]:: 100%|██████████| 3220/3220 [00:00<00:00, 4780.85it/s]\n",
      "[dataset-mappings-construction]:: 100%|██████████| 3220/3220 [00:00<00:00, 14260.96it/s]\n",
      "[training-s3d-h-2/2]: 100%|██████████| 32/32 [00:08<00:00,  3.98epoch/s, training-loss=1.03, training-accuracy=0.656, validation-loss=1.05, validation-accuracy=0.614, best-validation-accuracy=0.614, best-training-accuracy=0.656]\n",
      "[dataset-mappings-construction]:: 100%|██████████| 3220/3220 [00:00<00:00, 7305.79it/s]\n",
      "[dataset-mappings-construction]:: 100%|██████████| 3220/3220 [00:00<00:00, 14388.17it/s]\n",
      "[training-slowfast-2/2]: 100%|██████████| 32/32 [00:08<00:00,  3.89epoch/s, training-loss=0.0648, training-accuracy=0.994, validation-loss=0.663, validation-accuracy=0.812, best-validation-accuracy=0.813, best-training-accuracy=0.92]\n",
      "[dataset-mappings-construction]:: 100%|██████████| 3220/3220 [00:00<00:00, 4898.34it/s]\n",
      "[dataset-mappings-construction]:: 100%|██████████| 3220/3220 [00:00<00:00, 14535.47it/s]\n",
      "[training-vivit-2/2]: 100%|██████████| 32/32 [00:08<00:00,  3.90epoch/s, training-loss=0.162, training-accuracy=0.949, validation-loss=0.792, validation-accuracy=0.762, best-validation-accuracy=0.756, best-training-accuracy=0.849]\n"
     ]
    }
   ],
   "source": [
    "NUMBER_OF_FOLDS = 2\n",
    "NUMBER_ANNOTATED_VIDEOS = 22\n",
    "\n",
    "from bouldering_video_segmentation.utils import LabelEncoderFactory\n",
    "\n",
    "from experiments.helpers.trainer import Trainer\n",
    "from experiments.helpers.splits_generator import splits_generator\n",
    "from experiments.helpers.videos_to_indices import videos_to_indices\n",
    "\n",
    "label_encoder = LabelEncoderFactory.get()\n",
    "\n",
    "folds_histories: list[dict] = []\n",
    "\n",
    "for fold_index, folds in enumerate(splits_generator(dataset_length=NUMBER_ANNOTATED_VIDEOS, k=NUMBER_OF_FOLDS)):\n",
    "    histories = {}\n",
    "    \n",
    "    for dataset, extractor in zip(filtered_datasets, extractors):\n",
    "        training_videos_ids, validation_videos_ids = folds\n",
    "    \n",
    "        # TODO: the issue is here, as the cached version is being used, some indices that have been filtered are trying to be reused\n",
    "        training_samples_ids = videos_to_indices(dataset, training_videos_ids)\n",
    "        validation_samples_ids = videos_to_indices(dataset, validation_videos_ids)\n",
    "        \n",
    "        training_dataset = WrapperDataset(torch.utils.data.Subset(dataset, training_samples_ids), transform)\n",
    "        validation_dataset = WrapperDataset(torch.utils.data.Subset(dataset, validation_samples_ids), transform)\n",
    "        \n",
    "        training_dataloader = torch.utils.data.DataLoader(training_dataset, batch_size=32, shuffle=True)\n",
    "        validation_dataloader = torch.utils.data.DataLoader(validation_dataset, batch_size=32, shuffle=False)\n",
    "    \n",
    "        linear_classifier = VideoSegmentMlp(input_size=training_dataset[0][0].shape[0], output_size=len(label_encoder.classes_))\n",
    "        \n",
    "        trainer = Trainer(linear_classifier)\n",
    "        \n",
    "        statistics = trainer.train(training_dataloader, validation_dataloader, title=f\"[training-{extractor.get_name()}-{fold_index + 1}/{NUMBER_OF_FOLDS}]\")\n",
    "        \n",
    "        histories[extractor.get_name()] = statistics\n",
    "        \n",
    "    folds_histories.append(histories)"
   ]
  },
  {
   "cell_type": "markdown",
   "metadata": {},
   "source": [
    "<div class=\"alert alert-info\">\n",
    "\n",
    "#### **4- Results**\n",
    "\n",
    "Below we are going to display the training results for each model.\n",
    "\n",
    "</div>"
   ]
  },
  {
   "cell_type": "code",
   "execution_count": 64,
   "metadata": {},
   "outputs": [],
   "source": [
    "from experiments.helpers.training_results_visualization import aggregate_training_results"
   ]
  },
  {
   "cell_type": "code",
   "execution_count": 67,
   "metadata": {},
   "outputs": [],
   "source": [
    "aggregated_training_results = aggregate_training_results(folds_histories)\n",
    "\n",
    "models_training_accuracies = aggregated_training_results.models_training_accuracies\n",
    "models_validation_accuracies = aggregated_training_results.models_validation_accuracies\n",
    "models_training_losses = aggregated_training_results.models_training_losses\n",
    "models_validation_losses = aggregated_training_results.models_validation_losses"
   ]
  },
  {
   "cell_type": "code",
   "execution_count": null,
   "metadata": {},
   "outputs": [],
   "source": [
    "import matplotlib.pyplot as plt"
   ]
  },
  {
   "cell_type": "code",
   "execution_count": 124,
   "metadata": {},
   "outputs": [],
   "source": [
    "from experiments.helpers.training_results_visualization import Metric\n",
    "from experiments.helpers.training_results_visualization import plot_models_performance, plot_models_comparison"
   ]
  },
  {
   "cell_type": "code",
   "execution_count": 125,
   "metadata": {},
   "outputs": [
    {
     "data": {
      "text/plain": [
       "<Figure size 1000x500 with 0 Axes>"
      ]
     },
     "metadata": {},
     "output_type": "display_data"
    },
    {
     "data": {
      "image/png": "[encoded data removed]",
      "text/plain": [
       "<Figure size 675x337.5 with 2 Axes>"
      ]
     },
     "metadata": {},
     "output_type": "display_data"
    },
    {
     "data": {
      "image/png": "[encoded data removed]",
      "text/plain": [
       "<Figure size 640x480 with 1 Axes>"
      ]
     },
     "metadata": {},
     "output_type": "display_data"
    }
   ],
   "source": [
    "plot_models_performance(\n",
    "    aggregated_training_results,\n",
    "    Metric.ALL\n",
    ")\n",
    "\n",
    "plt.tight_layout()\n",
    "\n",
    "plt.show()\n",
    "\n",
    "plot_models_comparison(\n",
    "    aggregated_training_results,\n",
    "    Metric.ACCURACY\n",
    ")\n",
    "\n",
    "plt.tight_layout()\n",
    "\n",
    "plt.show()"
   ]
  },
  {
   "cell_type": "code",
   "execution_count": null,
   "metadata": {},
   "outputs": [
    {
     "data": {
      "text/plain": [
       "<Figure size 1000x500 with 0 Axes>"
      ]
     },
     "metadata": {},
     "output_type": "display_data"
    }
   ],
   "source": [
    "plot_models_performance(\n",
    "    aggregated_training_results,\n",
    "    Metric.ACCURACY\n",
    ")\n",
    "\n",
    "plt.tight_layout()\n",
    "\n",
    "plt.savefig(\"../assets/figures/mlp.training-results.boxplot.png\")\n",
    "\n",
    "plt.close()\n",
    "\n",
    "# --- --- --- ---- ---\n",
    "\n",
    "plot_models_comparison(\n",
    "    aggregated_training_results,\n",
    "    Metric.ACCURACY\n",
    ")\n",
    "\n",
    "plt.tight_layout()\n",
    "\n",
    "plt.savefig(\"../assets/figures/mlp.training-results.scatter.png\")\n",
    "\n",
    "plt.close()"
   ]
  },
  {
   "cell_type": "code",
   "execution_count": 204,
   "metadata": {},
   "outputs": [],
   "source": [
    "from experiments.helpers.training_results_visualization import create_performance_table, write_latex_table\n",
    "\n",
    "# --- --- --- ---\n",
    "\n",
    "dataframe = create_performance_table(aggregated_training_results, extractors, latex=True)\n",
    "\n",
    "write_latex_table(\n",
    "    dataframe=dataframe,\n",
    "    caption=\"MLP Models Performance Results.\",\n",
    "    path=\"../assets/tables/mlp.training-results.tex\"\n",
    ")\n",
    "\n",
    "# --- --- --- ---\n",
    "\n",
    "dataframe = create_performance_table(aggregated_training_results, extractors)\n",
    "\n",
    "markdown_content = \"# Pre-Trained Models\\n\\n\"\n",
    "\n",
    "dataframe['Backbone Type'] = [f\"`{extractor.get_features_type()}`\" for extractor in extractors]\n",
    "dataframe['Model'] = [f\"`MLP`\" for extractor in extractors]\n",
    "dataframe['Download Link'] = [f\"[Download Weights](https://github.com/raideno/bouldering-video-segmentation/blob/main/models-weights/mlp.{extractor.get_name()}.pt)\" for extractor in extractors]\n",
    "\n",
    "markdown_table = dataframe.to_markdown(index=False)\n",
    "\n",
    "markdown_content += markdown_table\n",
    "\n",
    "with open(\"../models-weights/README.md\", \"w\") as file:\n",
    "    file.write(markdown_content)"
   ]
  },
  {
   "cell_type": "markdown",
   "metadata": {},
   "source": [
    "<div class=\"alert alert-info\">\n",
    "\n",
    "#### **5- Saving Models Weights**\n",
    "\n",
    "Below we are going to save the models weights and results.\n",
    "\n",
    "</div>"
   ]
  },
  {
   "cell_type": "code",
   "execution_count": 133,
   "metadata": {},
   "outputs": [
    {
     "name": "stderr",
     "output_type": "stream",
     "text": [
      "[dataset-mappings-construction]:: 100%|██████████| 3220/3220 [00:00<00:00, 6625.47it/s]\n",
      "[dataset-mappings-construction]:: 100%|██████████| 3220/3220 [00:00<00:00, 14350.65it/s]\n",
      "[training-yolo]: 100%|██████████| 32/32 [00:07<00:00,  4.09epoch/s, training-loss=0.723, training-accuracy=0.69, validation-loss=0.814, validation-accuracy=0.652, best-validation-accuracy=0.641, best-training-accuracy=0.69]  \n",
      "[dataset-mappings-construction]:: 100%|██████████| 3220/3220 [00:00<00:00, 3646.97it/s]\n",
      "[dataset-mappings-construction]:: 100%|██████████| 3220/3220 [00:00<00:00, 14182.15it/s]\n",
      "[training-dino]: 100%|██████████| 32/32 [00:08<00:00,  3.91epoch/s, training-loss=0.327, training-accuracy=0.898, validation-loss=0.71, validation-accuracy=0.782, best-validation-accuracy=0.84, best-training-accuracy=0.809] \n",
      "[dataset-mappings-construction]:: 100%|██████████| 3220/3220 [00:00<00:00, 4587.63it/s]\n",
      "[dataset-mappings-construction]:: 100%|██████████| 3220/3220 [00:00<00:00, 14113.20it/s]\n",
      "[training-r3d]: 100%|██████████| 32/32 [00:08<00:00,  3.88epoch/s, training-loss=0.304, training-accuracy=0.892, validation-loss=0.463, validation-accuracy=0.809, best-validation-accuracy=0.878, best-training-accuracy=0.872]\n",
      "[dataset-mappings-construction]:: 100%|██████████| 3220/3220 [00:00<00:00, 4643.43it/s]\n",
      "[dataset-mappings-construction]:: 100%|██████████| 3220/3220 [00:00<00:00, 14229.47it/s]\n",
      "[training-i3d]: 100%|██████████| 32/32 [00:08<00:00,  3.91epoch/s, training-loss=0.309, training-accuracy=0.894, validation-loss=0.504, validation-accuracy=0.794, best-validation-accuracy=0.826, best-training-accuracy=0.847]\n",
      "[dataset-mappings-construction]:: 100%|██████████| 3220/3220 [00:00<00:00, 5658.68it/s]\n",
      "[dataset-mappings-construction]:: 100%|██████████| 3220/3220 [00:00<00:00, 13903.11it/s]\n",
      "[training-clip]: 100%|██████████| 32/32 [00:08<00:00,  3.87epoch/s, training-loss=0.262, training-accuracy=0.895, validation-loss=0.947, validation-accuracy=0.672, best-validation-accuracy=0.754, best-training-accuracy=0.768]\n",
      "[dataset-mappings-construction]:: 100%|██████████| 3220/3220 [00:00<00:00, 6698.88it/s]\n",
      "[dataset-mappings-construction]:: 100%|██████████| 3220/3220 [00:00<00:00, 14119.90it/s]\n",
      "[training-x3d-xs]: 100%|██████████| 32/32 [00:08<00:00,  3.88epoch/s, training-loss=0.237, training-accuracy=0.912, validation-loss=0.472, validation-accuracy=0.822, best-validation-accuracy=0.853, best-training-accuracy=0.852]\n",
      "[dataset-mappings-construction]:: 100%|██████████| 3220/3220 [00:00<00:00, 7488.62it/s]\n",
      "[dataset-mappings-construction]:: 100%|██████████| 3220/3220 [00:00<00:00, 14417.86it/s]\n",
      "[training-x3d-s]: 100%|██████████| 32/32 [00:08<00:00,  3.87epoch/s, training-loss=0.193, training-accuracy=0.935, validation-loss=0.429, validation-accuracy=0.83, best-validation-accuracy=0.865, best-training-accuracy=0.89] \n",
      "[dataset-mappings-construction]:: 100%|██████████| 3220/3220 [00:00<00:00, 7419.82it/s]\n",
      "[dataset-mappings-construction]:: 100%|██████████| 3220/3220 [00:00<00:00, 9067.72it/s]\n",
      "[training-x3d-m]: 100%|██████████| 32/32 [00:08<00:00,  3.75epoch/s, training-loss=0.205, training-accuracy=0.931, validation-loss=0.477, validation-accuracy=0.807, best-validation-accuracy=0.883, best-training-accuracy=0.87]\n",
      "[dataset-mappings-construction]:: 100%|██████████| 3220/3220 [00:00<00:00, 6347.78it/s]\n",
      "[dataset-mappings-construction]:: 100%|██████████| 3220/3220 [00:00<00:00, 14318.49it/s]\n",
      "[training-x3d-l]: 100%|██████████| 32/32 [00:10<00:00,  3.16epoch/s, training-loss=0.202, training-accuracy=0.927, validation-loss=0.468, validation-accuracy=0.822, best-validation-accuracy=0.852, best-training-accuracy=0.868]\n",
      "[dataset-mappings-construction]:: 100%|██████████| 3220/3220 [00:00<00:00, 5378.46it/s]\n",
      "[dataset-mappings-construction]:: 100%|██████████| 3220/3220 [00:00<00:00, 14155.58it/s]\n",
      "[training-s3d-k]: 100%|██████████| 32/32 [00:09<00:00,  3.49epoch/s, training-loss=0.42, training-accuracy=0.855, validation-loss=0.544, validation-accuracy=0.797, best-validation-accuracy=0.797, best-training-accuracy=0.855] \n",
      "[dataset-mappings-construction]:: 100%|██████████| 3220/3220 [00:00<00:00, 4544.74it/s]\n",
      "[dataset-mappings-construction]:: 100%|██████████| 3220/3220 [00:00<00:00, 14207.67it/s]\n",
      "[training-s3d-h]: 100%|██████████| 32/32 [00:08<00:00,  3.66epoch/s, training-loss=1.02, training-accuracy=0.591, validation-loss=1.03, validation-accuracy=0.601, best-validation-accuracy=0.601, best-training-accuracy=0.591]\n",
      "[dataset-mappings-construction]:: 100%|██████████| 3220/3220 [00:00<00:00, 5491.99it/s]\n",
      "[dataset-mappings-construction]:: 100%|██████████| 3220/3220 [00:00<00:00, 14089.69it/s]\n",
      "[training-slowfast]: 100%|██████████| 32/32 [00:08<00:00,  3.64epoch/s, training-loss=0.147, training-accuracy=0.973, validation-loss=0.405, validation-accuracy=0.847, best-validation-accuracy=0.862, best-training-accuracy=0.936]\n",
      "[dataset-mappings-construction]:: 100%|██████████| 3220/3220 [00:00<00:00, 5041.60it/s]\n",
      "[dataset-mappings-construction]:: 100%|██████████| 3220/3220 [00:00<00:00, 14559.60it/s]\n",
      "[training-vivit]: 100%|██████████| 32/32 [00:09<00:00,  3.43epoch/s, training-loss=0.231, training-accuracy=0.919, validation-loss=0.559, validation-accuracy=0.768, best-validation-accuracy=0.794, best-training-accuracy=0.881]\n"
     ]
    }
   ],
   "source": [
    "NUMBER_ANNOTATED_VIDEOS = 22\n",
    "\n",
    "import itertools\n",
    "\n",
    "from bouldering_video_segmentation.utils import LabelEncoderFactory\n",
    "\n",
    "from experiments.helpers.trainer import Trainer\n",
    "from experiments.helpers.splits_generator import splits_generator\n",
    "from experiments.helpers.videos_to_indices import videos_to_indices\n",
    "from experiments.helpers.training_results_visualization import get_best_performing_fold\n",
    "\n",
    "label_encoder = LabelEncoderFactory.get()\n",
    "\n",
    "# --- --- --- ---\n",
    "\n",
    "fold_index = get_best_performing_fold(aggregated_training_results, Metric.ACCURACY)\n",
    "\n",
    "folds = next(itertools.islice(splits_generator(dataset_length=NUMBER_ANNOTATED_VIDEOS, k=NUMBER_OF_FOLDS), fold_index, fold_index + 1))\n",
    "\n",
    "training_videos_ids, validation_videos_ids = folds\n",
    "\n",
    "for dataset, extractor in zip(filtered_datasets, extractors):\n",
    "    # TODO: the issue is here, as the cached version is being used, some indices that have been filtered are trying to be reused\n",
    "    training_samples_ids = videos_to_indices(dataset, training_videos_ids)\n",
    "    validation_samples_ids = videos_to_indices(dataset, validation_videos_ids)\n",
    "\n",
    "    training_dataset = WrapperDataset(torch.utils.data.Subset(dataset, training_samples_ids), transform)\n",
    "    validation_dataset = WrapperDataset(torch.utils.data.Subset(dataset, validation_samples_ids), transform)\n",
    "\n",
    "    training_dataloader = torch.utils.data.DataLoader(training_dataset, batch_size=32, shuffle=True)\n",
    "    validation_dataloader = torch.utils.data.DataLoader(validation_dataset, batch_size=32, shuffle=False)\n",
    "\n",
    "    model = VideoSegmentMlp(input_size=training_dataset[0][0].shape[0], output_size=len(label_encoder.classes_))\n",
    "    \n",
    "    trainer = Trainer(model)\n",
    "    \n",
    "    statistics = trainer.train(training_dataloader, validation_dataloader, title=f\"[training-{extractor.get_name()}]\")\n",
    "    \n",
    "    best_model_state_dict = statistics[\"best_model_state_dict\"]\n",
    "    \n",
    "    torch.save(best_model_state_dict, f\"../models-weights/mlp.{extractor.get_name()}.pt\")"
   ]
  }
 ],
 "metadata": {
  "kernelspec": {
   "display_name": ".venv",
   "language": "python",
   "name": "python3"
  },
  "language_info": {
   "codemirror_mode": {
    "name": "ipython",
    "version": 3
   },
   "file_extension": ".py",
   "mimetype": "text/x-python",
   "name": "python",
   "nbconvert_exporter": "python",
   "pygments_lexer": "ipython3",
   "version": "3.12.0"
  }
 },
 "nbformat": 4,
 "nbformat_minor": 2
}
