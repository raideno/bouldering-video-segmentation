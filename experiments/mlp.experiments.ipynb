{
 "cells": [
  {
   "cell_type": "markdown",
   "metadata": {},
   "source": [
    "<div class=\"alert alert-info\">\n",
    "\n",
    "#### **MLP Experiment**\n",
    "\n",
    "In this notebook we are going to train a simple linear classifier on the climbing dataset.\n",
    "\n",
    "</div>"
   ]
  },
  {
   "cell_type": "code",
   "execution_count": 22,
   "metadata": {},
   "outputs": [
    {
     "name": "stdout",
     "output_type": "stream",
     "text": [
      "The autoreload extension is already loaded. To reload it, use:\n",
      "  %reload_ext autoreload\n"
     ]
    }
   ],
   "source": [
    "%load_ext autoreload\n",
    "%autoreload 2"
   ]
  },
  {
   "cell_type": "code",
   "execution_count": 23,
   "metadata": {},
   "outputs": [],
   "source": [
    "from experiments.helpers.plots_formatting import ICML"
   ]
  },
  {
   "cell_type": "markdown",
   "metadata": {},
   "source": [
    "<div class=\"alert alert-info\">\n",
    "\n",
    "#### **1- Preliminary**\n",
    "\n",
    "We first do a preliminary work to prepare the datasets. In order to know more about this, please read the `experiments/preliminary.ipynb` notebook.\n",
    "\n",
    "</div>"
   ]
  },
  {
   "cell_type": "code",
   "execution_count": 24,
   "metadata": {},
   "outputs": [],
   "source": [
    "from experiments.helpers.preliminary import preliminary, FilteringMode, FilteringOperator"
   ]
  },
  {
   "cell_type": "code",
   "execution_count": 25,
   "metadata": {},
   "outputs": [],
   "source": [
    "# FILTERING_MODE = FilteringMode(0)\n",
    "# FILTERING_MODE = FilteringMode.NO_PERSONLESS\n",
    "# FILTERING_MODE = FilteringMode.NO_PERSONLESS | FilteringMode.NO_NOTHING_CLASS\n",
    "FILTERING_MODE = FilteringMode.NO_PERSONLESS | FilteringMode.NO_NOTHING_CLASS | FilteringMode.NO_STOPWATCH_CLASS\n",
    "# FILTERING_MODE = FilteringMode.NO_PERSONLESS | FilteringMode.NO_STOPWATCH_CLASS | FilteringMode.NO_NOTHING_CLASS | FilteringMode.NO_MULTI_CLASS"
   ]
  },
  {
   "cell_type": "code",
   "execution_count": 26,
   "metadata": {},
   "outputs": [
    {
     "name": "stdout",
     "output_type": "stream",
     "text": [
      "[extractor-yolo]:\n",
      "[extractor-dino]:\n",
      "[extractor-r3d]:\n",
      "[extractor-i3d]:\n",
      "[extractor-clip]:\n",
      "[extractor-x3d-xs]:\n",
      "[extractor-x3d-s]:\n",
      "[extractor-x3d-m]:\n",
      "[extractor-x3d-l]:\n",
      "[extractor-s3d-k]:\n",
      "[extractor-s3d-h]:\n",
      "[extractor-slowfast]:\n",
      "[extractor-vivit]:\n"
     ]
    }
   ],
   "source": [
    "datasets, filtered_datasets, extractors = preliminary(\n",
    "    filtering_mode=FILTERING_MODE,\n",
    "    filtering_operator=FilteringOperator.OR,\n",
    "    ignore_frames_extraction=True\n",
    ")"
   ]
  },
  {
   "cell_type": "code",
   "execution_count": 27,
   "metadata": {},
   "outputs": [
    {
     "name": "stdout",
     "output_type": "stream",
     "text": [
      "[filtering-loss]: 21.43%\n"
     ]
    }
   ],
   "source": [
    "initial_size = len(datasets[0])\n",
    "filtered_size = len(filtered_datasets[0])\n",
    "\n",
    "reduction_percentage = 100 * (initial_size - filtered_size) / initial_size\n",
    "\n",
    "print(f\"[filtering-loss]: {reduction_percentage:.2f}%\")"
   ]
  },
  {
   "cell_type": "markdown",
   "metadata": {},
   "source": [
    "<div class=\"alert alert-info\">\n",
    "\n",
    "#### **2- Model Creation**\n",
    "\n",
    "Now we'll create the model on which we'll train the features we just extracted.\n",
    "\n",
    "</div>"
   ]
  },
  {
   "cell_type": "code",
   "execution_count": 28,
   "metadata": {},
   "outputs": [],
   "source": [
    "from bouldering_video_segmentation.models import VideoSegmentMlp"
   ]
  },
  {
   "cell_type": "markdown",
   "metadata": {},
   "source": [
    "<div class=\"alert alert-info\">\n",
    "\n",
    "#### **3- Training**\n",
    "\n",
    "Below we'll train our model on the different extracted features. We'll run several trainings with different feature extractors in order to do cross validation and have an accurate estimation of the model's performance.\n",
    "\n",
    "The `Trainer` class is simply a class that takes the model and train it for a given number of epochs.\n",
    "\n",
    "</div>"
   ]
  },
  {
   "cell_type": "code",
   "execution_count": 29,
   "metadata": {},
   "outputs": [],
   "source": [
    "import torch\n",
    "\n",
    "class WrapperDataset(torch.utils.data.Dataset):\n",
    "    def __init__(self, dataset, transform=None):\n",
    "        self.dataset = dataset\n",
    "        self.transform = transform\n",
    "        \n",
    "    def __getitem__(self, index):\n",
    "        if self.transform:\n",
    "            return self.transform(self.dataset[index])\n",
    "        else:\n",
    "            return self.dataset[index]\n",
    "        \n",
    "    def __len__(self):\n",
    "        return len(self.dataset)"
   ]
  },
  {
   "cell_type": "code",
   "execution_count": 30,
   "metadata": {},
   "outputs": [],
   "source": [
    "def transform(sample):\n",
    "    features, annotations, video_id, segment_index = sample\n",
    "    \n",
    "    return features, annotations[0]"
   ]
  },
  {
   "cell_type": "code",
   "execution_count": 31,
   "metadata": {},
   "outputs": [
    {
     "name": "stderr",
     "output_type": "stream",
     "text": [
      "[dataset-mappings-construction]:: 100%|██████████| 3220/3220 [00:00<00:00, 8409.27it/s]\n",
      "[dataset-mappings-construction]:: 100%|██████████| 3220/3220 [00:00<00:00, 13806.47it/s]\n",
      "[training-yolo-1/5]: 100%|██████████| 32/32 [00:08<00:00,  3.76epoch/s, training-loss=0.722, training-accuracy=0.702, validation-loss=0.757, validation-accuracy=0.677, best-validation-accuracy=0.696, best-training-accuracy=0.699]\n",
      "[dataset-mappings-construction]:: 100%|██████████| 3220/3220 [00:00<00:00, 4371.90it/s]\n",
      "[dataset-mappings-construction]:: 100%|██████████| 3220/3220 [00:00<00:00, 11376.49it/s]\n",
      "[training-dino-1/5]: 100%|██████████| 32/32 [00:09<00:00,  3.45epoch/s, training-loss=0.276, training-accuracy=0.906, validation-loss=0.921, validation-accuracy=0.774, best-validation-accuracy=0.846, best-training-accuracy=0.844]\n",
      "[dataset-mappings-construction]:: 100%|██████████| 3220/3220 [00:00<00:00, 4595.16it/s]\n",
      "[dataset-mappings-construction]:: 100%|██████████| 3220/3220 [00:00<00:00, 12210.98it/s]\n",
      "[training-r3d-1/5]: 100%|██████████| 32/32 [00:08<00:00,  3.61epoch/s, training-loss=0.266, training-accuracy=0.906, validation-loss=0.41, validation-accuracy=0.843, best-validation-accuracy=0.889, best-training-accuracy=0.88] \n",
      "[dataset-mappings-construction]:: 100%|██████████| 3220/3220 [00:00<00:00, 4427.69it/s]\n",
      "[dataset-mappings-construction]:: 100%|██████████| 3220/3220 [00:00<00:00, 10863.34it/s]\n",
      "[training-i3d-1/5]: 100%|██████████| 32/32 [00:09<00:00,  3.44epoch/s, training-loss=0.304, training-accuracy=0.891, validation-loss=0.503, validation-accuracy=0.805, best-validation-accuracy=0.851, best-training-accuracy=0.847]\n",
      "[dataset-mappings-construction]:: 100%|██████████| 3220/3220 [00:00<00:00, 5524.95it/s]\n",
      "[dataset-mappings-construction]:: 100%|██████████| 3220/3220 [00:00<00:00, 13108.60it/s]\n",
      "[training-clip-1/5]: 100%|██████████| 32/32 [00:09<00:00,  3.39epoch/s, training-loss=0.247, training-accuracy=0.911, validation-loss=1.56, validation-accuracy=0.6, best-validation-accuracy=0.726, best-training-accuracy=0.722]   \n",
      "[dataset-mappings-construction]:: 100%|██████████| 3220/3220 [00:00<00:00, 7163.59it/s]\n",
      "[dataset-mappings-construction]:: 100%|██████████| 3220/3220 [00:00<00:00, 12338.49it/s]\n",
      "[training-x3d-xs-1/5]: 100%|██████████| 32/32 [00:09<00:00,  3.41epoch/s, training-loss=0.233, training-accuracy=0.915, validation-loss=0.466, validation-accuracy=0.838, best-validation-accuracy=0.855, best-training-accuracy=0.879]\n",
      "[dataset-mappings-construction]:: 100%|██████████| 3220/3220 [00:00<00:00, 8328.53it/s]\n",
      "[dataset-mappings-construction]:: 100%|██████████| 3220/3220 [00:00<00:00, 11943.00it/s]\n",
      "[training-x3d-s-1/5]: 100%|██████████| 32/32 [00:08<00:00,  3.70epoch/s, training-loss=0.189, training-accuracy=0.931, validation-loss=0.368, validation-accuracy=0.87, best-validation-accuracy=0.89, best-training-accuracy=0.885] \n",
      "[dataset-mappings-construction]:: 100%|██████████| 3220/3220 [00:00<00:00, 8202.90it/s]\n",
      "[dataset-mappings-construction]:: 100%|██████████| 3220/3220 [00:00<00:00, 13296.45it/s]\n",
      "[training-x3d-m-1/5]: 100%|██████████| 32/32 [00:09<00:00,  3.55epoch/s, training-loss=0.198, training-accuracy=0.926, validation-loss=0.434, validation-accuracy=0.851, best-validation-accuracy=0.877, best-training-accuracy=0.859]\n",
      "[dataset-mappings-construction]:: 100%|██████████| 3220/3220 [00:00<00:00, 6619.83it/s]\n",
      "[dataset-mappings-construction]:: 100%|██████████| 3220/3220 [00:00<00:00, 12957.18it/s]\n",
      "[training-x3d-l-1/5]: 100%|██████████| 32/32 [00:13<00:00,  2.37epoch/s, training-loss=0.196, training-accuracy=0.93, validation-loss=0.386, validation-accuracy=0.865, best-validation-accuracy=0.886, best-training-accuracy=0.902] \n",
      "[dataset-mappings-construction]:: 100%|██████████| 3220/3220 [00:00<00:00, 5179.10it/s]\n",
      "[dataset-mappings-construction]:: 100%|██████████| 3220/3220 [00:00<00:00, 6417.68it/s]\n",
      "[training-s3d-k-1/5]: 100%|██████████| 32/32 [00:11<00:00,  2.87epoch/s, training-loss=0.378, training-accuracy=0.872, validation-loss=0.507, validation-accuracy=0.818, best-validation-accuracy=0.818, best-training-accuracy=0.872]\n",
      "[dataset-mappings-construction]:: 100%|██████████| 3220/3220 [00:00<00:00, 4716.93it/s]\n",
      "[dataset-mappings-construction]:: 100%|██████████| 3220/3220 [00:00<00:00, 12774.73it/s]\n",
      "[training-s3d-h-1/5]: 100%|██████████| 32/32 [00:10<00:00,  3.05epoch/s, training-loss=0.98, training-accuracy=0.643, validation-loss=1.02, validation-accuracy=0.578, best-validation-accuracy=0.578, best-training-accuracy=0.643] \n",
      "[dataset-mappings-construction]:: 100%|██████████| 3220/3220 [00:00<00:00, 6938.20it/s]\n",
      "[dataset-mappings-construction]:: 100%|██████████| 3220/3220 [00:00<00:00, 9800.39it/s] \n",
      "[training-slowfast-1/5]: 100%|██████████| 32/32 [00:09<00:00,  3.31epoch/s, training-loss=0.125, training-accuracy=0.98, validation-loss=0.417, validation-accuracy=0.854, best-validation-accuracy=0.866, best-training-accuracy=0.924] \n",
      "[dataset-mappings-construction]:: 100%|██████████| 3220/3220 [00:00<00:00, 4711.96it/s]\n",
      "[dataset-mappings-construction]:: 100%|██████████| 3220/3220 [00:00<00:00, 13284.04it/s]\n",
      "[training-vivit-1/5]: 100%|██████████| 32/32 [00:10<00:00,  2.94epoch/s, training-loss=0.248, training-accuracy=0.911, validation-loss=0.52, validation-accuracy=0.807, best-validation-accuracy=0.823, best-training-accuracy=0.891] \n",
      "[dataset-mappings-construction]:: 100%|██████████| 3220/3220 [00:00<00:00, 7015.30it/s]\n",
      "[dataset-mappings-construction]:: 100%|██████████| 3220/3220 [00:00<00:00, 11114.22it/s]\n",
      "[training-yolo-2/5]: 100%|██████████| 32/32 [00:11<00:00,  2.71epoch/s, training-loss=0.693, training-accuracy=0.712, validation-loss=0.896, validation-accuracy=0.629, best-validation-accuracy=0.648, best-training-accuracy=0.673]\n",
      "[dataset-mappings-construction]:: 100%|██████████| 3220/3220 [00:00<00:00, 3981.10it/s]\n",
      "[dataset-mappings-construction]:: 100%|██████████| 3220/3220 [00:00<00:00, 10189.91it/s]\n",
      "[training-dino-2/5]: 100%|██████████| 32/32 [00:18<00:00,  1.77epoch/s, training-loss=0.221, training-accuracy=0.92, validation-loss=1.17, validation-accuracy=0.717, best-validation-accuracy=0.858, best-training-accuracy=0.824]  \n",
      "[dataset-mappings-construction]:: 100%|██████████| 3220/3220 [00:00<00:00, 3972.51it/s]\n",
      "[dataset-mappings-construction]:: 100%|██████████| 3220/3220 [00:00<00:00, 12294.74it/s]\n",
      "[training-r3d-2/5]: 100%|██████████| 32/32 [00:10<00:00,  3.07epoch/s, training-loss=0.278, training-accuracy=0.906, validation-loss=0.43, validation-accuracy=0.849, best-validation-accuracy=0.883, best-training-accuracy=0.869] \n",
      "[dataset-mappings-construction]:: 100%|██████████| 3220/3220 [00:00<00:00, 4620.26it/s]\n",
      "[dataset-mappings-construction]:: 100%|██████████| 3220/3220 [00:00<00:00, 12545.79it/s]\n",
      "[training-i3d-2/5]: 100%|██████████| 32/32 [00:10<00:00,  2.99epoch/s, training-loss=0.301, training-accuracy=0.89, validation-loss=0.428, validation-accuracy=0.831, best-validation-accuracy=0.84, best-training-accuracy=0.883]  \n",
      "[dataset-mappings-construction]:: 100%|██████████| 3220/3220 [00:00<00:00, 5470.60it/s]\n",
      "[dataset-mappings-construction]:: 100%|██████████| 3220/3220 [00:00<00:00, 12204.56it/s]\n",
      "[training-clip-2/5]: 100%|██████████| 32/32 [00:09<00:00,  3.23epoch/s, training-loss=0.252, training-accuracy=0.91, validation-loss=0.844, validation-accuracy=0.709, best-validation-accuracy=0.799, best-training-accuracy=0.796] \n",
      "[dataset-mappings-construction]:: 100%|██████████| 3220/3220 [00:00<00:00, 6556.50it/s]\n",
      "[dataset-mappings-construction]:: 100%|██████████| 3220/3220 [00:00<00:00, 10710.91it/s]\n",
      "[training-x3d-xs-2/5]: 100%|██████████| 32/32 [00:09<00:00,  3.24epoch/s, training-loss=0.222, training-accuracy=0.917, validation-loss=0.512, validation-accuracy=0.804, best-validation-accuracy=0.863, best-training-accuracy=0.859]\n",
      "[dataset-mappings-construction]:: 100%|██████████| 3220/3220 [00:00<00:00, 7957.32it/s]\n",
      "[dataset-mappings-construction]:: 100%|██████████| 3220/3220 [00:00<00:00, 12766.99it/s]\n",
      "[training-x3d-s-2/5]: 100%|██████████| 32/32 [00:09<00:00,  3.38epoch/s, training-loss=0.179, training-accuracy=0.937, validation-loss=0.445, validation-accuracy=0.843, best-validation-accuracy=0.903, best-training-accuracy=0.862]\n",
      "[dataset-mappings-construction]:: 100%|██████████| 3220/3220 [00:00<00:00, 8634.84it/s]\n",
      "[dataset-mappings-construction]:: 100%|██████████| 3220/3220 [00:00<00:00, 12460.29it/s]\n",
      "[training-x3d-m-2/5]: 100%|██████████| 32/32 [00:10<00:00,  3.16epoch/s, training-loss=0.185, training-accuracy=0.937, validation-loss=0.422, validation-accuracy=0.857, best-validation-accuracy=0.901, best-training-accuracy=0.885]\n",
      "[dataset-mappings-construction]:: 100%|██████████| 3220/3220 [00:00<00:00, 8696.40it/s] \n",
      "[dataset-mappings-construction]:: 100%|██████████| 3220/3220 [00:00<00:00, 12631.82it/s]\n",
      "[training-x3d-l-2/5]: 100%|██████████| 32/32 [00:09<00:00,  3.32epoch/s, training-loss=0.185, training-accuracy=0.94, validation-loss=0.454, validation-accuracy=0.831, best-validation-accuracy=0.884, best-training-accuracy=0.864] \n",
      "[dataset-mappings-construction]:: 100%|██████████| 3220/3220 [00:00<00:00, 6470.58it/s]\n",
      "[dataset-mappings-construction]:: 100%|██████████| 3220/3220 [00:00<00:00, 11331.72it/s]\n",
      "[training-s3d-k-2/5]: 100%|██████████| 32/32 [00:09<00:00,  3.26epoch/s, training-loss=0.38, training-accuracy=0.873, validation-loss=0.473, validation-accuracy=0.807, best-validation-accuracy=0.816, best-training-accuracy=0.862] \n",
      "[dataset-mappings-construction]:: 100%|██████████| 3220/3220 [00:00<00:00, 12102.34it/s]\n",
      "[dataset-mappings-construction]:: 100%|██████████| 3220/3220 [00:00<00:00, 8873.55it/s]\n",
      "[training-s3d-h-2/5]: 100%|██████████| 32/32 [00:09<00:00,  3.37epoch/s, training-loss=0.987, training-accuracy=0.588, validation-loss=0.998, validation-accuracy=0.521, best-validation-accuracy=0.521, best-training-accuracy=0.588]\n",
      "[dataset-mappings-construction]:: 100%|██████████| 3220/3220 [00:00<00:00, 13012.20it/s]\n",
      "[dataset-mappings-construction]:: 100%|██████████| 3220/3220 [00:00<00:00, 12576.75it/s]\n",
      "[training-slowfast-2/5]: 100%|██████████| 32/32 [00:09<00:00,  3.53epoch/s, training-loss=0.128, training-accuracy=0.978, validation-loss=0.397, validation-accuracy=0.837, best-validation-accuracy=0.881, best-training-accuracy=0.909]\n",
      "[dataset-mappings-construction]:: 100%|██████████| 3220/3220 [00:00<00:00, 11135.79it/s]\n",
      "[dataset-mappings-construction]:: 100%|██████████| 3220/3220 [00:00<00:00, 13085.45it/s]\n",
      "[training-vivit-2/5]: 100%|██████████| 32/32 [00:10<00:00,  2.99epoch/s, training-loss=0.231, training-accuracy=0.917, validation-loss=0.705, validation-accuracy=0.729, best-validation-accuracy=0.778, best-training-accuracy=0.819]\n",
      "[dataset-mappings-construction]:: 100%|██████████| 3220/3220 [00:00<00:00, 10484.20it/s]\n",
      "[dataset-mappings-construction]:: 100%|██████████| 3220/3220 [00:00<00:00, 13140.97it/s]\n",
      "[training-yolo-3/5]: 100%|██████████| 32/32 [00:08<00:00,  3.70epoch/s, training-loss=0.706, training-accuracy=0.708, validation-loss=0.788, validation-accuracy=0.65, best-validation-accuracy=0.643, best-training-accuracy=0.706] \n",
      "[dataset-mappings-construction]:: 100%|██████████| 3220/3220 [00:00<00:00, 12388.96it/s]\n",
      "[dataset-mappings-construction]:: 100%|██████████| 3220/3220 [00:00<00:00, 12853.99it/s]\n",
      "[training-dino-3/5]: 100%|██████████| 32/32 [00:09<00:00,  3.46epoch/s, training-loss=0.289, training-accuracy=0.905, validation-loss=2.06, validation-accuracy=0.618, best-validation-accuracy=0.747, best-training-accuracy=0.827]\n",
      "[dataset-mappings-construction]:: 100%|██████████| 3220/3220 [00:00<00:00, 13480.26it/s]\n",
      "[dataset-mappings-construction]:: 100%|██████████| 3220/3220 [00:00<00:00, 11392.38it/s]\n",
      "[training-r3d-3/5]: 100%|██████████| 32/32 [00:09<00:00,  3.50epoch/s, training-loss=0.242, training-accuracy=0.918, validation-loss=0.532, validation-accuracy=0.845, best-validation-accuracy=0.855, best-training-accuracy=0.889]\n",
      "[dataset-mappings-construction]:: 100%|██████████| 3220/3220 [00:00<00:00, 10348.18it/s]\n",
      "[dataset-mappings-construction]:: 100%|██████████| 3220/3220 [00:00<00:00, 13127.97it/s]\n",
      "[training-i3d-3/5]: 100%|██████████| 32/32 [00:10<00:00,  3.18epoch/s, training-loss=0.29, training-accuracy=0.899, validation-loss=0.665, validation-accuracy=0.742, best-validation-accuracy=0.768, best-training-accuracy=0.882] \n",
      "[dataset-mappings-construction]:: 100%|██████████| 3220/3220 [00:00<00:00, 9565.57it/s] \n",
      "[dataset-mappings-construction]:: 100%|██████████| 3220/3220 [00:00<00:00, 10846.83it/s]\n",
      "[training-clip-3/5]: 100%|██████████| 32/32 [00:10<00:00,  3.09epoch/s, training-loss=0.221, training-accuracy=0.924, validation-loss=0.883, validation-accuracy=0.7, best-validation-accuracy=0.763, best-training-accuracy=0.842]  \n",
      "[dataset-mappings-construction]:: 100%|██████████| 3220/3220 [00:00<00:00, 12635.79it/s]\n",
      "[dataset-mappings-construction]:: 100%|██████████| 3220/3220 [00:00<00:00, 9330.06it/s] \n",
      "[training-x3d-xs-3/5]: 100%|██████████| 32/32 [00:10<00:00,  3.01epoch/s, training-loss=0.219, training-accuracy=0.923, validation-loss=0.526, validation-accuracy=0.81, best-validation-accuracy=0.822, best-training-accuracy=0.884] \n",
      "[dataset-mappings-construction]:: 100%|██████████| 3220/3220 [00:00<00:00, 11580.56it/s]\n",
      "[dataset-mappings-construction]:: 100%|██████████| 3220/3220 [00:00<00:00, 11395.00it/s]\n",
      "[training-x3d-s-3/5]: 100%|██████████| 32/32 [00:10<00:00,  3.13epoch/s, training-loss=0.185, training-accuracy=0.937, validation-loss=0.381, validation-accuracy=0.855, best-validation-accuracy=0.864, best-training-accuracy=0.911]\n",
      "[dataset-mappings-construction]:: 100%|██████████| 3220/3220 [00:00<00:00, 7156.10it/s]\n",
      "[dataset-mappings-construction]:: 100%|██████████| 3220/3220 [00:00<00:00, 11094.85it/s]\n",
      "[training-x3d-m-3/5]: 100%|██████████| 32/32 [00:10<00:00,  3.17epoch/s, training-loss=0.182, training-accuracy=0.938, validation-loss=0.412, validation-accuracy=0.864, best-validation-accuracy=0.876, best-training-accuracy=0.91]\n",
      "[dataset-mappings-construction]:: 100%|██████████| 3220/3220 [00:00<00:00, 6731.38it/s]\n",
      "[dataset-mappings-construction]:: 100%|██████████| 3220/3220 [00:00<00:00, 12674.51it/s]\n",
      "[training-x3d-l-3/5]: 100%|██████████| 32/32 [00:10<00:00,  3.10epoch/s, training-loss=0.18, training-accuracy=0.934, validation-loss=0.472, validation-accuracy=0.84, best-validation-accuracy=0.862, best-training-accuracy=0.92]   \n",
      "[dataset-mappings-construction]:: 100%|██████████| 3220/3220 [00:00<00:00, 5044.66it/s]\n",
      "[dataset-mappings-construction]:: 100%|██████████| 3220/3220 [00:00<00:00, 9827.92it/s]\n",
      "[training-s3d-k-3/5]: 100%|██████████| 32/32 [00:13<00:00,  2.34epoch/s, training-loss=0.365, training-accuracy=0.877, validation-loss=0.593, validation-accuracy=0.8, best-validation-accuracy=0.805, best-training-accuracy=0.868]  \n",
      "[dataset-mappings-construction]:: 100%|██████████| 3220/3220 [00:00<00:00, 3877.23it/s]\n",
      "[dataset-mappings-construction]:: 100%|██████████| 3220/3220 [00:00<00:00, 9635.41it/s]\n",
      "[training-s3d-h-3/5]: 100%|██████████| 32/32 [00:14<00:00,  2.23epoch/s, training-loss=0.982, training-accuracy=0.628, validation-loss=1.01, validation-accuracy=0.631, best-validation-accuracy=0.631, best-training-accuracy=0.628]\n",
      "[dataset-mappings-construction]:: 100%|██████████| 3220/3220 [00:00<00:00, 5244.71it/s]\n",
      "[dataset-mappings-construction]:: 100%|██████████| 3220/3220 [00:00<00:00, 11281.42it/s]\n",
      "[training-slowfast-3/5]: 100%|██████████| 32/32 [00:09<00:00,  3.29epoch/s, training-loss=0.119, training-accuracy=0.981, validation-loss=0.557, validation-accuracy=0.796, best-validation-accuracy=0.843, best-training-accuracy=0.891]\n",
      "[dataset-mappings-construction]:: 100%|██████████| 3220/3220 [00:00<00:00, 4602.87it/s]\n",
      "[dataset-mappings-construction]:: 100%|██████████| 3220/3220 [00:00<00:00, 12284.97it/s]\n",
      "[training-vivit-3/5]: 100%|██████████| 32/32 [00:09<00:00,  3.49epoch/s, training-loss=0.234, training-accuracy=0.919, validation-loss=0.527, validation-accuracy=0.786, best-validation-accuracy=0.791, best-training-accuracy=0.908]\n",
      "[dataset-mappings-construction]:: 100%|██████████| 3220/3220 [00:00<00:00, 6547.34it/s]\n",
      "[dataset-mappings-construction]:: 100%|██████████| 3220/3220 [00:00<00:00, 13247.32it/s]\n",
      "[training-yolo-4/5]: 100%|██████████| 32/32 [00:09<00:00,  3.34epoch/s, training-loss=0.678, training-accuracy=0.705, validation-loss=0.923, validation-accuracy=0.573, best-validation-accuracy=0.573, best-training-accuracy=0.706]\n",
      "[dataset-mappings-construction]:: 100%|██████████| 3220/3220 [00:00<00:00, 4356.75it/s]\n",
      "[dataset-mappings-construction]:: 100%|██████████| 3220/3220 [00:00<00:00, 11773.43it/s]\n",
      "[training-dino-4/5]: 100%|██████████| 32/32 [00:10<00:00,  3.19epoch/s, training-loss=0.23, training-accuracy=0.92, validation-loss=1.55, validation-accuracy=0.685, best-validation-accuracy=0.757, best-training-accuracy=0.814]  \n",
      "[dataset-mappings-construction]:: 100%|██████████| 3220/3220 [00:00<00:00, 4102.81it/s]\n",
      "[dataset-mappings-construction]:: 100%|██████████| 3220/3220 [00:00<00:00, 10397.03it/s]\n",
      "[training-r3d-4/5]: 100%|██████████| 32/32 [00:10<00:00,  3.14epoch/s, training-loss=0.238, training-accuracy=0.922, validation-loss=1.13, validation-accuracy=0.702, best-validation-accuracy=0.749, best-training-accuracy=0.884] \n",
      "[dataset-mappings-construction]:: 100%|██████████| 3220/3220 [00:00<00:00, 4673.74it/s]\n",
      "[dataset-mappings-construction]:: 100%|██████████| 3220/3220 [00:00<00:00, 12150.71it/s]\n",
      "[training-i3d-4/5]: 100%|██████████| 32/32 [00:09<00:00,  3.24epoch/s, training-loss=0.268, training-accuracy=0.904, validation-loss=1.03, validation-accuracy=0.647, best-validation-accuracy=0.605, best-training-accuracy=0.824] \n",
      "[dataset-mappings-construction]:: 100%|██████████| 3220/3220 [00:00<00:00, 4159.86it/s]\n",
      "[dataset-mappings-construction]:: 100%|██████████| 3220/3220 [00:00<00:00, 11164.77it/s]\n",
      "[training-clip-4/5]: 100%|██████████| 32/32 [00:10<00:00,  3.10epoch/s, training-loss=0.234, training-accuracy=0.914, validation-loss=1.1, validation-accuracy=0.69, best-validation-accuracy=0.764, best-training-accuracy=0.821]   \n",
      "[dataset-mappings-construction]:: 100%|██████████| 3220/3220 [00:00<00:00, 6475.68it/s]\n",
      "[dataset-mappings-construction]:: 100%|██████████| 3220/3220 [00:00<00:00, 12524.41it/s]\n",
      "[training-x3d-xs-4/5]: 100%|██████████| 32/32 [00:09<00:00,  3.27epoch/s, training-loss=0.208, training-accuracy=0.929, validation-loss=0.951, validation-accuracy=0.737, best-validation-accuracy=0.76, best-training-accuracy=0.895]\n",
      "[dataset-mappings-construction]:: 100%|██████████| 3220/3220 [00:00<00:00, 6695.04it/s]\n",
      "[dataset-mappings-construction]:: 100%|██████████| 3220/3220 [00:00<00:00, 12270.50it/s]\n",
      "[training-x3d-s-4/5]: 100%|██████████| 32/32 [00:10<00:00,  3.13epoch/s, training-loss=0.163, training-accuracy=0.943, validation-loss=0.889, validation-accuracy=0.778, best-validation-accuracy=0.777, best-training-accuracy=0.895]\n",
      "[dataset-mappings-construction]:: 100%|██████████| 3220/3220 [00:00<00:00, 7097.67it/s]\n",
      "[dataset-mappings-construction]:: 100%|██████████| 3220/3220 [00:00<00:00, 12595.59it/s]\n",
      "[training-x3d-m-4/5]: 100%|██████████| 32/32 [00:09<00:00,  3.46epoch/s, training-loss=0.18, training-accuracy=0.937, validation-loss=0.986, validation-accuracy=0.78, best-validation-accuracy=0.767, best-training-accuracy=0.808]  \n",
      "[dataset-mappings-construction]:: 100%|██████████| 3220/3220 [00:00<00:00, 6735.44it/s]\n",
      "[dataset-mappings-construction]:: 100%|██████████| 3220/3220 [00:00<00:00, 12598.40it/s]\n",
      "[training-x3d-l-4/5]: 100%|██████████| 32/32 [00:09<00:00,  3.46epoch/s, training-loss=0.168, training-accuracy=0.94, validation-loss=0.95, validation-accuracy=0.766, best-validation-accuracy=0.78, best-training-accuracy=0.804]  \n",
      "[dataset-mappings-construction]:: 100%|██████████| 3220/3220 [00:00<00:00, 6153.31it/s]\n",
      "[dataset-mappings-construction]:: 100%|██████████| 3220/3220 [00:00<00:00, 12350.47it/s]\n",
      "[training-s3d-k-4/5]: 100%|██████████| 32/32 [00:09<00:00,  3.42epoch/s, training-loss=0.341, training-accuracy=0.892, validation-loss=0.797, validation-accuracy=0.679, best-validation-accuracy=0.679, best-training-accuracy=0.884]\n",
      "[dataset-mappings-construction]:: 100%|██████████| 3220/3220 [00:00<00:00, 4624.68it/s]\n",
      "[dataset-mappings-construction]:: 100%|██████████| 3220/3220 [00:00<00:00, 12799.47it/s]\n",
      "[training-s3d-h-4/5]: 100%|██████████| 32/32 [00:09<00:00,  3.36epoch/s, training-loss=0.964, training-accuracy=0.662, validation-loss=1.08, validation-accuracy=0.491, best-validation-accuracy=0.491, best-training-accuracy=0.662]\n",
      "[dataset-mappings-construction]:: 100%|██████████| 3220/3220 [00:00<00:00, 6799.53it/s]\n",
      "[dataset-mappings-construction]:: 100%|██████████| 3220/3220 [00:00<00:00, 12412.74it/s]\n",
      "[training-slowfast-4/5]: 100%|██████████| 32/32 [00:09<00:00,  3.46epoch/s, training-loss=0.105, training-accuracy=0.979, validation-loss=0.781, validation-accuracy=0.764, best-validation-accuracy=0.793, best-training-accuracy=0.918]\n",
      "[dataset-mappings-construction]:: 100%|██████████| 3220/3220 [00:00<00:00, 4719.86it/s]\n",
      "[dataset-mappings-construction]:: 100%|██████████| 3220/3220 [00:00<00:00, 12745.52it/s]\n",
      "[training-vivit-4/5]: 100%|██████████| 32/32 [00:09<00:00,  3.35epoch/s, training-loss=0.222, training-accuracy=0.92, validation-loss=1.36, validation-accuracy=0.643, best-validation-accuracy=0.717, best-training-accuracy=0.725]  \n",
      "[dataset-mappings-construction]:: 100%|██████████| 3220/3220 [00:00<00:00, 5797.15it/s]\n",
      "[dataset-mappings-construction]:: 100%|██████████| 3220/3220 [00:00<00:00, 7624.35it/s]\n",
      "[training-yolo-5/5]: 100%|██████████| 32/32 [00:09<00:00,  3.33epoch/s, training-loss=0.716, training-accuracy=0.704, validation-loss=0.791, validation-accuracy=0.616, best-validation-accuracy=0.69, best-training-accuracy=0.702] \n",
      "[dataset-mappings-construction]:: 100%|██████████| 3220/3220 [00:00<00:00, 4033.12it/s]\n",
      "[dataset-mappings-construction]:: 100%|██████████| 3220/3220 [00:00<00:00, 12486.13it/s]\n",
      "[training-dino-5/5]: 100%|██████████| 32/32 [00:09<00:00,  3.40epoch/s, training-loss=0.171, training-accuracy=0.933, validation-loss=1.57, validation-accuracy=0.771, best-validation-accuracy=0.82, best-training-accuracy=0.756]\n",
      "[dataset-mappings-construction]:: 100%|██████████| 3220/3220 [00:00<00:00, 4629.85it/s]\n",
      "[dataset-mappings-construction]:: 100%|██████████| 3220/3220 [00:00<00:00, 12723.65it/s]\n",
      "[training-r3d-5/5]: 100%|██████████| 32/32 [00:09<00:00,  3.45epoch/s, training-loss=0.225, training-accuracy=0.929, validation-loss=0.645, validation-accuracy=0.837, best-validation-accuracy=0.837, best-training-accuracy=0.881]\n",
      "[dataset-mappings-construction]:: 100%|██████████| 3220/3220 [00:00<00:00, 4658.70it/s]\n",
      "[dataset-mappings-construction]:: 100%|██████████| 3220/3220 [00:00<00:00, 11652.64it/s]\n",
      "[training-i3d-5/5]: 100%|██████████| 32/32 [00:09<00:00,  3.41epoch/s, training-loss=0.269, training-accuracy=0.897, validation-loss=0.713, validation-accuracy=0.776, best-validation-accuracy=0.762, best-training-accuracy=0.851]\n",
      "[dataset-mappings-construction]:: 100%|██████████| 3220/3220 [00:00<00:00, 4861.96it/s]\n",
      "[dataset-mappings-construction]:: 100%|██████████| 3220/3220 [00:00<00:00, 12194.11it/s]\n",
      "[training-clip-5/5]: 100%|██████████| 32/32 [00:09<00:00,  3.33epoch/s, training-loss=0.21, training-accuracy=0.924, validation-loss=1.22, validation-accuracy=0.604, best-validation-accuracy=0.772, best-training-accuracy=0.846]  \n",
      "[dataset-mappings-construction]:: 100%|██████████| 3220/3220 [00:00<00:00, 6207.55it/s]\n",
      "[dataset-mappings-construction]:: 100%|██████████| 3220/3220 [00:00<00:00, 12248.52it/s]\n",
      "[training-x3d-xs-5/5]: 100%|██████████| 32/32 [00:09<00:00,  3.44epoch/s, training-loss=0.191, training-accuracy=0.938, validation-loss=0.808, validation-accuracy=0.803, best-validation-accuracy=0.805, best-training-accuracy=0.768]\n",
      "[dataset-mappings-construction]:: 100%|██████████| 3220/3220 [00:00<00:00, 7145.09it/s]\n",
      "[dataset-mappings-construction]:: 100%|██████████| 3220/3220 [00:00<00:00, 12732.41it/s]\n",
      "[training-x3d-s-5/5]: 100%|██████████| 32/32 [00:09<00:00,  3.52epoch/s, training-loss=0.147, training-accuracy=0.953, validation-loss=0.789, validation-accuracy=0.836, best-validation-accuracy=0.83, best-training-accuracy=0.793]\n",
      "[dataset-mappings-construction]:: 100%|██████████| 3220/3220 [00:00<00:00, 6106.01it/s]\n",
      "[dataset-mappings-construction]:: 100%|██████████| 3220/3220 [00:00<00:00, 12401.55it/s]\n",
      "[training-x3d-m-5/5]: 100%|██████████| 32/32 [00:09<00:00,  3.41epoch/s, training-loss=0.147, training-accuracy=0.95, validation-loss=0.823, validation-accuracy=0.808, best-validation-accuracy=0.829, best-training-accuracy=0.813] \n",
      "[dataset-mappings-construction]:: 100%|██████████| 3220/3220 [00:00<00:00, 6562.39it/s]\n",
      "[dataset-mappings-construction]:: 100%|██████████| 3220/3220 [00:00<00:00, 12345.72it/s]\n",
      "[training-x3d-l-5/5]: 100%|██████████| 32/32 [00:09<00:00,  3.43epoch/s, training-loss=0.148, training-accuracy=0.949, validation-loss=0.826, validation-accuracy=0.815, best-validation-accuracy=0.82, best-training-accuracy=0.806]\n",
      "[dataset-mappings-construction]:: 100%|██████████| 3220/3220 [00:00<00:00, 6215.68it/s]\n",
      "[dataset-mappings-construction]:: 100%|██████████| 3220/3220 [00:00<00:00, 12671.34it/s]\n",
      "[training-s3d-k-5/5]: 100%|██████████| 32/32 [00:09<00:00,  3.38epoch/s, training-loss=0.33, training-accuracy=0.888, validation-loss=0.679, validation-accuracy=0.771, best-validation-accuracy=0.786, best-training-accuracy=0.809] \n",
      "[dataset-mappings-construction]:: 100%|██████████| 3220/3220 [00:00<00:00, 4658.13it/s]\n",
      "[dataset-mappings-construction]:: 100%|██████████| 3220/3220 [00:00<00:00, 12644.81it/s]\n",
      "[training-s3d-h-5/5]: 100%|██████████| 32/32 [00:09<00:00,  3.42epoch/s, training-loss=0.999, training-accuracy=0.614, validation-loss=0.946, validation-accuracy=0.748, best-validation-accuracy=0.748, best-training-accuracy=0.614]\n",
      "[dataset-mappings-construction]:: 100%|██████████| 3220/3220 [00:00<00:00, 6819.00it/s]\n",
      "[dataset-mappings-construction]:: 100%|██████████| 3220/3220 [00:00<00:00, 12640.03it/s]\n",
      "[training-slowfast-5/5]: 100%|██████████| 32/32 [00:09<00:00,  3.39epoch/s, training-loss=0.0985, training-accuracy=0.986, validation-loss=0.697, validation-accuracy=0.807, best-validation-accuracy=0.827, best-training-accuracy=0.879]\n",
      "[dataset-mappings-construction]:: 100%|██████████| 3220/3220 [00:00<00:00, 4856.18it/s]\n",
      "[dataset-mappings-construction]:: 100%|██████████| 3220/3220 [00:00<00:00, 13051.18it/s]\n",
      "[training-vivit-5/5]: 100%|██████████| 32/32 [00:09<00:00,  3.51epoch/s, training-loss=0.203, training-accuracy=0.932, validation-loss=0.688, validation-accuracy=0.798, best-validation-accuracy=0.812, best-training-accuracy=0.819]\n"
     ]
    }
   ],
   "source": [
    "NUMBER_OF_FOLDS = 5\n",
    "NUMBER_ANNOTATED_VIDEOS = 22\n",
    "\n",
    "from bouldering_video_segmentation.utils import LabelEncoderFactory\n",
    "\n",
    "from experiments.helpers.trainer import Trainer, TrainerVariant\n",
    "from experiments.helpers.splits_generator import splits_generator\n",
    "from experiments.helpers.videos_to_indices import videos_to_indices\n",
    "\n",
    "label_encoder = LabelEncoderFactory.get()\n",
    "\n",
    "folds_histories: list[dict] = []\n",
    "\n",
    "for fold_index, folds in enumerate(splits_generator(dataset_length=NUMBER_ANNOTATED_VIDEOS, k=NUMBER_OF_FOLDS)):\n",
    "    histories = {}\n",
    "    \n",
    "    for dataset, extractor in zip(filtered_datasets, extractors):\n",
    "        training_videos_ids, validation_videos_ids = folds\n",
    "    \n",
    "        # TODO: the issue is here, as the cached version is being used, some indices that have been filtered are trying to be reused\n",
    "        training_samples_ids = videos_to_indices(dataset, training_videos_ids)\n",
    "        validation_samples_ids = videos_to_indices(dataset, validation_videos_ids)\n",
    "        \n",
    "        training_dataset = WrapperDataset(torch.utils.data.Subset(dataset, training_samples_ids), transform)\n",
    "        validation_dataset = WrapperDataset(torch.utils.data.Subset(dataset, validation_samples_ids), transform)\n",
    "        \n",
    "        training_dataloader = torch.utils.data.DataLoader(training_dataset, batch_size=32, shuffle=True)\n",
    "        validation_dataloader = torch.utils.data.DataLoader(validation_dataset, batch_size=32, shuffle=False)\n",
    "    \n",
    "        linear_classifier = VideoSegmentMlp(input_size=training_dataset[0][0].shape[0], output_size=len(label_encoder.classes_))\n",
    "        \n",
    "        trainer = Trainer(model=linear_classifier, variant=TrainerVariant.MLP)\n",
    "        \n",
    "        statistics = trainer.train(training_dataloader, validation_dataloader, title=f\"[training-{extractor.get_name()}-{fold_index + 1}/{NUMBER_OF_FOLDS}]\")\n",
    "        \n",
    "        histories[extractor.get_name()] = statistics\n",
    "        \n",
    "    folds_histories.append(histories)"
   ]
  },
  {
   "cell_type": "markdown",
   "metadata": {},
   "source": [
    "<div class=\"alert alert-info\">\n",
    "\n",
    "#### **4- Results**\n",
    "\n",
    "Below we are going to display the training results for each model.\n",
    "\n",
    "</div>"
   ]
  },
  {
   "cell_type": "code",
   "execution_count": 32,
   "metadata": {},
   "outputs": [],
   "source": [
    "from experiments.helpers.training_results_visualization import aggregate_training_results"
   ]
  },
  {
   "cell_type": "code",
   "execution_count": 33,
   "metadata": {},
   "outputs": [],
   "source": [
    "aggregated_training_results = aggregate_training_results(folds_histories)\n",
    "\n",
    "models_training_accuracies = aggregated_training_results.models_training_accuracies\n",
    "models_validation_accuracies = aggregated_training_results.models_validation_accuracies\n",
    "models_training_losses = aggregated_training_results.models_training_losses\n",
    "models_validation_losses = aggregated_training_results.models_validation_losses"
   ]
  },
  {
   "cell_type": "code",
   "execution_count": 34,
   "metadata": {},
   "outputs": [],
   "source": [
    "import matplotlib.pyplot as plt"
   ]
  },
  {
   "cell_type": "code",
   "execution_count": 35,
   "metadata": {},
   "outputs": [],
   "source": [
    "from experiments.helpers.training_results_visualization import Metric\n",
    "from experiments.helpers.training_results_visualization import plot_models_performance, plot_models_comparison"
   ]
  },
  {
   "cell_type": "code",
   "execution_count": 36,
   "metadata": {},
   "outputs": [
    {
     "data": {
      "text/plain": [
       "<Figure size 1000x500 with 0 Axes>"
      ]
     },
     "metadata": {},
     "output_type": "display_data"
    },
    {
     "data": {
      "image/png": "[encoded data removed]",
      "text/plain": [
       "<Figure size 675x337.5 with 2 Axes>"
      ]
     },
     "metadata": {},
     "output_type": "display_data"
    },
    {
     "data": {
      "image/png": "[encoded data removed]",
      "text/plain": [
       "<Figure size 640x480 with 1 Axes>"
      ]
     },
     "metadata": {},
     "output_type": "display_data"
    }
   ],
   "source": [
    "plot_models_performance(\n",
    "    aggregated_training_results,\n",
    "    Metric.ALL\n",
    ")\n",
    "\n",
    "plt.tight_layout()\n",
    "\n",
    "plt.show()\n",
    "\n",
    "plot_models_comparison(\n",
    "    aggregated_training_results,\n",
    "    Metric.ACCURACY\n",
    ")\n",
    "\n",
    "plt.tight_layout()\n",
    "\n",
    "plt.show()"
   ]
  },
  {
   "cell_type": "code",
   "execution_count": 40,
   "metadata": {},
   "outputs": [
    {
     "name": "stdout",
     "output_type": "stream",
     "text": [
      "<THIS IS A SEPARATION LINE> & <THIS IS A SEPARATION LINE> & <THIS IS A SEPARATION LINE> & <THIS IS A SEPARATION LINE> \\\\\n"
     ]
    },
    {
     "data": {
      "text/plain": [
       "<Figure size 1000x500 with 0 Axes>"
      ]
     },
     "metadata": {},
     "output_type": "display_data"
    }
   ],
   "source": [
    "plot_models_performance(\n",
    "    aggregated_training_results,\n",
    "    Metric.ACCURACY\n",
    ")\n",
    "\n",
    "plt.tight_layout()\n",
    "\n",
    "plt.savefig(\"../assets/figures/mlp.training-results.boxplot.png\")\n",
    "\n",
    "plt.close()\n",
    "\n",
    "# --- --- --- ---- ---\n",
    "\n",
    "plot_models_comparison(\n",
    "    aggregated_training_results,\n",
    "    Metric.ACCURACY\n",
    ")\n",
    "\n",
    "plt.tight_layout()\n",
    "\n",
    "plt.savefig(\"../assets/figures/mlp.training-results.scatter.png\")\n",
    "\n",
    "plt.close()"
   ]
  },
  {
   "cell_type": "code",
   "execution_count": 43,
   "metadata": {},
   "outputs": [
    {
     "name": "stderr",
     "output_type": "stream",
     "text": [
      "<>:7: SyntaxWarning: invalid escape sequence '\\#'\n",
      "<>:7: SyntaxWarning: invalid escape sequence '\\#'\n",
      "/var/folders/hl/2fydtkj52y941xk_cs8nh5200000gn/T/ipykernel_39120/2122125682.py:7: SyntaxWarning: invalid escape sequence '\\#'\n",
      "  dataframe['\\#Parameters'] = [f\"{extractor.get_number_of_params()}\" for extractor in extractors]\n"
     ]
    }
   ],
   "source": [
    "from experiments.helpers.training_results_visualization import create_performance_table, write_latex_table\n",
    "\n",
    "# --- --- --- ---\n",
    "\n",
    "dataframe = create_performance_table(aggregated_training_results, extractors, latex=True)\n",
    "\n",
    "dataframe['\\#Parameters'] = [f\"{extractor.get_number_of_params()}\" for extractor in extractors]\n",
    "\n",
    "write_latex_table(\n",
    "    dataframe=dataframe,\n",
    "    caption=\"MLP Models Performance Results.\",\n",
    "    path=\"../assets/tables/mlp.training-results.tex\"\n",
    ")\n",
    "\n",
    "# --- --- --- ---\n",
    "\n",
    "dataframe = create_performance_table(aggregated_training_results, extractors)\n",
    "\n",
    "markdown_content = \"# Pre-Trained Models\\n\\n\"\n",
    "\n",
    "dataframe['Type'] = [f\"`{extractor.get_features_type()}`\" for extractor in extractors]\n",
    "dataframe['Model'] = [f\"`MLP`\" for extractor in extractors]\n",
    "dataframe['Size'] = [f\"{extractor.get_number_of_params()}\" for extractor in extractors]\n",
    "dataframe['Download Link'] = [f\"[Download Weights](https://github.com/raideno/bouldering-video-segmentation/blob/main/models-weights/mlp.{extractor.get_name()}.pt)\" for extractor in extractors]\n",
    "\n",
    "markdown_table = dataframe.to_markdown(index=False)\n",
    "\n",
    "markdown_content += markdown_table\n",
    "\n",
    "with open(\"../models-weights/mlp.README.md\", \"w\") as file:\n",
    "    file.write(markdown_content)"
   ]
  },
  {
   "cell_type": "markdown",
   "metadata": {},
   "source": [
    "<div class=\"alert alert-info\">\n",
    "\n",
    "#### **5- Saving Models Weights**\n",
    "\n",
    "Below we are going to save the models weights and results.\n",
    "\n",
    "</div>"
   ]
  },
  {
   "cell_type": "code",
   "execution_count": 48,
   "metadata": {},
   "outputs": [
    {
     "name": "stderr",
     "output_type": "stream",
     "text": [
      "[dataset-mappings-construction]:: 100%|██████████| 3220/3220 [00:00<00:00, 11603.94it/s]\n",
      "[dataset-mappings-construction]:: 100%|██████████| 3220/3220 [00:00<00:00, 13437.66it/s]\n",
      "[training-yolo]: 100%|██████████| 32/32 [00:07<00:00,  4.02epoch/s, training-loss=0.719, training-accuracy=0.7, validation-loss=0.777, validation-accuracy=0.672, best-validation-accuracy=0.68, best-training-accuracy=0.694]   \n",
      "[dataset-mappings-construction]:: 100%|██████████| 3220/3220 [00:00<00:00, 4492.23it/s]\n",
      "[dataset-mappings-construction]:: 100%|██████████| 3220/3220 [00:00<00:00, 14286.83it/s]\n",
      "[training-dino]: 100%|██████████| 32/32 [00:08<00:00,  3.91epoch/s, training-loss=0.285, training-accuracy=0.903, validation-loss=0.985, validation-accuracy=0.762, best-validation-accuracy=0.829, best-training-accuracy=0.833]\n",
      "[dataset-mappings-construction]:: 100%|██████████| 3220/3220 [00:00<00:00, 4622.80it/s]\n",
      "[dataset-mappings-construction]:: 100%|██████████| 3220/3220 [00:00<00:00, 14530.37it/s]\n",
      "[training-r3d]: 100%|██████████| 32/32 [00:08<00:00,  3.99epoch/s, training-loss=0.269, training-accuracy=0.908, validation-loss=0.374, validation-accuracy=0.87, best-validation-accuracy=0.88, best-training-accuracy=0.878]  \n",
      "[dataset-mappings-construction]:: 100%|██████████| 3220/3220 [00:00<00:00, 4782.80it/s]\n",
      "[dataset-mappings-construction]:: 100%|██████████| 3220/3220 [00:00<00:00, 14454.11it/s]\n",
      "[training-i3d]: 100%|██████████| 32/32 [00:08<00:00,  3.91epoch/s, training-loss=0.3, training-accuracy=0.9, validation-loss=0.51, validation-accuracy=0.805, best-validation-accuracy=0.835, best-training-accuracy=0.871]     \n",
      "[dataset-mappings-construction]:: 100%|██████████| 3220/3220 [00:00<00:00, 5716.58it/s]\n",
      "[dataset-mappings-construction]:: 100%|██████████| 3220/3220 [00:00<00:00, 13650.48it/s]\n",
      "[training-clip]: 100%|██████████| 32/32 [00:08<00:00,  3.84epoch/s, training-loss=0.249, training-accuracy=0.909, validation-loss=1.43, validation-accuracy=0.624, best-validation-accuracy=0.735, best-training-accuracy=0.787] \n",
      "[dataset-mappings-construction]:: 100%|██████████| 3220/3220 [00:00<00:00, 6622.91it/s]\n",
      "[dataset-mappings-construction]:: 100%|██████████| 3220/3220 [00:00<00:00, 14393.31it/s]\n",
      "[training-x3d-xs]: 100%|██████████| 32/32 [00:08<00:00,  3.91epoch/s, training-loss=0.232, training-accuracy=0.918, validation-loss=0.467, validation-accuracy=0.83, best-validation-accuracy=0.849, best-training-accuracy=0.905] \n",
      "[dataset-mappings-construction]:: 100%|██████████| 3220/3220 [00:00<00:00, 7223.20it/s]\n",
      "[dataset-mappings-construction]:: 100%|██████████| 3220/3220 [00:00<00:00, 13969.63it/s]\n",
      "[training-x3d-s]: 100%|██████████| 32/32 [00:08<00:00,  3.81epoch/s, training-loss=0.198, training-accuracy=0.925, validation-loss=0.394, validation-accuracy=0.862, best-validation-accuracy=0.88, best-training-accuracy=0.898]\n",
      "[dataset-mappings-construction]:: 100%|██████████| 3220/3220 [00:00<00:00, 7311.12it/s]\n",
      "[dataset-mappings-construction]:: 100%|██████████| 3220/3220 [00:00<00:00, 13342.07it/s]\n",
      "[training-x3d-m]: 100%|██████████| 32/32 [00:08<00:00,  3.74epoch/s, training-loss=0.19, training-accuracy=0.928, validation-loss=0.442, validation-accuracy=0.855, best-validation-accuracy=0.888, best-training-accuracy=0.886] \n",
      "[dataset-mappings-construction]:: 100%|██████████| 3220/3220 [00:00<00:00, 6920.91it/s]\n",
      "[dataset-mappings-construction]:: 100%|██████████| 3220/3220 [00:00<00:00, 13917.82it/s]\n",
      "[training-x3d-l]: 100%|██████████| 32/32 [00:09<00:00,  3.36epoch/s, training-loss=0.196, training-accuracy=0.924, validation-loss=0.407, validation-accuracy=0.854, best-validation-accuracy=0.886, best-training-accuracy=0.896]\n",
      "[dataset-mappings-construction]:: 100%|██████████| 3220/3220 [00:00<00:00, 5995.94it/s]\n",
      "[dataset-mappings-construction]:: 100%|██████████| 3220/3220 [00:00<00:00, 12899.50it/s]\n",
      "[training-s3d-k]: 100%|██████████| 32/32 [00:08<00:00,  3.65epoch/s, training-loss=0.378, training-accuracy=0.872, validation-loss=0.51, validation-accuracy=0.811, best-validation-accuracy=0.815, best-training-accuracy=0.87]  \n",
      "[dataset-mappings-construction]:: 100%|██████████| 3220/3220 [00:00<00:00, 4774.41it/s]\n",
      "[dataset-mappings-construction]:: 100%|██████████| 3220/3220 [00:00<00:00, 12665.16it/s]\n",
      "[training-s3d-h]: 100%|██████████| 32/32 [00:08<00:00,  3.86epoch/s, training-loss=0.981, training-accuracy=0.641, validation-loss=1.02, validation-accuracy=0.574, best-validation-accuracy=0.574, best-training-accuracy=0.641]\n",
      "[dataset-mappings-construction]:: 100%|██████████| 3220/3220 [00:00<00:00, 7190.22it/s]\n",
      "[dataset-mappings-construction]:: 100%|██████████| 3220/3220 [00:00<00:00, 13391.46it/s]\n",
      "[training-slowfast]: 100%|██████████| 32/32 [00:08<00:00,  3.80epoch/s, training-loss=0.125, training-accuracy=0.976, validation-loss=0.428, validation-accuracy=0.846, best-validation-accuracy=0.87, best-training-accuracy=0.918] \n",
      "[dataset-mappings-construction]:: 100%|██████████| 3220/3220 [00:00<00:00, 4892.63it/s]\n",
      "[dataset-mappings-construction]:: 100%|██████████| 3220/3220 [00:00<00:00, 14781.30it/s]\n",
      "[training-vivit]: 100%|██████████| 32/32 [00:08<00:00,  3.95epoch/s, training-loss=0.247, training-accuracy=0.908, validation-loss=0.489, validation-accuracy=0.815, best-validation-accuracy=0.821, best-training-accuracy=0.889]\n"
     ]
    }
   ],
   "source": [
    "NUMBER_ANNOTATED_VIDEOS = 22\n",
    "\n",
    "import itertools\n",
    "\n",
    "from bouldering_video_segmentation.utils import LabelEncoderFactory\n",
    "\n",
    "from experiments.helpers.trainer import Trainer\n",
    "from experiments.helpers.splits_generator import splits_generator\n",
    "from experiments.helpers.videos_to_indices import videos_to_indices\n",
    "from experiments.helpers.training_results_visualization import get_best_performing_fold\n",
    "\n",
    "label_encoder = LabelEncoderFactory.get()\n",
    "\n",
    "# --- --- --- ---\n",
    "\n",
    "fold_index = get_best_performing_fold(aggregated_training_results, Metric.ACCURACY)\n",
    "\n",
    "folds = next(itertools.islice(splits_generator(dataset_length=NUMBER_ANNOTATED_VIDEOS, k=NUMBER_OF_FOLDS), fold_index, fold_index + 1))\n",
    "\n",
    "training_videos_ids, validation_videos_ids = folds\n",
    "\n",
    "stats = []\n",
    "\n",
    "for dataset, extractor in zip(filtered_datasets, extractors):\n",
    "    # TODO: the issue is here, as the cached version is being used, some indices that have been filtered are trying to be reused\n",
    "    training_samples_ids = videos_to_indices(dataset, training_videos_ids)\n",
    "    validation_samples_ids = videos_to_indices(dataset, validation_videos_ids)\n",
    "\n",
    "    training_dataset = WrapperDataset(torch.utils.data.Subset(dataset, training_samples_ids), transform)\n",
    "    validation_dataset = WrapperDataset(torch.utils.data.Subset(dataset, validation_samples_ids), transform)\n",
    "\n",
    "    training_dataloader = torch.utils.data.DataLoader(training_dataset, batch_size=32, shuffle=True)\n",
    "    validation_dataloader = torch.utils.data.DataLoader(validation_dataset, batch_size=32, shuffle=False)\n",
    "\n",
    "    model = VideoSegmentMlp(input_size=training_dataset[0][0].shape[0], output_size=len(label_encoder.classes_))\n",
    "    \n",
    "    trainer = Trainer(model=model, variant=TrainerVariant.MLP)\n",
    "    \n",
    "    statistics = trainer.train(training_dataloader, validation_dataloader, title=f\"[training-{extractor.get_name()}]\")\n",
    "    \n",
    "    best_model_state_dict = statistics[\"best_model_state_dict\"]\n",
    "    \n",
    "    stats.append(statistics[\"best_per_class_accuracy\"])\n",
    "    \n",
    "    # torch.save(best_model_state_dict, f\"../models-weights/mlp.{extractor.get_name()}.pt\")"
   ]
  },
  {
   "cell_type": "code",
   "execution_count": 70,
   "metadata": {},
   "outputs": [
    {
     "name": "stdout",
     "output_type": "stream",
     "text": [
      "['brossage' 'chrono' 'grimpe' 'lecture' 'nothing']\n",
      "[0 1 2 3 4]\n",
      "slowfast {0: 0.8181818181818182, 3: 0.8745980707395499, 2: 0.907563025210084}\n"
     ]
    }
   ],
   "source": [
    "print(label_encoder.classes_)\n",
    "print(label_encoder.transform(label_encoder.classes_))\n",
    "\n",
    "index = 11\n",
    "\n",
    "print(extractors[index].get_name(), stats[index])"
   ]
  },
  {
   "cell_type": "code",
   "execution_count": 78,
   "metadata": {},
   "outputs": [
    {
     "name": "stdout",
     "output_type": "stream",
     "text": [
      "yolo 3 {0: 0.23737373737373738, 3: 0.8681672025723473, 2: 0.8025210084033614}\n",
      "dino 3 {0: 0.6363636363636364, 3: 0.8681672025723473, 2: 0.9369747899159664}\n",
      "r3d 3 {0: 0.797979797979798, 3: 0.8870967741935484, 2: 0.9372384937238494}\n",
      "i3d 3 {0: 0.7171717171717171, 3: 0.8713826366559485, 2: 0.8865546218487395}\n",
      "clip 4 {0: 0.7070707070707071, 3: 0.7508090614886731, 2: 0.7405857740585774, 4: 0.0}\n",
      "x3d-xs 5 {0: 0.7222222222222222, 3: 0.8668831168831169, 2: 0.9372384937238494, 4: 0.0, 1: 0.0}\n",
      "x3d-s 3 {0: 0.7828282828282829, 3: 0.9260450160771704, 2: 0.8991596638655462}\n",
      "x3d-m 3 {0: 0.797979797979798, 3: 0.9035369774919614, 2: 0.9411764705882353}\n",
      "x3d-l 3 {0: 0.803030303030303, 3: 0.909967845659164, 2: 0.9243697478991597}\n",
      "s3d-k 3 {0: 0.7272727272727273, 3: 0.8135048231511254, 2: 0.8907563025210085}\n",
      "s3d-h 3 {0: 0.0, 3: 0.6913183279742765, 2: 0.8991596638655462}\n",
      "slowfast 3 {0: 0.8181818181818182, 3: 0.8745980707395499, 2: 0.907563025210084}\n",
      "vivit 3 {0: 0.6868686868686869, 3: 0.8263665594855305, 2: 0.9243697478991597}\n"
     ]
    }
   ],
   "source": [
    "for index, i in enumerate(stats):\n",
    "    print(extractors[index].get_name(), len(i.keys()), i)"
   ]
  }
 ],
 "metadata": {
  "kernelspec": {
   "display_name": ".venv",
   "language": "python",
   "name": "python3"
  },
  "language_info": {
   "codemirror_mode": {
    "name": "ipython",
    "version": 3
   },
   "file_extension": ".py",
   "mimetype": "text/x-python",
   "name": "python",
   "nbconvert_exporter": "python",
   "pygments_lexer": "ipython3",
   "version": "3.12.0"
  }
 },
 "nbformat": 4,
 "nbformat_minor": 2
}
