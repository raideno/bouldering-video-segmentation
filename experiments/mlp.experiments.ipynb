{
 "cells": [
  {
   "cell_type": "markdown",
   "metadata": {},
   "source": [
    "<div class=\"alert alert-info\">\n",
    "\n",
    "#### **MLP Experiment**\n",
    "\n",
    "In this notebook we are going to train a simple linear classifier on the climbing dataset.\n",
    "\n",
    "</div>"
   ]
  },
  {
   "cell_type": "code",
   "execution_count": 80,
   "metadata": {},
   "outputs": [
    {
     "name": "stdout",
     "output_type": "stream",
     "text": [
      "The autoreload extension is already loaded. To reload it, use:\n",
      "  %reload_ext autoreload\n"
     ]
    }
   ],
   "source": [
    "%load_ext autoreload\n",
    "%autoreload 2"
   ]
  },
  {
   "cell_type": "code",
   "execution_count": 81,
   "metadata": {},
   "outputs": [],
   "source": [
    "from experiments.helpers.plots_formatting import ICML"
   ]
  },
  {
   "cell_type": "markdown",
   "metadata": {},
   "source": [
    "<div class=\"alert alert-info\">\n",
    "\n",
    "#### **1- Preliminary**\n",
    "\n",
    "We first do a preliminary work to prepare the datasets. In order to know more about this, please read the `experiments/preliminary.ipynb` notebook.\n",
    "\n",
    "</div>"
   ]
  },
  {
   "cell_type": "code",
   "execution_count": 82,
   "metadata": {},
   "outputs": [],
   "source": [
    "from experiments.helpers.preliminary import preliminary, FilteringMode, FilteringOperator"
   ]
  },
  {
   "cell_type": "code",
   "execution_count": 83,
   "metadata": {},
   "outputs": [],
   "source": [
    "# FILTERING_MODE = FilteringMode(0)\n",
    "# FILTERING_MODE = FilteringMode.NO_PERSONLESS\n",
    "# FILTERING_MODE = FilteringMode.NO_PERSONLESS | FilteringMode.NO_NOTHING_CLASS\n",
    "FILTERING_MODE = FilteringMode.NO_PERSONLESS | FilteringMode.NO_NOTHING_CLASS | FilteringMode.NO_STOPWATCH_CLASS\n",
    "# FILTERING_MODE = FilteringMode.NO_PERSONLESS | FilteringMode.NO_STOPWATCH_CLASS | FilteringMode.NO_NOTHING_CLASS | FilteringMode.NO_MULTI_CLASS"
   ]
  },
  {
   "cell_type": "code",
   "execution_count": 84,
   "metadata": {},
   "outputs": [
    {
     "name": "stdout",
     "output_type": "stream",
     "text": [
      "[extractor-yolo]:\n",
      "[extractor-dino]:\n",
      "[extractor-r3d]:\n",
      "[extractor-i3d]:\n",
      "[extractor-clip]:\n",
      "[extractor-x3d-xs]:\n",
      "[extractor-x3d-s]:\n",
      "[extractor-x3d-m]:\n",
      "[extractor-x3d-l]:\n",
      "[extractor-s3d-k]:\n",
      "[extractor-s3d-h]:\n",
      "[extractor-slowfast]:\n",
      "[extractor-vivit]:\n"
     ]
    }
   ],
   "source": [
    "datasets, filtered_datasets, extractors = preliminary(\n",
    "    filtering_mode=FILTERING_MODE,\n",
    "    filtering_operator=FilteringOperator.OR,\n",
    "    ignore_frames_extraction=True\n",
    ")"
   ]
  },
  {
   "cell_type": "code",
   "execution_count": 85,
   "metadata": {},
   "outputs": [
    {
     "name": "stdout",
     "output_type": "stream",
     "text": [
      "[filtering-loss]: 21.43%\n"
     ]
    }
   ],
   "source": [
    "initial_size = len(datasets[0])\n",
    "filtered_size = len(filtered_datasets[0])\n",
    "\n",
    "reduction_percentage = 100 * (initial_size - filtered_size) / initial_size\n",
    "\n",
    "print(f\"[filtering-loss]: {reduction_percentage:.2f}%\")"
   ]
  },
  {
   "cell_type": "markdown",
   "metadata": {},
   "source": [
    "<div class=\"alert alert-info\">\n",
    "\n",
    "#### **2- Model Creation**\n",
    "\n",
    "Now we'll create the model on which we'll train the features we just extracted.\n",
    "\n",
    "</div>"
   ]
  },
  {
   "cell_type": "code",
   "execution_count": 86,
   "metadata": {},
   "outputs": [],
   "source": [
    "from bouldering_video_segmentation.models import VideoSegmentMlp"
   ]
  },
  {
   "cell_type": "markdown",
   "metadata": {},
   "source": [
    "<div class=\"alert alert-info\">\n",
    "\n",
    "#### **3- Training**\n",
    "\n",
    "Below we'll train our model on the different extracted features. We'll run several trainings with different feature extractors in order to do cross validation and have an accurate estimation of the model's performance.\n",
    "\n",
    "The `Trainer` class is simply a class that takes the model and train it for a given number of epochs.\n",
    "\n",
    "</div>"
   ]
  },
  {
   "cell_type": "code",
   "execution_count": 87,
   "metadata": {},
   "outputs": [],
   "source": [
    "import torch\n",
    "\n",
    "class WrapperDataset(torch.utils.data.Dataset):\n",
    "    def __init__(self, dataset, transform=None):\n",
    "        self.dataset = dataset\n",
    "        self.transform = transform\n",
    "        \n",
    "    def __getitem__(self, index):\n",
    "        if self.transform:\n",
    "            return self.transform(self.dataset[index])\n",
    "        else:\n",
    "            return self.dataset[index]\n",
    "        \n",
    "    def __len__(self):\n",
    "        return len(self.dataset)"
   ]
  },
  {
   "cell_type": "code",
   "execution_count": 88,
   "metadata": {},
   "outputs": [],
   "source": [
    "def transform(sample):\n",
    "    features, annotations, video_id, segment_index = sample\n",
    "    \n",
    "    return features, annotations[0]"
   ]
  },
  {
   "cell_type": "code",
   "execution_count": null,
   "metadata": {},
   "outputs": [
    {
     "name": "stderr",
     "output_type": "stream",
     "text": [
      "[dataset-mappings-construction]:: 100%|██████████| 3220/3220 [00:00<00:00, 13693.62it/s]\n",
      "[dataset-mappings-construction]:: 100%|██████████| 3220/3220 [00:00<00:00, 15756.84it/s]\n",
      "[training-yolo-1/5]: 100%|██████████| 32/32 [00:07<00:00,  4.05epoch/s, training-loss=0.718, training-accuracy=0.705, validation-loss=0.76, validation-accuracy=0.681, best-validation-accuracy=0.711, best-training-accuracy=0.695] \n",
      "[dataset-mappings-construction]:: 100%|██████████| 3220/3220 [00:00<00:00, 4371.52it/s]\n",
      "[dataset-mappings-construction]:: 100%|██████████| 3220/3220 [00:00<00:00, 14526.62it/s]\n",
      "[training-dino-1/5]: 100%|██████████| 32/32 [00:09<00:00,  3.55epoch/s, training-loss=0.211, training-accuracy=0.92, validation-loss=1.14, validation-accuracy=0.734, best-validation-accuracy=0.867, best-training-accuracy=0.78]  \n",
      "[dataset-mappings-construction]:: 100%|██████████| 3220/3220 [00:00<00:00, 4727.01it/s]\n",
      "[dataset-mappings-construction]:: 100%|██████████| 3220/3220 [00:00<00:00, 13780.17it/s]\n",
      "[training-r3d-1/5]: 100%|██████████| 32/32 [00:09<00:00,  3.44epoch/s, training-loss=0.271, training-accuracy=0.909, validation-loss=0.377, validation-accuracy=0.865, best-validation-accuracy=0.877, best-training-accuracy=0.896]\n",
      "[dataset-mappings-construction]:: 100%|██████████| 3220/3220 [00:00<00:00, 4960.14it/s]\n",
      "[dataset-mappings-construction]:: 100%|██████████| 3220/3220 [00:00<00:00, 14325.23it/s]\n",
      "[training-i3d-1/5]: 100%|██████████| 32/32 [00:08<00:00,  3.73epoch/s, training-loss=0.303, training-accuracy=0.891, validation-loss=0.487, validation-accuracy=0.813, best-validation-accuracy=0.849, best-training-accuracy=0.851]\n",
      "[dataset-mappings-construction]:: 100%|██████████| 3220/3220 [00:00<00:00, 5526.37it/s]\n",
      "[dataset-mappings-construction]:: 100%|██████████| 3220/3220 [00:00<00:00, 12996.66it/s]\n",
      "[training-clip-1/5]: 100%|██████████| 32/32 [00:09<00:00,  3.45epoch/s, training-loss=0.251, training-accuracy=0.911, validation-loss=1.3, validation-accuracy=0.665, best-validation-accuracy=0.76, best-training-accuracy=0.812]  \n",
      "[dataset-mappings-construction]:: 100%|██████████| 3220/3220 [00:00<00:00, 6247.09it/s]\n",
      "[dataset-mappings-construction]:: 100%|██████████| 3220/3220 [00:00<00:00, 14338.95it/s]\n",
      "[training-x3d-xs-1/5]: 100%|██████████| 32/32 [00:08<00:00,  3.74epoch/s, training-loss=0.231, training-accuracy=0.922, validation-loss=0.479, validation-accuracy=0.829, best-validation-accuracy=0.85, best-training-accuracy=0.89]  \n",
      "[dataset-mappings-construction]:: 100%|██████████| 3220/3220 [00:00<00:00, 7803.45it/s]\n",
      "[dataset-mappings-construction]:: 100%|██████████| 3220/3220 [00:00<00:00, 13509.77it/s]\n",
      "[training-x3d-s-1/5]: 100%|██████████| 32/32 [00:08<00:00,  3.93epoch/s, training-loss=0.19, training-accuracy=0.926, validation-loss=0.453, validation-accuracy=0.845, best-validation-accuracy=0.886, best-training-accuracy=0.897] \n",
      "[dataset-mappings-construction]:: 100%|██████████| 3220/3220 [00:00<00:00, 6758.60it/s]\n",
      "[dataset-mappings-construction]:: 100%|██████████| 3220/3220 [00:00<00:00, 13953.11it/s]\n",
      "[training-x3d-m-1/5]: 100%|██████████| 32/32 [00:09<00:00,  3.21epoch/s, training-loss=0.197, training-accuracy=0.927, validation-loss=0.426, validation-accuracy=0.849, best-validation-accuracy=0.88, best-training-accuracy=0.887]\n",
      "[dataset-mappings-construction]:: 100%|██████████| 3220/3220 [00:00<00:00, 5813.47it/s]\n",
      "[dataset-mappings-construction]:: 100%|██████████| 3220/3220 [00:00<00:00, 11886.96it/s]\n",
      "[training-x3d-l-1/5]: 100%|██████████| 32/32 [00:08<00:00,  3.64epoch/s, training-loss=0.202, training-accuracy=0.924, validation-loss=0.389, validation-accuracy=0.878, best-validation-accuracy=0.889, best-training-accuracy=0.916]\n",
      "[dataset-mappings-construction]:: 100%|██████████| 3220/3220 [00:00<00:00, 6519.75it/s]\n",
      "[dataset-mappings-construction]:: 100%|██████████| 3220/3220 [00:00<00:00, 14609.98it/s]\n",
      "[training-s3d-k-1/5]: 100%|██████████| 32/32 [00:08<00:00,  3.76epoch/s, training-loss=0.378, training-accuracy=0.874, validation-loss=0.507, validation-accuracy=0.817, best-validation-accuracy=0.817, best-training-accuracy=0.874]\n",
      "[dataset-mappings-construction]:: 100%|██████████| 3220/3220 [00:00<00:00, 4946.34it/s]\n",
      "[dataset-mappings-construction]:: 100%|██████████| 3220/3220 [00:00<00:00, 14725.06it/s]\n",
      "[training-s3d-h-1/5]: 100%|██████████| 32/32 [00:08<00:00,  3.94epoch/s, training-loss=0.982, training-accuracy=0.639, validation-loss=1.02, validation-accuracy=0.58, best-validation-accuracy=0.58, best-training-accuracy=0.639]  \n",
      "[dataset-mappings-construction]:: 100%|██████████| 3220/3220 [00:00<00:00, 7497.44it/s]\n",
      "[dataset-mappings-construction]:: 100%|██████████| 3220/3220 [00:00<00:00, 13837.72it/s]\n",
      "[training-slowfast-1/5]: 100%|██████████| 32/32 [00:08<00:00,  3.96epoch/s, training-loss=0.125, training-accuracy=0.978, validation-loss=0.419, validation-accuracy=0.846, best-validation-accuracy=0.867, best-training-accuracy=0.939]\n",
      "[dataset-mappings-construction]:: 100%|██████████| 3220/3220 [00:00<00:00, 4844.46it/s]\n",
      "[dataset-mappings-construction]:: 100%|██████████| 3220/3220 [00:00<00:00, 14904.03it/s]\n",
      "[training-vivit-1/5]: 100%|██████████| 32/32 [00:08<00:00,  3.91epoch/s, training-loss=0.245, training-accuracy=0.907, validation-loss=0.594, validation-accuracy=0.764, best-validation-accuracy=0.831, best-training-accuracy=0.882]\n",
      "[dataset-mappings-construction]:: 100%|██████████| 3220/3220 [00:00<00:00, 6765.83it/s]\n",
      "[dataset-mappings-construction]:: 100%|██████████| 3220/3220 [00:00<00:00, 15038.24it/s]\n",
      "[training-yolo-2/5]: 100%|██████████| 32/32 [00:07<00:00,  4.20epoch/s, training-loss=0.69, training-accuracy=0.707, validation-loss=0.867, validation-accuracy=0.642, best-validation-accuracy=0.664, best-training-accuracy=0.691] \n",
      "[dataset-mappings-construction]:: 100%|██████████| 3220/3220 [00:00<00:00, 4128.15it/s]\n",
      "[dataset-mappings-construction]:: 100%|██████████| 3220/3220 [00:00<00:00, 9505.68it/s]\n",
      "[training-dino-2/5]: 100%|██████████| 32/32 [00:08<00:00,  3.76epoch/s, training-loss=0.218, training-accuracy=0.919, validation-loss=0.952, validation-accuracy=0.729, best-validation-accuracy=0.831, best-training-accuracy=0.833]\n",
      "[dataset-mappings-construction]:: 100%|██████████| 3220/3220 [00:00<00:00, 4876.91it/s]\n",
      "[dataset-mappings-construction]:: 100%|██████████| 3220/3220 [00:00<00:00, 14301.69it/s]\n",
      "[training-r3d-2/5]: 100%|██████████| 32/32 [00:07<00:00,  4.00epoch/s, training-loss=0.265, training-accuracy=0.909, validation-loss=0.416, validation-accuracy=0.863, best-validation-accuracy=0.89, best-training-accuracy=0.888] \n",
      "[dataset-mappings-construction]:: 100%|██████████| 3220/3220 [00:00<00:00, 4754.85it/s]\n",
      "[dataset-mappings-construction]:: 100%|██████████| 3220/3220 [00:00<00:00, 14731.24it/s]\n",
      "[training-i3d-2/5]: 100%|██████████| 32/32 [00:08<00:00,  3.93epoch/s, training-loss=0.3, training-accuracy=0.898, validation-loss=0.43, validation-accuracy=0.831, best-validation-accuracy=0.845, best-training-accuracy=0.88]    \n",
      "[dataset-mappings-construction]:: 100%|██████████| 3220/3220 [00:00<00:00, 6021.34it/s]\n",
      "[dataset-mappings-construction]:: 100%|██████████| 3220/3220 [00:00<00:00, 14332.01it/s]\n",
      "[training-clip-2/5]: 100%|██████████| 32/32 [00:08<00:00,  3.81epoch/s, training-loss=0.243, training-accuracy=0.911, validation-loss=0.794, validation-accuracy=0.705, best-validation-accuracy=0.805, best-training-accuracy=0.81]\n",
      "[dataset-mappings-construction]:: 100%|██████████| 3220/3220 [00:00<00:00, 6910.20it/s]\n",
      "[dataset-mappings-construction]:: 100%|██████████| 3220/3220 [00:00<00:00, 14574.95it/s]\n",
      "[training-x3d-xs-2/5]: 100%|██████████| 32/32 [00:08<00:00,  3.95epoch/s, training-loss=0.217, training-accuracy=0.925, validation-loss=0.497, validation-accuracy=0.822, best-validation-accuracy=0.86, best-training-accuracy=0.865]\n",
      "[dataset-mappings-construction]:: 100%|██████████| 3220/3220 [00:00<00:00, 7844.17it/s]\n",
      "[dataset-mappings-construction]:: 100%|██████████| 3220/3220 [00:00<00:00, 14446.27it/s]\n",
      "[training-x3d-s-2/5]: 100%|██████████| 32/32 [00:08<00:00,  3.86epoch/s, training-loss=0.186, training-accuracy=0.936, validation-loss=0.46, validation-accuracy=0.823, best-validation-accuracy=0.901, best-training-accuracy=0.855] \n",
      "[dataset-mappings-construction]:: 100%|██████████| 3220/3220 [00:00<00:00, 7720.38it/s]\n",
      "[dataset-mappings-construction]:: 100%|██████████| 3220/3220 [00:00<00:00, 14520.06it/s]\n",
      "[training-x3d-m-2/5]: 100%|██████████| 32/32 [00:08<00:00,  3.99epoch/s, training-loss=0.181, training-accuracy=0.935, validation-loss=0.436, validation-accuracy=0.846, best-validation-accuracy=0.901, best-training-accuracy=0.882]\n",
      "[dataset-mappings-construction]:: 100%|██████████| 3220/3220 [00:00<00:00, 7288.17it/s]\n",
      "[dataset-mappings-construction]:: 100%|██████████| 3220/3220 [00:00<00:00, 14351.60it/s]\n",
      "[training-x3d-l-2/5]: 100%|██████████| 32/32 [00:08<00:00,  3.89epoch/s, training-loss=0.194, training-accuracy=0.931, validation-loss=0.518, validation-accuracy=0.817, best-validation-accuracy=0.893, best-training-accuracy=0.863]\n",
      "[dataset-mappings-construction]:: 100%|██████████| 3220/3220 [00:00<00:00, 6565.20it/s]\n",
      "[dataset-mappings-construction]:: 100%|██████████| 3220/3220 [00:00<00:00, 14604.38it/s]\n",
      "[training-s3d-k-2/5]: 100%|██████████| 32/32 [00:08<00:00,  3.95epoch/s, training-loss=0.381, training-accuracy=0.872, validation-loss=0.471, validation-accuracy=0.805, best-validation-accuracy=0.819, best-training-accuracy=0.871]\n",
      "[dataset-mappings-construction]:: 100%|██████████| 3220/3220 [00:00<00:00, 4927.36it/s]\n",
      "[dataset-mappings-construction]:: 100%|██████████| 3220/3220 [00:00<00:00, 14794.87it/s]\n",
      "[training-s3d-h-2/5]: 100%|██████████| 32/32 [00:08<00:00,  3.93epoch/s, training-loss=0.987, training-accuracy=0.596, validation-loss=0.997, validation-accuracy=0.525, best-validation-accuracy=0.525, best-training-accuracy=0.596]\n",
      "[dataset-mappings-construction]:: 100%|██████████| 3220/3220 [00:00<00:00, 7482.84it/s]\n",
      "[dataset-mappings-construction]:: 100%|██████████| 3220/3220 [00:00<00:00, 14536.59it/s]\n",
      "[training-slowfast-2/5]: 100%|██████████| 32/32 [00:07<00:00,  4.00epoch/s, training-loss=0.129, training-accuracy=0.976, validation-loss=0.364, validation-accuracy=0.858, best-validation-accuracy=0.878, best-training-accuracy=0.924]\n",
      "[dataset-mappings-construction]:: 100%|██████████| 3220/3220 [00:00<00:00, 4905.71it/s]\n",
      "[dataset-mappings-construction]:: 100%|██████████| 3220/3220 [00:00<00:00, 15014.18it/s]\n",
      "[training-vivit-2/5]: 100%|██████████| 32/32 [00:08<00:00,  3.98epoch/s, training-loss=0.222, training-accuracy=0.919, validation-loss=0.665, validation-accuracy=0.752, best-validation-accuracy=0.776, best-training-accuracy=0.854]\n",
      "[dataset-mappings-construction]:: 100%|██████████| 3220/3220 [00:00<00:00, 6794.68it/s]\n",
      "[dataset-mappings-construction]:: 100%|██████████| 3220/3220 [00:00<00:00, 15007.17it/s]\n",
      "[training-yolo-3/5]: 100%|██████████| 32/32 [00:07<00:00,  4.23epoch/s, training-loss=0.706, training-accuracy=0.708, validation-loss=0.753, validation-accuracy=0.655, best-validation-accuracy=0.655, best-training-accuracy=0.708]\n",
      "[dataset-mappings-construction]:: 100%|██████████| 3220/3220 [00:00<00:00, 4654.81it/s]\n",
      "[dataset-mappings-construction]:: 100%|██████████| 3220/3220 [00:00<00:00, 14378.92it/s]\n",
      "[training-dino-3/5]: 100%|██████████| 32/32 [00:08<00:00,  3.94epoch/s, training-loss=0.249, training-accuracy=0.918, validation-loss=1.73, validation-accuracy=0.676, best-validation-accuracy=0.761, best-training-accuracy=0.762] \n",
      "[dataset-mappings-construction]:: 100%|██████████| 3220/3220 [00:00<00:00, 4824.95it/s]\n",
      "[dataset-mappings-construction]:: 100%|██████████| 3220/3220 [00:00<00:00, 14521.12it/s]\n",
      "[training-r3d-3/5]: 100%|██████████| 32/32 [00:08<00:00,  3.96epoch/s, training-loss=0.25, training-accuracy=0.907, validation-loss=0.572, validation-accuracy=0.828, best-validation-accuracy=0.857, best-training-accuracy=0.892] \n",
      "[dataset-mappings-construction]:: 100%|██████████| 3220/3220 [00:00<00:00, 4928.79it/s]\n",
      "[dataset-mappings-construction]:: 100%|██████████| 3220/3220 [00:00<00:00, 14646.54it/s]\n",
      "[training-i3d-3/5]: 100%|██████████| 32/32 [00:08<00:00,  3.94epoch/s, training-loss=0.292, training-accuracy=0.902, validation-loss=0.606, validation-accuracy=0.761, best-validation-accuracy=0.786, best-training-accuracy=0.896]\n",
      "[dataset-mappings-construction]:: 100%|██████████| 3220/3220 [00:00<00:00, 6019.78it/s]\n",
      "[dataset-mappings-construction]:: 100%|██████████| 3220/3220 [00:00<00:00, 10077.17it/s]\n",
      "[training-clip-3/5]: 100%|██████████| 32/32 [00:08<00:00,  3.84epoch/s, training-loss=0.232, training-accuracy=0.915, validation-loss=0.744, validation-accuracy=0.716, best-validation-accuracy=0.775, best-training-accuracy=0.799]\n",
      "[dataset-mappings-construction]:: 100%|██████████| 3220/3220 [00:00<00:00, 6896.58it/s]\n",
      "[dataset-mappings-construction]:: 100%|██████████| 3220/3220 [00:00<00:00, 14436.22it/s]\n",
      "[training-x3d-xs-3/5]: 100%|██████████| 32/32 [00:08<00:00,  3.95epoch/s, training-loss=0.222, training-accuracy=0.926, validation-loss=0.537, validation-accuracy=0.808, best-validation-accuracy=0.812, best-training-accuracy=0.916]\n",
      "[dataset-mappings-construction]:: 100%|██████████| 3220/3220 [00:00<00:00, 7847.84it/s]\n",
      "[dataset-mappings-construction]:: 100%|██████████| 3220/3220 [00:00<00:00, 14576.66it/s]\n",
      "[training-x3d-s-3/5]: 100%|██████████| 32/32 [00:07<00:00,  4.00epoch/s, training-loss=0.183, training-accuracy=0.938, validation-loss=0.416, validation-accuracy=0.848, best-validation-accuracy=0.868, best-training-accuracy=0.915]\n",
      "[dataset-mappings-construction]:: 100%|██████████| 3220/3220 [00:00<00:00, 7652.43it/s]\n",
      "[dataset-mappings-construction]:: 100%|██████████| 3220/3220 [00:00<00:00, 14358.48it/s]\n",
      "[training-x3d-m-3/5]: 100%|██████████| 32/32 [00:08<00:00,  3.96epoch/s, training-loss=0.19, training-accuracy=0.933, validation-loss=0.441, validation-accuracy=0.866, best-validation-accuracy=0.876, best-training-accuracy=0.894] \n",
      "[dataset-mappings-construction]:: 100%|██████████| 3220/3220 [00:00<00:00, 7052.36it/s]\n",
      "[dataset-mappings-construction]:: 100%|██████████| 3220/3220 [00:00<00:00, 14634.57it/s]\n",
      "[training-x3d-l-3/5]: 100%|██████████| 32/32 [00:08<00:00,  3.86epoch/s, training-loss=0.181, training-accuracy=0.933, validation-loss=0.475, validation-accuracy=0.824, best-validation-accuracy=0.852, best-training-accuracy=0.922]\n",
      "[dataset-mappings-construction]:: 100%|██████████| 3220/3220 [00:00<00:00, 7313.33it/s]\n",
      "[dataset-mappings-construction]:: 100%|██████████| 3220/3220 [00:00<00:00, 14020.61it/s]\n",
      "[training-s3d-k-3/5]: 100%|██████████| 32/32 [00:08<00:00,  3.84epoch/s, training-loss=0.364, training-accuracy=0.877, validation-loss=0.589, validation-accuracy=0.798, best-validation-accuracy=0.805, best-training-accuracy=0.869]\n",
      "[dataset-mappings-construction]:: 100%|██████████| 3220/3220 [00:00<00:00, 5305.02it/s]\n",
      "[dataset-mappings-construction]:: 100%|██████████| 3220/3220 [00:00<00:00, 14725.97it/s]\n",
      "[training-s3d-h-3/5]: 100%|██████████| 32/32 [00:08<00:00,  3.83epoch/s, training-loss=0.982, training-accuracy=0.628, validation-loss=1.01, validation-accuracy=0.631, best-validation-accuracy=0.631, best-training-accuracy=0.628]\n",
      "[dataset-mappings-construction]:: 100%|██████████| 3220/3220 [00:00<00:00, 8014.30it/s]\n",
      "[dataset-mappings-construction]:: 100%|██████████| 3220/3220 [00:00<00:00, 14518.76it/s]\n",
      "[training-slowfast-3/5]: 100%|██████████| 32/32 [00:07<00:00,  4.00epoch/s, training-loss=0.122, training-accuracy=0.982, validation-loss=0.45, validation-accuracy=0.834, best-validation-accuracy=0.841, best-training-accuracy=0.884] \n",
      "[dataset-mappings-construction]:: 100%|██████████| 3220/3220 [00:00<00:00, 5110.91it/s]\n",
      "[dataset-mappings-construction]:: 100%|██████████| 3220/3220 [00:00<00:00, 13655.87it/s]\n",
      "[training-vivit-3/5]: 100%|██████████| 32/32 [00:08<00:00,  3.96epoch/s, training-loss=0.236, training-accuracy=0.912, validation-loss=0.523, validation-accuracy=0.786, best-validation-accuracy=0.791, best-training-accuracy=0.893]\n",
      "[dataset-mappings-construction]:: 100%|██████████| 3220/3220 [00:00<00:00, 7676.63it/s]\n",
      "[dataset-mappings-construction]:: 100%|██████████| 3220/3220 [00:00<00:00, 14922.97it/s]\n",
      "[training-yolo-4/5]: 100%|██████████| 32/32 [00:07<00:00,  4.22epoch/s, training-loss=0.676, training-accuracy=0.715, validation-loss=0.955, validation-accuracy=0.559, best-validation-accuracy=0.59, best-training-accuracy=0.706] \n",
      "[dataset-mappings-construction]:: 100%|██████████| 3220/3220 [00:00<00:00, 4972.43it/s]\n",
      "[dataset-mappings-construction]:: 100%|██████████| 3220/3220 [00:00<00:00, 14363.09it/s]\n",
      "[training-dino-4/5]: 100%|██████████| 32/32 [00:08<00:00,  3.97epoch/s, training-loss=0.212, training-accuracy=0.925, validation-loss=1.97, validation-accuracy=0.649, best-validation-accuracy=0.733, best-training-accuracy=0.845] \n",
      "[dataset-mappings-construction]:: 100%|██████████| 3220/3220 [00:00<00:00, 5206.13it/s]\n",
      "[dataset-mappings-construction]:: 100%|██████████| 3220/3220 [00:00<00:00, 14563.41it/s]\n",
      "[training-r3d-4/5]: 100%|██████████| 32/32 [00:08<00:00,  3.90epoch/s, training-loss=0.229, training-accuracy=0.917, validation-loss=0.956, validation-accuracy=0.731, best-validation-accuracy=0.763, best-training-accuracy=0.885]\n",
      "[dataset-mappings-construction]:: 100%|██████████| 3220/3220 [00:00<00:00, 5232.50it/s]\n",
      "[dataset-mappings-construction]:: 100%|██████████| 3220/3220 [00:00<00:00, 14580.63it/s]\n",
      "[training-i3d-4/5]: 100%|██████████| 32/32 [00:08<00:00,  3.98epoch/s, training-loss=0.271, training-accuracy=0.905, validation-loss=1.08, validation-accuracy=0.631, best-validation-accuracy=0.629, best-training-accuracy=0.849] \n",
      "[dataset-mappings-construction]:: 100%|██████████| 3220/3220 [00:00<00:00, 6449.88it/s]\n",
      "[dataset-mappings-construction]:: 100%|██████████| 3220/3220 [00:00<00:00, 14265.29it/s]\n",
      "[training-clip-4/5]: 100%|██████████| 32/32 [00:08<00:00,  3.88epoch/s, training-loss=0.223, training-accuracy=0.92, validation-loss=1.17, validation-accuracy=0.673, best-validation-accuracy=0.761, best-training-accuracy=0.828]  \n",
      "[dataset-mappings-construction]:: 100%|██████████| 3220/3220 [00:00<00:00, 7564.19it/s]\n",
      "[dataset-mappings-construction]:: 100%|██████████| 3220/3220 [00:00<00:00, 14578.90it/s]\n",
      "[training-x3d-xs-4/5]: 100%|██████████| 32/32 [00:08<00:00,  3.94epoch/s, training-loss=0.211, training-accuracy=0.923, validation-loss=0.829, validation-accuracy=0.751, best-validation-accuracy=0.754, best-training-accuracy=0.868]\n",
      "[dataset-mappings-construction]:: 100%|██████████| 3220/3220 [00:00<00:00, 8997.13it/s]\n",
      "[dataset-mappings-construction]:: 100%|██████████| 3220/3220 [00:00<00:00, 14601.31it/s]\n",
      "[training-x3d-s-4/5]: 100%|██████████| 32/32 [00:07<00:00,  4.03epoch/s, training-loss=0.183, training-accuracy=0.945, validation-loss=0.882, validation-accuracy=0.772, best-validation-accuracy=0.766, best-training-accuracy=0.829]\n",
      "[dataset-mappings-construction]:: 100%|██████████| 3220/3220 [00:00<00:00, 8893.70it/s]\n",
      "[dataset-mappings-construction]:: 100%|██████████| 3220/3220 [00:00<00:00, 14554.99it/s]\n",
      "[training-x3d-m-4/5]: 100%|██████████| 32/32 [00:08<00:00,  3.98epoch/s, training-loss=0.173, training-accuracy=0.94, validation-loss=0.976, validation-accuracy=0.787, best-validation-accuracy=0.787, best-training-accuracy=0.89] \n",
      "[dataset-mappings-construction]:: 100%|██████████| 3220/3220 [00:00<00:00, 8150.75it/s]\n",
      "[dataset-mappings-construction]:: 100%|██████████| 3220/3220 [00:00<00:00, 14599.15it/s]\n",
      "[training-x3d-l-4/5]: 100%|██████████| 32/32 [00:08<00:00,  3.95epoch/s, training-loss=0.164, training-accuracy=0.936, validation-loss=0.892, validation-accuracy=0.778, best-validation-accuracy=0.79, best-training-accuracy=0.804]\n",
      "[dataset-mappings-construction]:: 100%|██████████| 3220/3220 [00:00<00:00, 6481.47it/s]\n",
      "[dataset-mappings-construction]:: 100%|██████████| 3220/3220 [00:00<00:00, 14455.04it/s]\n",
      "[training-s3d-k-4/5]: 100%|██████████| 32/32 [00:08<00:00,  3.92epoch/s, training-loss=0.34, training-accuracy=0.887, validation-loss=0.778, validation-accuracy=0.681, best-validation-accuracy=0.681, best-training-accuracy=0.887] \n",
      "[dataset-mappings-construction]:: 100%|██████████| 3220/3220 [00:00<00:00, 4973.00it/s]\n",
      "[dataset-mappings-construction]:: 100%|██████████| 3220/3220 [00:00<00:00, 14668.92it/s]\n",
      "[training-s3d-h-4/5]: 100%|██████████| 32/32 [00:08<00:00,  3.93epoch/s, training-loss=0.96, training-accuracy=0.663, validation-loss=1.08, validation-accuracy=0.494, best-validation-accuracy=0.494, best-training-accuracy=0.663] \n",
      "[dataset-mappings-construction]:: 100%|██████████| 3220/3220 [00:00<00:00, 7423.18it/s]\n",
      "[dataset-mappings-construction]:: 100%|██████████| 3220/3220 [00:00<00:00, 14217.79it/s]\n",
      "[training-slowfast-4/5]: 100%|██████████| 32/32 [00:08<00:00,  3.98epoch/s, training-loss=0.112, training-accuracy=0.977, validation-loss=0.769, validation-accuracy=0.766, best-validation-accuracy=0.804, best-training-accuracy=0.946]\n",
      "[dataset-mappings-construction]:: 100%|██████████| 3220/3220 [00:00<00:00, 5001.62it/s]\n",
      "[dataset-mappings-construction]:: 100%|██████████| 3220/3220 [00:00<00:00, 14331.10it/s]\n",
      "[training-vivit-4/5]: 100%|██████████| 32/32 [00:08<00:00,  3.96epoch/s, training-loss=0.215, training-accuracy=0.929, validation-loss=1.22, validation-accuracy=0.657, best-validation-accuracy=0.679, best-training-accuracy=0.813] \n",
      "[dataset-mappings-construction]:: 100%|██████████| 3220/3220 [00:00<00:00, 6818.08it/s]\n",
      "[dataset-mappings-construction]:: 100%|██████████| 3220/3220 [00:00<00:00, 15070.67it/s]\n",
      "[training-yolo-5/5]: 100%|██████████| 32/32 [00:07<00:00,  4.16epoch/s, training-loss=0.713, training-accuracy=0.708, validation-loss=0.77, validation-accuracy=0.625, best-validation-accuracy=0.673, best-training-accuracy=0.697] \n",
      "[dataset-mappings-construction]:: 100%|██████████| 3220/3220 [00:00<00:00, 4650.93it/s]\n",
      "[dataset-mappings-construction]:: 100%|██████████| 3220/3220 [00:00<00:00, 14464.03it/s]\n",
      "[training-dino-5/5]: 100%|██████████| 32/32 [00:08<00:00,  3.91epoch/s, training-loss=0.202, training-accuracy=0.93, validation-loss=1.84, validation-accuracy=0.719, best-validation-accuracy=0.834, best-training-accuracy=0.764] \n",
      "[dataset-mappings-construction]:: 100%|██████████| 3220/3220 [00:00<00:00, 4863.16it/s]\n",
      "[dataset-mappings-construction]:: 100%|██████████| 3220/3220 [00:00<00:00, 14599.40it/s]\n",
      "[training-r3d-5/5]: 100%|██████████| 32/32 [00:07<00:00,  4.01epoch/s, training-loss=0.22, training-accuracy=0.929, validation-loss=0.654, validation-accuracy=0.839, best-validation-accuracy=0.82, best-training-accuracy=0.873] \n",
      "[dataset-mappings-construction]:: 100%|██████████| 3220/3220 [00:00<00:00, 4886.01it/s]\n",
      "[dataset-mappings-construction]:: 100%|██████████| 3220/3220 [00:00<00:00, 14641.17it/s]\n",
      "[training-i3d-5/5]: 100%|██████████| 32/32 [00:08<00:00,  3.89epoch/s, training-loss=0.266, training-accuracy=0.912, validation-loss=0.717, validation-accuracy=0.767, best-validation-accuracy=0.772, best-training-accuracy=0.835]\n",
      "[dataset-mappings-construction]:: 100%|██████████| 3220/3220 [00:00<00:00, 5833.30it/s]\n",
      "[dataset-mappings-construction]:: 100%|██████████| 3220/3220 [00:00<00:00, 14173.78it/s]\n",
      "[training-clip-5/5]: 100%|██████████| 32/32 [00:08<00:00,  3.88epoch/s, training-loss=0.21, training-accuracy=0.918, validation-loss=1.04, validation-accuracy=0.678, best-validation-accuracy=0.752, best-training-accuracy=0.715]  \n",
      "[dataset-mappings-construction]:: 100%|██████████| 3220/3220 [00:00<00:00, 6838.56it/s]\n",
      "[dataset-mappings-construction]:: 100%|██████████| 3220/3220 [00:00<00:00, 14417.82it/s]\n",
      "[training-x3d-xs-5/5]: 100%|██████████| 32/32 [00:08<00:00,  3.97epoch/s, training-loss=0.185, training-accuracy=0.937, validation-loss=0.792, validation-accuracy=0.832, best-validation-accuracy=0.807, best-training-accuracy=0.766]\n",
      "[dataset-mappings-construction]:: 100%|██████████| 3220/3220 [00:00<00:00, 7908.34it/s]\n",
      "[dataset-mappings-construction]:: 100%|██████████| 3220/3220 [00:00<00:00, 14634.57it/s]\n",
      "[training-x3d-s-5/5]: 100%|██████████| 32/32 [00:07<00:00,  4.03epoch/s, training-loss=0.146, training-accuracy=0.95, validation-loss=0.768, validation-accuracy=0.846, best-validation-accuracy=0.824, best-training-accuracy=0.819] \n",
      "[dataset-mappings-construction]:: 100%|██████████| 3220/3220 [00:00<00:00, 7663.32it/s]\n",
      "[dataset-mappings-construction]:: 100%|██████████| 3220/3220 [00:00<00:00, 14541.05it/s]\n",
      "[training-x3d-m-5/5]: 100%|██████████| 32/32 [00:08<00:00,  3.94epoch/s, training-loss=0.151, training-accuracy=0.949, validation-loss=0.788, validation-accuracy=0.813, best-validation-accuracy=0.825, best-training-accuracy=0.878]\n",
      "[dataset-mappings-construction]:: 100%|██████████| 3220/3220 [00:00<00:00, 7353.51it/s]\n",
      "[dataset-mappings-construction]:: 100%|██████████| 3220/3220 [00:00<00:00, 14628.59it/s]\n",
      "[training-x3d-l-5/5]: 100%|██████████| 32/32 [00:08<00:00,  3.80epoch/s, training-loss=0.147, training-accuracy=0.949, validation-loss=0.864, validation-accuracy=0.813, best-validation-accuracy=0.815, best-training-accuracy=0.799]\n",
      "[dataset-mappings-construction]:: 100%|██████████| 3220/3220 [00:00<00:00, 6497.80it/s]\n",
      "[dataset-mappings-construction]:: 100%|██████████| 3220/3220 [00:00<00:00, 14540.80it/s]\n",
      "[training-s3d-k-5/5]: 100%|██████████| 32/32 [00:08<00:00,  3.89epoch/s, training-loss=0.333, training-accuracy=0.889, validation-loss=0.682, validation-accuracy=0.774, best-validation-accuracy=0.798, best-training-accuracy=0.803]\n",
      "[dataset-mappings-construction]:: 100%|██████████| 3220/3220 [00:00<00:00, 4948.84it/s]\n",
      "[dataset-mappings-construction]:: 100%|██████████| 3220/3220 [00:00<00:00, 14402.33it/s]\n",
      "[training-s3d-h-5/5]: 100%|██████████| 32/32 [00:08<00:00,  3.95epoch/s, training-loss=0.999, training-accuracy=0.614, validation-loss=0.948, validation-accuracy=0.747, best-validation-accuracy=0.747, best-training-accuracy=0.614]\n",
      "[dataset-mappings-construction]:: 100%|██████████| 3220/3220 [00:00<00:00, 7420.93it/s]\n",
      "[dataset-mappings-construction]:: 100%|██████████| 3220/3220 [00:00<00:00, 14522.49it/s]\n",
      "[training-slowfast-5/5]: 100%|██████████| 32/32 [00:08<00:00,  3.96epoch/s, training-loss=0.0968, training-accuracy=0.985, validation-loss=0.74, validation-accuracy=0.796, best-validation-accuracy=0.812, best-training-accuracy=0.879]\n",
      "[dataset-mappings-construction]:: 100%|██████████| 3220/3220 [00:00<00:00, 5000.67it/s]\n",
      "[dataset-mappings-construction]:: 100%|██████████| 3220/3220 [00:00<00:00, 14771.37it/s]\n",
      "[training-vivit-5/5]: 100%|██████████| 32/32 [00:08<00:00,  3.96epoch/s, training-loss=0.206, training-accuracy=0.931, validation-loss=0.708, validation-accuracy=0.765, best-validation-accuracy=0.805, best-training-accuracy=0.819]\n"
     ]
    }
   ],
   "source": [
    "NUMBER_OF_FOLDS = 5\n",
    "NUMBER_ANNOTATED_VIDEOS = 22\n",
    "\n",
    "from bouldering_video_segmentation.utils import LabelEncoderFactory\n",
    "\n",
    "from experiments.helpers.trainer import Trainer, TrainerVariant\n",
    "from experiments.helpers.splits_generator import splits_generator\n",
    "from experiments.helpers.videos_to_indices import videos_to_indices\n",
    "\n",
    "label_encoder = LabelEncoderFactory.get()\n",
    "\n",
    "folds_histories: list[dict] = []\n",
    "\n",
    "for fold_index, folds in enumerate(splits_generator(dataset_length=NUMBER_ANNOTATED_VIDEOS, k=NUMBER_OF_FOLDS)):\n",
    "    histories = {}\n",
    "    \n",
    "    for dataset, extractor in zip(filtered_datasets, extractors):\n",
    "        training_videos_ids, validation_videos_ids = folds\n",
    "    \n",
    "        # TODO: the issue is here, as the cached version is being used, some indices that have been filtered are trying to be reused\n",
    "        training_samples_ids = videos_to_indices(dataset, training_videos_ids)\n",
    "        validation_samples_ids = videos_to_indices(dataset, validation_videos_ids)\n",
    "        \n",
    "        training_dataset = WrapperDataset(torch.utils.data.Subset(dataset, training_samples_ids), transform)\n",
    "        validation_dataset = WrapperDataset(torch.utils.data.Subset(dataset, validation_samples_ids), transform)\n",
    "        \n",
    "        training_dataloader = torch.utils.data.DataLoader(training_dataset, batch_size=32, shuffle=True)\n",
    "        validation_dataloader = torch.utils.data.DataLoader(validation_dataset, batch_size=32, shuffle=False)\n",
    "    \n",
    "        linear_classifier = VideoSegmentMlp(output_size=len(label_encoder.classes_))\n",
    "        \n",
    "        trainer = Trainer(model=linear_classifier, variant=TrainerVariant.MLP)\n",
    "        \n",
    "        statistics = trainer.train(training_dataloader, validation_dataloader, title=f\"[training-{extractor.get_name()}-{fold_index + 1}/{NUMBER_OF_FOLDS}]\")\n",
    "        \n",
    "        histories[extractor.get_name()] = statistics\n",
    "        \n",
    "    folds_histories.append(histories)"
   ]
  },
  {
   "cell_type": "markdown",
   "metadata": {},
   "source": [
    "<div class=\"alert alert-info\">\n",
    "\n",
    "#### **4- Results**\n",
    "\n",
    "Below we are going to display the training results for each model.\n",
    "\n",
    "</div>"
   ]
  },
  {
   "cell_type": "code",
   "execution_count": 90,
   "metadata": {},
   "outputs": [],
   "source": [
    "from experiments.helpers.training_results_visualization import aggregate_training_results"
   ]
  },
  {
   "cell_type": "code",
   "execution_count": 92,
   "metadata": {},
   "outputs": [],
   "source": [
    "aggregated_training_results = aggregate_training_results(folds_histories)\n",
    "\n",
    "models_training_accuracies = aggregated_training_results.models_training_accuracies\n",
    "models_validation_accuracies = aggregated_training_results.models_validation_accuracies\n",
    "models_training_losses = aggregated_training_results.models_training_losses\n",
    "models_validation_losses = aggregated_training_results.models_validation_losses\n",
    "models_per_class_accuracies = aggregated_training_results.models_per_class_accuracies"
   ]
  },
  {
   "cell_type": "code",
   "execution_count": 97,
   "metadata": {},
   "outputs": [],
   "source": [
    "import matplotlib.pyplot as plt"
   ]
  },
  {
   "cell_type": "code",
   "execution_count": 98,
   "metadata": {},
   "outputs": [],
   "source": [
    "from experiments.helpers.training_results_visualization import Metric\n",
    "from experiments.helpers.training_results_visualization import plot_models_performance, plot_models_comparison"
   ]
  },
  {
   "cell_type": "code",
   "execution_count": 99,
   "metadata": {},
   "outputs": [
    {
     "data": {
      "text/plain": [
       "<Figure size 1000x500 with 0 Axes>"
      ]
     },
     "metadata": {},
     "output_type": "display_data"
    },
    {
     "data": {
      "image/png": "[encoded data removed]",
      "text/plain": [
       "<Figure size 675x337.5 with 2 Axes>"
      ]
     },
     "metadata": {},
     "output_type": "display_data"
    },
    {
     "data": {
      "image/png": "[encoded data removed]",
      "text/plain": [
       "<Figure size 640x480 with 1 Axes>"
      ]
     },
     "metadata": {},
     "output_type": "display_data"
    }
   ],
   "source": [
    "plot_models_performance(\n",
    "    aggregated_training_results,\n",
    "    Metric.ALL\n",
    ")\n",
    "\n",
    "plt.tight_layout()\n",
    "\n",
    "plt.show()\n",
    "\n",
    "plot_models_comparison(\n",
    "    aggregated_training_results,\n",
    "    Metric.ACCURACY\n",
    ")\n",
    "\n",
    "plt.tight_layout()\n",
    "\n",
    "plt.show()"
   ]
  },
  {
   "cell_type": "code",
   "execution_count": 40,
   "metadata": {},
   "outputs": [
    {
     "name": "stdout",
     "output_type": "stream",
     "text": [
      "<THIS IS A SEPARATION LINE> & <THIS IS A SEPARATION LINE> & <THIS IS A SEPARATION LINE> & <THIS IS A SEPARATION LINE> \\\\\n"
     ]
    },
    {
     "data": {
      "text/plain": [
       "<Figure size 1000x500 with 0 Axes>"
      ]
     },
     "metadata": {},
     "output_type": "display_data"
    }
   ],
   "source": [
    "plot_models_performance(\n",
    "    aggregated_training_results,\n",
    "    Metric.ACCURACY\n",
    ")\n",
    "\n",
    "plt.tight_layout()\n",
    "\n",
    "plt.savefig(\"../assets/figures/mlp.training-results.boxplot.png\")\n",
    "\n",
    "plt.close()\n",
    "\n",
    "# --- --- --- ---- ---\n",
    "\n",
    "plot_models_comparison(\n",
    "    aggregated_training_results,\n",
    "    Metric.ACCURACY\n",
    ")\n",
    "\n",
    "plt.tight_layout()\n",
    "\n",
    "plt.savefig(\"../assets/figures/mlp.training-results.scatter.png\")\n",
    "\n",
    "plt.close()"
   ]
  },
  {
   "cell_type": "code",
   "execution_count": null,
   "metadata": {},
   "outputs": [
    {
     "name": "stdout",
     "output_type": "stream",
     "text": [
      "8\n"
     ]
    },
    {
     "name": "stderr",
     "output_type": "stream",
     "text": [
      "/Users/nadir/Documents/code/experiments/helpers/training_results_visualization.py:253: SyntaxWarning: invalid escape sequence '\\%'\n",
      "  accuracy_with_std = f\"{(avg_accuracy * 100):.2f}\\% ± {(std_accuracy * 100):.2f}\"\n",
      "/Users/nadir/Documents/code/experiments/helpers/training_results_visualization.py:255: SyntaxWarning: invalid escape sequence '\\%'\n",
      "  accuracy_with_std = f\"{(avg_accuracy * 100):.2f}\\% ± {(std_accuracy * 100):.2f}\"\n",
      "/Users/nadir/Documents/code/experiments/helpers/training_results_visualization.py:305: SyntaxWarning: invalid escape sequence '\\l'\n",
      "  latex_code = latex_code.replace(get_separation_line_string(number_of_columns), \"\\\\midrule\")\n",
      "/Users/nadir/Documents/code/experiments/helpers/training_results_visualization.py:306: SyntaxWarning: invalid escape sequence '\\e'\n",
      "  \n",
      "[autoreload of experiments.helpers.training_results_visualization failed: Traceback (most recent call last):\n",
      "  File \"/Users/nadir/Documents/code/.venv/lib/python3.12/site-packages/IPython/extensions/autoreload.py\", line 276, in check\n",
      "    superreload(m, reload, self.old_objects)\n",
      "  File \"/Users/nadir/Documents/code/.venv/lib/python3.12/site-packages/IPython/extensions/autoreload.py\", line 500, in superreload\n",
      "    update_generic(old_obj, new_obj)\n",
      "  File \"/Users/nadir/Documents/code/.venv/lib/python3.12/site-packages/IPython/extensions/autoreload.py\", line 397, in update_generic\n",
      "    update(a, b)\n",
      "  File \"/Users/nadir/Documents/code/.venv/lib/python3.12/site-packages/IPython/extensions/autoreload.py\", line 349, in update_class\n",
      "    if update_generic(old_obj, new_obj):\n",
      "       ^^^^^^^^^^^^^^^^^^^^^^^^^^^^^^^^\n",
      "  File \"/Users/nadir/Documents/code/.venv/lib/python3.12/site-packages/IPython/extensions/autoreload.py\", line 397, in update_generic\n",
      "    update(a, b)\n",
      "  File \"/Users/nadir/Documents/code/.venv/lib/python3.12/site-packages/IPython/extensions/autoreload.py\", line 309, in update_function\n",
      "    setattr(old, name, getattr(new, name))\n",
      "ValueError: __init__() requires a code object with 5 free vars, not 6\n",
      "]\n"
     ]
    }
   ],
   "source": [
    "import pandas as pd\n",
    "\n",
    "from experiments.helpers.training_results_visualization import create_performance_dataframe, write_latex_table\n",
    "\n",
    "from experiments.helpers.training_results_visualization import generate_models_per_class_accuracies_dataframe\n",
    "\n",
    "per_class_accuracy_dataframe = generate_models_per_class_accuracies_dataframe(aggregated_training_results, [1, 4])\n",
    "\n",
    "per_class_accuracy_dataframe\n",
    "\n",
    "# --- --- --- ---\n",
    "\n",
    "model_performance_dataframe = create_performance_dataframe(aggregated_training_results, extractors, latex=True)\n",
    "\n",
    "\n",
    "merged_dataframe = pd.merge(\n",
    "    per_class_accuracy_dataframe,\n",
    "    model_performance_dataframe,\n",
    "    left_on=\"Model\",\n",
    "    right_on=\"Backbone Name\",\n",
    "    how=\"inner\"\n",
    ")\n",
    "\n",
    "write_latex_table(\n",
    "    dataframe=merged_dataframe,\n",
    "    caption=\"MLP Models Performance Results.\",\n",
    "    path=\"../assets/tables/mlp.training-results.tex\",\n",
    ")"
   ]
  },
  {
   "cell_type": "code",
   "execution_count": null,
   "metadata": {},
   "outputs": [],
   "source": [
    "dataframe = create_performance_dataframe(aggregated_training_results, extractors)\n",
    "\n",
    "markdown_content = \"# Pre-Trained Models\\n\\n\"\n",
    "\n",
    "dataframe['Type'] = [f\"`{extractor.get_features_type()}`\" for extractor in extractors]\n",
    "dataframe['Model'] = [f\"`MLP`\" for extractor in extractors]\n",
    "dataframe['Size'] = [f\"{extractor.get_number_of_params()}\" for extractor in extractors]\n",
    "dataframe['Download Link'] = [f\"[Download Weights](https://github.com/raideno/bouldering-video-segmentation/blob/main/models-weights/mlp.{extractor.get_name()}.pt)\" for extractor in extractors]\n",
    "\n",
    "markdown_table = dataframe.to_markdown(index=False)\n",
    "\n",
    "markdown_content += markdown_table\n",
    "\n",
    "with open(\"../models-weights/mlp.README.md\", \"w\") as file:\n",
    "    file.write(markdown_content)"
   ]
  },
  {
   "cell_type": "markdown",
   "metadata": {},
   "source": [
    "<div class=\"alert alert-info\">\n",
    "\n",
    "#### **5- Saving Models Weights**\n",
    "\n",
    "Below we are going to save the models weights and results.\n",
    "\n",
    "</div>"
   ]
  },
  {
   "cell_type": "code",
   "execution_count": null,
   "metadata": {},
   "outputs": [
    {
     "name": "stderr",
     "output_type": "stream",
     "text": [
      "[dataset-mappings-construction]:: 100%|██████████| 3220/3220 [00:00<00:00, 11603.94it/s]\n",
      "[dataset-mappings-construction]:: 100%|██████████| 3220/3220 [00:00<00:00, 13437.66it/s]\n",
      "[training-yolo]: 100%|██████████| 32/32 [00:07<00:00,  4.02epoch/s, training-loss=0.719, training-accuracy=0.7, validation-loss=0.777, validation-accuracy=0.672, best-validation-accuracy=0.68, best-training-accuracy=0.694]   \n",
      "[dataset-mappings-construction]:: 100%|██████████| 3220/3220 [00:00<00:00, 4492.23it/s]\n",
      "[dataset-mappings-construction]:: 100%|██████████| 3220/3220 [00:00<00:00, 14286.83it/s]\n",
      "[training-dino]: 100%|██████████| 32/32 [00:08<00:00,  3.91epoch/s, training-loss=0.285, training-accuracy=0.903, validation-loss=0.985, validation-accuracy=0.762, best-validation-accuracy=0.829, best-training-accuracy=0.833]\n",
      "[dataset-mappings-construction]:: 100%|██████████| 3220/3220 [00:00<00:00, 4622.80it/s]\n",
      "[dataset-mappings-construction]:: 100%|██████████| 3220/3220 [00:00<00:00, 14530.37it/s]\n",
      "[training-r3d]: 100%|██████████| 32/32 [00:08<00:00,  3.99epoch/s, training-loss=0.269, training-accuracy=0.908, validation-loss=0.374, validation-accuracy=0.87, best-validation-accuracy=0.88, best-training-accuracy=0.878]  \n",
      "[dataset-mappings-construction]:: 100%|██████████| 3220/3220 [00:00<00:00, 4782.80it/s]\n",
      "[dataset-mappings-construction]:: 100%|██████████| 3220/3220 [00:00<00:00, 14454.11it/s]\n",
      "[training-i3d]: 100%|██████████| 32/32 [00:08<00:00,  3.91epoch/s, training-loss=0.3, training-accuracy=0.9, validation-loss=0.51, validation-accuracy=0.805, best-validation-accuracy=0.835, best-training-accuracy=0.871]     \n",
      "[dataset-mappings-construction]:: 100%|██████████| 3220/3220 [00:00<00:00, 5716.58it/s]\n",
      "[dataset-mappings-construction]:: 100%|██████████| 3220/3220 [00:00<00:00, 13650.48it/s]\n",
      "[training-clip]: 100%|██████████| 32/32 [00:08<00:00,  3.84epoch/s, training-loss=0.249, training-accuracy=0.909, validation-loss=1.43, validation-accuracy=0.624, best-validation-accuracy=0.735, best-training-accuracy=0.787] \n",
      "[dataset-mappings-construction]:: 100%|██████████| 3220/3220 [00:00<00:00, 6622.91it/s]\n",
      "[dataset-mappings-construction]:: 100%|██████████| 3220/3220 [00:00<00:00, 14393.31it/s]\n",
      "[training-x3d-xs]: 100%|██████████| 32/32 [00:08<00:00,  3.91epoch/s, training-loss=0.232, training-accuracy=0.918, validation-loss=0.467, validation-accuracy=0.83, best-validation-accuracy=0.849, best-training-accuracy=0.905] \n",
      "[dataset-mappings-construction]:: 100%|██████████| 3220/3220 [00:00<00:00, 7223.20it/s]\n",
      "[dataset-mappings-construction]:: 100%|██████████| 3220/3220 [00:00<00:00, 13969.63it/s]\n",
      "[training-x3d-s]: 100%|██████████| 32/32 [00:08<00:00,  3.81epoch/s, training-loss=0.198, training-accuracy=0.925, validation-loss=0.394, validation-accuracy=0.862, best-validation-accuracy=0.88, best-training-accuracy=0.898]\n",
      "[dataset-mappings-construction]:: 100%|██████████| 3220/3220 [00:00<00:00, 7311.12it/s]\n",
      "[dataset-mappings-construction]:: 100%|██████████| 3220/3220 [00:00<00:00, 13342.07it/s]\n",
      "[training-x3d-m]: 100%|██████████| 32/32 [00:08<00:00,  3.74epoch/s, training-loss=0.19, training-accuracy=0.928, validation-loss=0.442, validation-accuracy=0.855, best-validation-accuracy=0.888, best-training-accuracy=0.886] \n",
      "[dataset-mappings-construction]:: 100%|██████████| 3220/3220 [00:00<00:00, 6920.91it/s]\n",
      "[dataset-mappings-construction]:: 100%|██████████| 3220/3220 [00:00<00:00, 13917.82it/s]\n",
      "[training-x3d-l]: 100%|██████████| 32/32 [00:09<00:00,  3.36epoch/s, training-loss=0.196, training-accuracy=0.924, validation-loss=0.407, validation-accuracy=0.854, best-validation-accuracy=0.886, best-training-accuracy=0.896]\n",
      "[dataset-mappings-construction]:: 100%|██████████| 3220/3220 [00:00<00:00, 5995.94it/s]\n",
      "[dataset-mappings-construction]:: 100%|██████████| 3220/3220 [00:00<00:00, 12899.50it/s]\n",
      "[training-s3d-k]: 100%|██████████| 32/32 [00:08<00:00,  3.65epoch/s, training-loss=0.378, training-accuracy=0.872, validation-loss=0.51, validation-accuracy=0.811, best-validation-accuracy=0.815, best-training-accuracy=0.87]  \n",
      "[dataset-mappings-construction]:: 100%|██████████| 3220/3220 [00:00<00:00, 4774.41it/s]\n",
      "[dataset-mappings-construction]:: 100%|██████████| 3220/3220 [00:00<00:00, 12665.16it/s]\n",
      "[training-s3d-h]: 100%|██████████| 32/32 [00:08<00:00,  3.86epoch/s, training-loss=0.981, training-accuracy=0.641, validation-loss=1.02, validation-accuracy=0.574, best-validation-accuracy=0.574, best-training-accuracy=0.641]\n",
      "[dataset-mappings-construction]:: 100%|██████████| 3220/3220 [00:00<00:00, 7190.22it/s]\n",
      "[dataset-mappings-construction]:: 100%|██████████| 3220/3220 [00:00<00:00, 13391.46it/s]\n",
      "[training-slowfast]: 100%|██████████| 32/32 [00:08<00:00,  3.80epoch/s, training-loss=0.125, training-accuracy=0.976, validation-loss=0.428, validation-accuracy=0.846, best-validation-accuracy=0.87, best-training-accuracy=0.918] \n",
      "[dataset-mappings-construction]:: 100%|██████████| 3220/3220 [00:00<00:00, 4892.63it/s]\n",
      "[dataset-mappings-construction]:: 100%|██████████| 3220/3220 [00:00<00:00, 14781.30it/s]\n",
      "[training-vivit]: 100%|██████████| 32/32 [00:08<00:00,  3.95epoch/s, training-loss=0.247, training-accuracy=0.908, validation-loss=0.489, validation-accuracy=0.815, best-validation-accuracy=0.821, best-training-accuracy=0.889]\n"
     ]
    }
   ],
   "source": [
    "NUMBER_ANNOTATED_VIDEOS = 22\n",
    "\n",
    "import itertools\n",
    "\n",
    "from bouldering_video_segmentation.utils import LabelEncoderFactory\n",
    "\n",
    "from experiments.helpers.trainer import Trainer\n",
    "from experiments.helpers.splits_generator import splits_generator\n",
    "from experiments.helpers.videos_to_indices import videos_to_indices\n",
    "from experiments.helpers.training_results_visualization import get_best_performing_fold\n",
    "\n",
    "label_encoder = LabelEncoderFactory.get()\n",
    "\n",
    "# --- --- --- ---\n",
    "\n",
    "fold_index = get_best_performing_fold(aggregated_training_results, Metric.ACCURACY)\n",
    "\n",
    "folds = next(itertools.islice(splits_generator(dataset_length=NUMBER_ANNOTATED_VIDEOS, k=NUMBER_OF_FOLDS), fold_index, fold_index + 1))\n",
    "\n",
    "training_videos_ids, validation_videos_ids = folds\n",
    "\n",
    "stats = []\n",
    "\n",
    "for dataset, extractor in zip(filtered_datasets, extractors):\n",
    "    # TODO: the issue is here, as the cached version is being used, some indices that have been filtered are trying to be reused\n",
    "    training_samples_ids = videos_to_indices(dataset, training_videos_ids)\n",
    "    validation_samples_ids = videos_to_indices(dataset, validation_videos_ids)\n",
    "\n",
    "    training_dataset = WrapperDataset(torch.utils.data.Subset(dataset, training_samples_ids), transform)\n",
    "    validation_dataset = WrapperDataset(torch.utils.data.Subset(dataset, validation_samples_ids), transform)\n",
    "\n",
    "    training_dataloader = torch.utils.data.DataLoader(training_dataset, batch_size=32, shuffle=True)\n",
    "    validation_dataloader = torch.utils.data.DataLoader(validation_dataset, batch_size=32, shuffle=False)\n",
    "\n",
    "    model = VideoSegmentMlp(output_size=len(label_encoder.classes_))\n",
    "    \n",
    "    trainer = Trainer(model=model, variant=TrainerVariant.MLP)\n",
    "    \n",
    "    statistics = trainer.train(training_dataloader, validation_dataloader, title=f\"[training-{extractor.get_name()}]\")\n",
    "    \n",
    "    best_model_state_dict = statistics[\"best_model_state_dict\"]\n",
    "    \n",
    "    stats.append(statistics[\"best_per_class_accuracy\"])\n",
    "    \n",
    "    # torch.save(best_model_state_dict, f\"../models-weights/mlp.{extractor.get_name()}.pt\")"
   ]
  }
 ],
 "metadata": {
  "kernelspec": {
   "display_name": ".venv",
   "language": "python",
   "name": "python3"
  },
  "language_info": {
   "codemirror_mode": {
    "name": "ipython",
    "version": 3
   },
   "file_extension": ".py",
   "mimetype": "text/x-python",
   "name": "python",
   "nbconvert_exporter": "python",
   "pygments_lexer": "ipython3",
   "version": "3.12.0"
  }
 },
 "nbformat": 4,
 "nbformat_minor": 2
}
