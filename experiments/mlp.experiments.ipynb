{
 "cells": [
  {
   "cell_type": "markdown",
   "metadata": {},
   "source": [
    "<div class=\"alert alert-info\">\n",
    "\n",
    "## **Experiments**\n",
    "\n",
    "In this notebook we test extracting features from the videos using different feature extractors & with then train a Dense and LSTM network on the extracted features.\n",
    "\n",
    "</div>"
   ]
  },
  {
   "cell_type": "markdown",
   "metadata": {},
   "source": [
    "<div class=\"alert alert-success\">\n",
    "\n",
    "- [ ] Retry experiments but with normalized features or Batch Normalization & more complex networks.\n",
    "- [ ] Try with YOLO centered key points to the body center.\n",
    "- [ ] Try with all features + appended optical flow or yolo key points.\n",
    "\n",
    "</div>"
   ]
  },
  {
   "cell_type": "code",
   "execution_count": 1,
   "metadata": {},
   "outputs": [],
   "source": [
    "%load_ext autoreload\n",
    "%autoreload 2"
   ]
  },
  {
   "cell_type": "code",
   "execution_count": 3,
   "metadata": {},
   "outputs": [
    {
     "name": "stderr",
     "output_type": "stream",
     "text": [
      "Using cache found in /Users/nadir/.cache/torch/hub/facebookresearch_dinov2_main\n",
      "/Users/nadir/.cache/torch/hub/facebookresearch_dinov2_main/dinov2/layers/swiglu_ffn.py:51: UserWarning: xFormers is not available (SwiGLU)\n",
      "  warnings.warn(\"xFormers is not available (SwiGLU)\")\n",
      "/Users/nadir/.cache/torch/hub/facebookresearch_dinov2_main/dinov2/layers/attention.py:33: UserWarning: xFormers is not available (Attention)\n",
      "  warnings.warn(\"xFormers is not available (Attention)\")\n",
      "/Users/nadir/.cache/torch/hub/facebookresearch_dinov2_main/dinov2/layers/block.py:40: UserWarning: xFormers is not available (Block)\n",
      "  warnings.warn(\"xFormers is not available (Block)\")\n",
      "Using cache found in /Users/nadir/.cache/torch/hub/facebookresearch_dinov2_main\n",
      "Using cache found in /Users/nadir/.cache/torch/hub/facebookresearch_pytorchvideo_main\n"
     ]
    },
    {
     "name": "stdout",
     "output_type": "stream",
     "text": [
      "[missing-keys]: <All keys matched successfully>\n"
     ]
    },
    {
     "name": "stderr",
     "output_type": "stream",
     "text": [
      "Using cache found in /Users/nadir/.cache/torch/hub/facebookresearch_pytorchvideo_main\n",
      "Using cache found in /Users/nadir/.cache/torch/hub/facebookresearch_pytorchvideo_main\n",
      "Using cache found in /Users/nadir/.cache/torch/hub/facebookresearch_pytorchvideo_main\n",
      "Using cache found in /Users/nadir/.cache/torch/hub/facebookresearch_pytorchvideo_main\n",
      "Using cache found in /Users/nadir/.cache/torch/hub/facebookresearch_pytorchvideo_main\n"
     ]
    }
   ],
   "source": [
    "import os\n",
    "import tqdm\n",
    "import torch\n",
    "\n",
    "import numpy as np\n",
    "import seaborn as sns\n",
    "import matplotlib.pyplot as plt\n",
    "\n",
    "from sklearn.metrics import confusion_matrix\n",
    "\n",
    "from tas_helpers.visualization import SegmentationVisualizer\n",
    "from tas_helpers.scores import repetition_score, order_variation_score\n",
    "from tas_helpers.metrics import mean_over_frames, f1_score, edit_distance\n",
    "\n",
    "from helpers.misc import plot_model_performances\n",
    "\n",
    "from cached_dataset import DiskCachedDataset\n",
    "\n",
    "from utils import LabelEncoderFactory\n",
    "from utils import generate_positional_encoding\n",
    "\n",
    "from helpers.preparations import preparations\n",
    "from helpers.misc import split_generator, videos_to_indices, aggregate_folds_histories\n",
    "\n",
    "# --- --- ---\n",
    "\n",
    "from helpers.constants import \\\n",
    "    FeaturesType, \\\n",
    "    DATASET_PATH, \\\n",
    "    VIDEOS_DIRECTORY_NAME, \\\n",
    "    ANNOTATIONS_DIRECTORY_NAME, \\\n",
    "    VIDEOS_FRAMES_DIRECTORY_NAME, \\\n",
    "    ANNOTATED_IDS_FILE_NAME, \\\n",
    "    UNANNOTATED_IDS_FILE_NAME, \\\n",
    "    TESTING_PERCENTAGE, \\\n",
    "    NUMBER_OF_FOLDS, \\\n",
    "    FEATURES_EXTRACTORS\n",
    "    "
   ]
  },
  {
   "cell_type": "code",
   "execution_count": 4,
   "metadata": {},
   "outputs": [],
   "source": [
    "label_encoder = LabelEncoderFactory.get()"
   ]
  },
  {
   "cell_type": "markdown",
   "metadata": {},
   "source": [
    "<div class=\"alert alert-info\">\n",
    "\n",
    "### **Pre-Processing**\n",
    "\n",
    "The preprocessing step includes:\n",
    "- Transforming the videos dataset into per frame dataset.\n",
    "- Creating all the video datasets with the transforms for each backbone feature extractor.\n",
    "- Extracting and caching all the backbone models' features for faster training and inference.\n",
    "- $\\cdots$\n",
    "\n",
    "</div>"
   ]
  },
  {
   "cell_type": "code",
   "execution_count": null,
   "metadata": {},
   "outputs": [
    {
     "name": "stdout",
     "output_type": "stream",
     "text": [
      "[INFO]: frames for \"climb_1-climber_MoubeAdrian-bloc_1-angle_face\" already exist. skipping extraction.\n",
      "[INFO]: frames for \"climb_1-climber_MoubeAdrian-bloc_1-angle_profile\" already exist. skipping extraction.\n",
      "[INFO]: frames for \"climb_10-climber_DouglasSophia-bloc_1-angle_face\" already exist. skipping extraction.\n",
      "[INFO]: frames for \"climb_10-climber_DouglasSophia-bloc_1-angle_profile\" already exist. skipping extraction.\n",
      "[INFO]: frames for \"climb_11-climber_MoubeAdrian-bloc_2-angle_face\" already exist. skipping extraction.\n",
      "[INFO]: frames for \"climb_11-climber_MoubeAdrian-bloc_2-angle_profile\" already exist. skipping extraction.\n",
      "[INFO]: frames for \"climb_12-climber_MrideEsteban-bloc_2-angle_face\" already exist. skipping extraction.\n",
      "[INFO]: frames for \"climb_12-climber_MrideEsteban-bloc_2-angle_profile\" already exist. skipping extraction.\n",
      "[INFO]: frames for \"climb_13-climber_FonneLana-bloc_2-angle_face\" already exist. skipping extraction.\n",
      "[INFO]: frames for \"climb_13-climber_FonneLana-bloc_2-angle_profile\" already exist. skipping extraction.\n",
      "[INFO]: frames for \"climb_14-climber_PlancheLeo-bloc_2-angle_face\" already exist. skipping extraction.\n",
      "[INFO]: frames for \"climb_14-climber_PlancheLeo-bloc_2-angle_profile\" already exist. skipping extraction.\n",
      "[INFO]: frames for \"climb_15-climber_ChatagonMael-bloc_2-angle_face\" already exist. skipping extraction.\n",
      "[INFO]: frames for \"climb_15-climber_ChatagonMael-bloc_2-angle_profile\" already exist. skipping extraction.\n",
      "[INFO]: frames for \"climb_16-climber_LyantMargaux-bloc_2-angle_face\" already exist. skipping extraction.\n",
      "[INFO]: frames for \"climb_16-climber_LyantMargaux-bloc_2-angle_profile\" already exist. skipping extraction.\n",
      "[INFO]: frames for \"climb_17-climber_MuteeMathis-bloc_2-angle_face\" already exist. skipping extraction.\n",
      "[INFO]: frames for \"climb_17-climber_MuteeMathis-bloc_2-angle_profile\" already exist. skipping extraction.\n",
      "[INFO]: frames for \"climb_18-climber_LegrosNinon-bloc_2-angle_profile\" already exist. skipping extraction.\n",
      "[INFO]: frames for \"climb_19-climber_DouglasSophia-bloc_2-angle_face\" already exist. skipping extraction.\n",
      "[INFO]: frames for \"climb_19-climber_DouglasSophia-bloc_2-angle_profile\" already exist. skipping extraction.\n",
      "[INFO]: frames for \"climb_2-climber_MrideEsteban-bloc_1-angle_face\" already exist. skipping extraction.\n",
      "[INFO]: frames for \"climb_2-climber_MrideEsteban-bloc_1-angle_profile\" already exist. skipping extraction.\n",
      "[INFO]: frames for \"climb_20-climber_MasseQuentin-bloc_2-angle_face\" already exist. skipping extraction.\n",
      "[INFO]: frames for \"climb_3-climber_FonneLana-bloc_1-angle_face\" already exist. skipping extraction.\n",
      "[INFO]: frames for \"climb_3-climber_FonneLana-bloc_1-angle_profile\" already exist. skipping extraction.\n",
      "[INFO]: frames for \"climb_4-climber_PlancheLeo-bloc_1-angle_face\" already exist. skipping extraction.\n",
      "[INFO]: frames for \"climb_4-climber_PlancheLeo-bloc_1-angle_profile\" already exist. skipping extraction.\n",
      "[INFO]: frames for \"climb_5-climber_ChatagonMael-bloc_1-angle_face\" already exist. skipping extraction.\n",
      "[INFO]: frames for \"climb_5-climber_ChatagonMael-bloc_1-angle_profile\" already exist. skipping extraction.\n",
      "[INFO]: frames for \"climb_6-climber_LyantMargaux-bloc_1-angle_face\" already exist. skipping extraction.\n",
      "[INFO]: frames for \"climb_6-climber_LyantMargaux-bloc_1-angle_profile\" already exist. skipping extraction.\n",
      "[INFO]: frames for \"climb_7-climber_MuteeMathis-bloc_1-angle_face\" already exist. skipping extraction.\n",
      "[INFO]: frames for \"climb_7-climber_MuteeMathis-bloc_1-angle_profile\" already exist. skipping extraction.\n",
      "[INFO]: frames for \"climb_8-climber_LegrosNinon-bloc_1-angle_face\" already exist. skipping extraction.\n",
      "[INFO]: frames for \"climb_8-climber_LegrosNinon-bloc_1-angle_profile\" already exist. skipping extraction.\n",
      "[INFO]: frames for \"climb_9-climber_MasseQuentin-bloc_1-angle_face\" already exist. skipping extraction.\n",
      "[INFO]: frames for \"climb_9-climber_MasseQuentin-bloc_1-angle_profile\" already exist. skipping extraction.\n",
      "[warning]: 13 frames will be lost, because video 0 has 5869 frames, which is not divisible by segment size 32. consider using a padder.\n",
      "[warning]: 21 frames will be lost, because video 1 has 6261 frames, which is not divisible by segment size 32. consider using a padder.\n",
      "[warning]: 20 frames will be lost, because video 2 has 6260 frames, which is not divisible by segment size 32. consider using a padder.\n",
      "[warning]: 10 frames will be lost, because video 3 has 6314 frames, which is not divisible by segment size 32. consider using a padder.\n",
      "[warning]: 31 frames will be lost, because video 4 has 6047 frames, which is not divisible by segment size 32. consider using a padder.\n",
      "[warning]: 23 frames will be lost, because video 5 has 5815 frames, which is not divisible by segment size 32. consider using a padder.\n",
      "[warning]: 24 frames will be lost, because video 6 has 6296 frames, which is not divisible by segment size 32. consider using a padder.\n",
      "[warning]: 12 frames will be lost, because video 7 has 6284 frames, which is not divisible by segment size 32. consider using a padder.\n",
      "[warning]: 4 frames will be lost, because video 8 has 6020 frames, which is not divisible by segment size 32. consider using a padder.\n",
      "[warning]: 29 frames will be lost, because video 9 has 6269 frames, which is not divisible by segment size 32. consider using a padder.\n",
      "[warning]: 26 frames will be lost, because video 10 has 5786 frames, which is not divisible by segment size 32. consider using a padder.\n",
      "[warning]: 22 frames will be lost, because video 11 has 5814 frames, which is not divisible by segment size 32. consider using a padder.\n",
      "[warning]: 3 frames will be lost, because video 12 has 6019 frames, which is not divisible by segment size 32. consider using a padder.\n",
      "[warning]: 25 frames will be lost, because video 13 has 6073 frames, which is not divisible by segment size 32. consider using a padder.\n",
      "[warning]: 25 frames will be lost, because video 14 has 5561 frames, which is not divisible by segment size 32. consider using a padder.\n",
      "[warning]: 30 frames will be lost, because video 15 has 5758 frames, which is not divisible by segment size 32. consider using a padder.\n",
      "[warning]: 5 frames will be lost, because video 16 has 5765 frames, which is not divisible by segment size 32. consider using a padder.\n",
      "[warning]: 12 frames will be lost, because video 17 has 5932 frames, which is not divisible by segment size 32. consider using a padder.\n",
      "[warning]: 4 frames will be lost, because video 18 has 5924 frames, which is not divisible by segment size 32. consider using a padder.\n",
      "[warning]: 20 frames will be lost, because video 19 has 5812 frames, which is not divisible by segment size 32. consider using a padder.\n",
      "[warning]: 1 frames will be lost, because video 20 has 5825 frames, which is not divisible by segment size 32. consider using a padder.\n",
      "[warning]: 26 frames will be lost, because video 21 has 5818 frames, which is not divisible by segment size 32. consider using a padder.\n",
      "[warning]: 13 frames will be lost, because video 0 has 5869 frames, which is not divisible by segment size 32. consider using a padder.\n",
      "[warning]: 21 frames will be lost, because video 1 has 6261 frames, which is not divisible by segment size 32. consider using a padder.\n",
      "[warning]: 20 frames will be lost, because video 2 has 6260 frames, which is not divisible by segment size 32. consider using a padder.\n",
      "[warning]: 10 frames will be lost, because video 3 has 6314 frames, which is not divisible by segment size 32. consider using a padder.\n",
      "[warning]: 31 frames will be lost, because video 4 has 6047 frames, which is not divisible by segment size 32. consider using a padder.\n",
      "[warning]: 23 frames will be lost, because video 5 has 5815 frames, which is not divisible by segment size 32. consider using a padder.\n",
      "[warning]: 24 frames will be lost, because video 6 has 6296 frames, which is not divisible by segment size 32. consider using a padder.\n",
      "[warning]: 12 frames will be lost, because video 7 has 6284 frames, which is not divisible by segment size 32. consider using a padder.\n",
      "[warning]: 4 frames will be lost, because video 8 has 6020 frames, which is not divisible by segment size 32. consider using a padder.\n",
      "[warning]: 29 frames will be lost, because video 9 has 6269 frames, which is not divisible by segment size 32. consider using a padder.\n",
      "[warning]: 26 frames will be lost, because video 10 has 5786 frames, which is not divisible by segment size 32. consider using a padder.\n",
      "[warning]: 22 frames will be lost, because video 11 has 5814 frames, which is not divisible by segment size 32. consider using a padder.\n",
      "[warning]: 3 frames will be lost, because video 12 has 6019 frames, which is not divisible by segment size 32. consider using a padder.\n",
      "[warning]: 25 frames will be lost, because video 13 has 6073 frames, which is not divisible by segment size 32. consider using a padder.\n",
      "[warning]: 25 frames will be lost, because video 14 has 5561 frames, which is not divisible by segment size 32. consider using a padder.\n",
      "[warning]: 30 frames will be lost, because video 15 has 5758 frames, which is not divisible by segment size 32. consider using a padder.\n",
      "[warning]: 5 frames will be lost, because video 16 has 5765 frames, which is not divisible by segment size 32. consider using a padder.\n",
      "[warning]: 12 frames will be lost, because video 17 has 5932 frames, which is not divisible by segment size 32. consider using a padder.\n",
      "[warning]: 4 frames will be lost, because video 18 has 5924 frames, which is not divisible by segment size 32. consider using a padder.\n",
      "[warning]: 20 frames will be lost, because video 19 has 5812 frames, which is not divisible by segment size 32. consider using a padder.\n",
      "[warning]: 1 frames will be lost, because video 20 has 5825 frames, which is not divisible by segment size 32. consider using a padder.\n",
      "[warning]: 26 frames will be lost, because video 21 has 5818 frames, which is not divisible by segment size 32. consider using a padder.\n",
      "[warning]: 13 frames will be lost, because video 0 has 5869 frames, which is not divisible by segment size 32. consider using a padder.\n",
      "[warning]: 21 frames will be lost, because video 1 has 6261 frames, which is not divisible by segment size 32. consider using a padder.\n",
      "[warning]: 20 frames will be lost, because video 2 has 6260 frames, which is not divisible by segment size 32. consider using a padder.\n",
      "[warning]: 10 frames will be lost, because video 3 has 6314 frames, which is not divisible by segment size 32. consider using a padder.\n",
      "[warning]: 31 frames will be lost, because video 4 has 6047 frames, which is not divisible by segment size 32. consider using a padder.\n",
      "[warning]: 23 frames will be lost, because video 5 has 5815 frames, which is not divisible by segment size 32. consider using a padder.\n",
      "[warning]: 24 frames will be lost, because video 6 has 6296 frames, which is not divisible by segment size 32. consider using a padder.\n",
      "[warning]: 12 frames will be lost, because video 7 has 6284 frames, which is not divisible by segment size 32. consider using a padder.\n",
      "[warning]: 4 frames will be lost, because video 8 has 6020 frames, which is not divisible by segment size 32. consider using a padder.\n",
      "[warning]: 29 frames will be lost, because video 9 has 6269 frames, which is not divisible by segment size 32. consider using a padder.\n",
      "[warning]: 26 frames will be lost, because video 10 has 5786 frames, which is not divisible by segment size 32. consider using a padder.\n",
      "[warning]: 22 frames will be lost, because video 11 has 5814 frames, which is not divisible by segment size 32. consider using a padder.\n",
      "[warning]: 3 frames will be lost, because video 12 has 6019 frames, which is not divisible by segment size 32. consider using a padder.\n",
      "[warning]: 25 frames will be lost, because video 13 has 6073 frames, which is not divisible by segment size 32. consider using a padder.\n",
      "[warning]: 25 frames will be lost, because video 14 has 5561 frames, which is not divisible by segment size 32. consider using a padder.\n",
      "[warning]: 30 frames will be lost, because video 15 has 5758 frames, which is not divisible by segment size 32. consider using a padder.\n",
      "[warning]: 5 frames will be lost, because video 16 has 5765 frames, which is not divisible by segment size 32. consider using a padder.\n",
      "[warning]: 12 frames will be lost, because video 17 has 5932 frames, which is not divisible by segment size 32. consider using a padder.\n",
      "[warning]: 4 frames will be lost, because video 18 has 5924 frames, which is not divisible by segment size 32. consider using a padder.\n",
      "[warning]: 20 frames will be lost, because video 19 has 5812 frames, which is not divisible by segment size 32. consider using a padder.\n",
      "[warning]: 1 frames will be lost, because video 20 has 5825 frames, which is not divisible by segment size 32. consider using a padder.\n",
      "[warning]: 26 frames will be lost, because video 21 has 5818 frames, which is not divisible by segment size 32. consider using a padder.\n",
      "[warning]: 13 frames will be lost, because video 0 has 5869 frames, which is not divisible by segment size 32. consider using a padder.\n",
      "[warning]: 21 frames will be lost, because video 1 has 6261 frames, which is not divisible by segment size 32. consider using a padder.\n",
      "[warning]: 20 frames will be lost, because video 2 has 6260 frames, which is not divisible by segment size 32. consider using a padder.\n",
      "[warning]: 10 frames will be lost, because video 3 has 6314 frames, which is not divisible by segment size 32. consider using a padder.\n",
      "[warning]: 31 frames will be lost, because video 4 has 6047 frames, which is not divisible by segment size 32. consider using a padder.\n",
      "[warning]: 23 frames will be lost, because video 5 has 5815 frames, which is not divisible by segment size 32. consider using a padder.\n",
      "[warning]: 24 frames will be lost, because video 6 has 6296 frames, which is not divisible by segment size 32. consider using a padder.\n",
      "[warning]: 12 frames will be lost, because video 7 has 6284 frames, which is not divisible by segment size 32. consider using a padder.\n",
      "[warning]: 4 frames will be lost, because video 8 has 6020 frames, which is not divisible by segment size 32. consider using a padder.\n",
      "[warning]: 29 frames will be lost, because video 9 has 6269 frames, which is not divisible by segment size 32. consider using a padder.\n",
      "[warning]: 26 frames will be lost, because video 10 has 5786 frames, which is not divisible by segment size 32. consider using a padder.\n",
      "[warning]: 22 frames will be lost, because video 11 has 5814 frames, which is not divisible by segment size 32. consider using a padder.\n",
      "[warning]: 3 frames will be lost, because video 12 has 6019 frames, which is not divisible by segment size 32. consider using a padder.\n",
      "[warning]: 25 frames will be lost, because video 13 has 6073 frames, which is not divisible by segment size 32. consider using a padder.\n",
      "[warning]: 25 frames will be lost, because video 14 has 5561 frames, which is not divisible by segment size 32. consider using a padder.\n",
      "[warning]: 30 frames will be lost, because video 15 has 5758 frames, which is not divisible by segment size 32. consider using a padder.\n",
      "[warning]: 5 frames will be lost, because video 16 has 5765 frames, which is not divisible by segment size 32. consider using a padder.\n",
      "[warning]: 12 frames will be lost, because video 17 has 5932 frames, which is not divisible by segment size 32. consider using a padder.\n",
      "[warning]: 4 frames will be lost, because video 18 has 5924 frames, which is not divisible by segment size 32. consider using a padder.\n",
      "[warning]: 20 frames will be lost, because video 19 has 5812 frames, which is not divisible by segment size 32. consider using a padder.\n",
      "[warning]: 1 frames will be lost, because video 20 has 5825 frames, which is not divisible by segment size 32. consider using a padder.\n",
      "[warning]: 26 frames will be lost, because video 21 has 5818 frames, which is not divisible by segment size 32. consider using a padder.\n",
      "[warning]: 13 frames will be lost, because video 0 has 5869 frames, which is not divisible by segment size 32. consider using a padder.\n",
      "[warning]: 21 frames will be lost, because video 1 has 6261 frames, which is not divisible by segment size 32. consider using a padder.\n",
      "[warning]: 20 frames will be lost, because video 2 has 6260 frames, which is not divisible by segment size 32. consider using a padder.\n",
      "[warning]: 10 frames will be lost, because video 3 has 6314 frames, which is not divisible by segment size 32. consider using a padder.\n",
      "[warning]: 31 frames will be lost, because video 4 has 6047 frames, which is not divisible by segment size 32. consider using a padder.\n",
      "[warning]: 23 frames will be lost, because video 5 has 5815 frames, which is not divisible by segment size 32. consider using a padder.\n",
      "[warning]: 24 frames will be lost, because video 6 has 6296 frames, which is not divisible by segment size 32. consider using a padder.\n",
      "[warning]: 12 frames will be lost, because video 7 has 6284 frames, which is not divisible by segment size 32. consider using a padder.\n",
      "[warning]: 4 frames will be lost, because video 8 has 6020 frames, which is not divisible by segment size 32. consider using a padder.\n",
      "[warning]: 29 frames will be lost, because video 9 has 6269 frames, which is not divisible by segment size 32. consider using a padder.\n",
      "[warning]: 26 frames will be lost, because video 10 has 5786 frames, which is not divisible by segment size 32. consider using a padder.\n",
      "[warning]: 22 frames will be lost, because video 11 has 5814 frames, which is not divisible by segment size 32. consider using a padder.\n",
      "[warning]: 3 frames will be lost, because video 12 has 6019 frames, which is not divisible by segment size 32. consider using a padder.\n",
      "[warning]: 25 frames will be lost, because video 13 has 6073 frames, which is not divisible by segment size 32. consider using a padder.\n",
      "[warning]: 25 frames will be lost, because video 14 has 5561 frames, which is not divisible by segment size 32. consider using a padder.\n",
      "[warning]: 30 frames will be lost, because video 15 has 5758 frames, which is not divisible by segment size 32. consider using a padder.\n",
      "[warning]: 5 frames will be lost, because video 16 has 5765 frames, which is not divisible by segment size 32. consider using a padder.\n",
      "[warning]: 12 frames will be lost, because video 17 has 5932 frames, which is not divisible by segment size 32. consider using a padder.\n",
      "[warning]: 4 frames will be lost, because video 18 has 5924 frames, which is not divisible by segment size 32. consider using a padder.\n",
      "[warning]: 20 frames will be lost, because video 19 has 5812 frames, which is not divisible by segment size 32. consider using a padder.\n",
      "[warning]: 1 frames will be lost, because video 20 has 5825 frames, which is not divisible by segment size 32. consider using a padder.\n",
      "[warning]: 26 frames will be lost, because video 21 has 5818 frames, which is not divisible by segment size 32. consider using a padder.\n",
      "[warning]: 13 frames will be lost, because video 0 has 5869 frames, which is not divisible by segment size 32. consider using a padder.\n",
      "[warning]: 21 frames will be lost, because video 1 has 6261 frames, which is not divisible by segment size 32. consider using a padder.\n",
      "[warning]: 20 frames will be lost, because video 2 has 6260 frames, which is not divisible by segment size 32. consider using a padder.\n",
      "[warning]: 10 frames will be lost, because video 3 has 6314 frames, which is not divisible by segment size 32. consider using a padder.\n",
      "[warning]: 31 frames will be lost, because video 4 has 6047 frames, which is not divisible by segment size 32. consider using a padder.\n",
      "[warning]: 23 frames will be lost, because video 5 has 5815 frames, which is not divisible by segment size 32. consider using a padder.\n",
      "[warning]: 24 frames will be lost, because video 6 has 6296 frames, which is not divisible by segment size 32. consider using a padder.\n",
      "[warning]: 12 frames will be lost, because video 7 has 6284 frames, which is not divisible by segment size 32. consider using a padder.\n",
      "[warning]: 4 frames will be lost, because video 8 has 6020 frames, which is not divisible by segment size 32. consider using a padder.\n",
      "[warning]: 29 frames will be lost, because video 9 has 6269 frames, which is not divisible by segment size 32. consider using a padder.\n",
      "[warning]: 26 frames will be lost, because video 10 has 5786 frames, which is not divisible by segment size 32. consider using a padder.\n",
      "[warning]: 22 frames will be lost, because video 11 has 5814 frames, which is not divisible by segment size 32. consider using a padder.\n",
      "[warning]: 3 frames will be lost, because video 12 has 6019 frames, which is not divisible by segment size 32. consider using a padder.\n",
      "[warning]: 25 frames will be lost, because video 13 has 6073 frames, which is not divisible by segment size 32. consider using a padder.\n",
      "[warning]: 25 frames will be lost, because video 14 has 5561 frames, which is not divisible by segment size 32. consider using a padder.\n",
      "[warning]: 30 frames will be lost, because video 15 has 5758 frames, which is not divisible by segment size 32. consider using a padder.\n",
      "[warning]: 5 frames will be lost, because video 16 has 5765 frames, which is not divisible by segment size 32. consider using a padder.\n",
      "[warning]: 12 frames will be lost, because video 17 has 5932 frames, which is not divisible by segment size 32. consider using a padder.\n",
      "[warning]: 4 frames will be lost, because video 18 has 5924 frames, which is not divisible by segment size 32. consider using a padder.\n",
      "[warning]: 20 frames will be lost, because video 19 has 5812 frames, which is not divisible by segment size 32. consider using a padder.\n",
      "[warning]: 1 frames will be lost, because video 20 has 5825 frames, which is not divisible by segment size 32. consider using a padder.\n",
      "[warning]: 26 frames will be lost, because video 21 has 5818 frames, which is not divisible by segment size 32. consider using a padder.\n",
      "[warning]: 13 frames will be lost, because video 0 has 5869 frames, which is not divisible by segment size 32. consider using a padder.\n",
      "[warning]: 21 frames will be lost, because video 1 has 6261 frames, which is not divisible by segment size 32. consider using a padder.\n",
      "[warning]: 20 frames will be lost, because video 2 has 6260 frames, which is not divisible by segment size 32. consider using a padder.\n",
      "[warning]: 10 frames will be lost, because video 3 has 6314 frames, which is not divisible by segment size 32. consider using a padder.\n",
      "[warning]: 31 frames will be lost, because video 4 has 6047 frames, which is not divisible by segment size 32. consider using a padder.\n",
      "[warning]: 23 frames will be lost, because video 5 has 5815 frames, which is not divisible by segment size 32. consider using a padder.\n",
      "[warning]: 24 frames will be lost, because video 6 has 6296 frames, which is not divisible by segment size 32. consider using a padder.\n",
      "[warning]: 12 frames will be lost, because video 7 has 6284 frames, which is not divisible by segment size 32. consider using a padder.\n",
      "[warning]: 4 frames will be lost, because video 8 has 6020 frames, which is not divisible by segment size 32. consider using a padder.\n",
      "[warning]: 29 frames will be lost, because video 9 has 6269 frames, which is not divisible by segment size 32. consider using a padder.\n",
      "[warning]: 26 frames will be lost, because video 10 has 5786 frames, which is not divisible by segment size 32. consider using a padder.\n",
      "[warning]: 22 frames will be lost, because video 11 has 5814 frames, which is not divisible by segment size 32. consider using a padder.\n",
      "[warning]: 3 frames will be lost, because video 12 has 6019 frames, which is not divisible by segment size 32. consider using a padder.\n",
      "[warning]: 25 frames will be lost, because video 13 has 6073 frames, which is not divisible by segment size 32. consider using a padder.\n",
      "[warning]: 25 frames will be lost, because video 14 has 5561 frames, which is not divisible by segment size 32. consider using a padder.\n",
      "[warning]: 30 frames will be lost, because video 15 has 5758 frames, which is not divisible by segment size 32. consider using a padder.\n",
      "[warning]: 5 frames will be lost, because video 16 has 5765 frames, which is not divisible by segment size 32. consider using a padder.\n",
      "[warning]: 12 frames will be lost, because video 17 has 5932 frames, which is not divisible by segment size 32. consider using a padder.\n",
      "[warning]: 4 frames will be lost, because video 18 has 5924 frames, which is not divisible by segment size 32. consider using a padder.\n",
      "[warning]: 20 frames will be lost, because video 19 has 5812 frames, which is not divisible by segment size 32. consider using a padder.\n",
      "[warning]: 1 frames will be lost, because video 20 has 5825 frames, which is not divisible by segment size 32. consider using a padder.\n",
      "[warning]: 26 frames will be lost, because video 21 has 5818 frames, which is not divisible by segment size 32. consider using a padder.\n",
      "[warning]: 13 frames will be lost, because video 0 has 5869 frames, which is not divisible by segment size 32. consider using a padder.\n",
      "[warning]: 21 frames will be lost, because video 1 has 6261 frames, which is not divisible by segment size 32. consider using a padder.\n",
      "[warning]: 20 frames will be lost, because video 2 has 6260 frames, which is not divisible by segment size 32. consider using a padder.\n",
      "[warning]: 10 frames will be lost, because video 3 has 6314 frames, which is not divisible by segment size 32. consider using a padder.\n",
      "[warning]: 31 frames will be lost, because video 4 has 6047 frames, which is not divisible by segment size 32. consider using a padder.\n",
      "[warning]: 23 frames will be lost, because video 5 has 5815 frames, which is not divisible by segment size 32. consider using a padder.\n",
      "[warning]: 24 frames will be lost, because video 6 has 6296 frames, which is not divisible by segment size 32. consider using a padder.\n",
      "[warning]: 12 frames will be lost, because video 7 has 6284 frames, which is not divisible by segment size 32. consider using a padder.\n",
      "[warning]: 4 frames will be lost, because video 8 has 6020 frames, which is not divisible by segment size 32. consider using a padder.\n",
      "[warning]: 29 frames will be lost, because video 9 has 6269 frames, which is not divisible by segment size 32. consider using a padder.\n",
      "[warning]: 26 frames will be lost, because video 10 has 5786 frames, which is not divisible by segment size 32. consider using a padder.\n",
      "[warning]: 22 frames will be lost, because video 11 has 5814 frames, which is not divisible by segment size 32. consider using a padder.\n",
      "[warning]: 3 frames will be lost, because video 12 has 6019 frames, which is not divisible by segment size 32. consider using a padder.\n",
      "[warning]: 25 frames will be lost, because video 13 has 6073 frames, which is not divisible by segment size 32. consider using a padder.\n",
      "[warning]: 25 frames will be lost, because video 14 has 5561 frames, which is not divisible by segment size 32. consider using a padder.\n",
      "[warning]: 30 frames will be lost, because video 15 has 5758 frames, which is not divisible by segment size 32. consider using a padder.\n",
      "[warning]: 5 frames will be lost, because video 16 has 5765 frames, which is not divisible by segment size 32. consider using a padder.\n",
      "[warning]: 12 frames will be lost, because video 17 has 5932 frames, which is not divisible by segment size 32. consider using a padder.\n",
      "[warning]: 4 frames will be lost, because video 18 has 5924 frames, which is not divisible by segment size 32. consider using a padder.\n",
      "[warning]: 20 frames will be lost, because video 19 has 5812 frames, which is not divisible by segment size 32. consider using a padder.\n",
      "[warning]: 1 frames will be lost, because video 20 has 5825 frames, which is not divisible by segment size 32. consider using a padder.\n",
      "[warning]: 26 frames will be lost, because video 21 has 5818 frames, which is not divisible by segment size 32. consider using a padder.\n",
      "[warning]: 13 frames will be lost, because video 0 has 5869 frames, which is not divisible by segment size 32. consider using a padder.\n",
      "[warning]: 21 frames will be lost, because video 1 has 6261 frames, which is not divisible by segment size 32. consider using a padder.\n",
      "[warning]: 20 frames will be lost, because video 2 has 6260 frames, which is not divisible by segment size 32. consider using a padder.\n",
      "[warning]: 10 frames will be lost, because video 3 has 6314 frames, which is not divisible by segment size 32. consider using a padder.\n",
      "[warning]: 31 frames will be lost, because video 4 has 6047 frames, which is not divisible by segment size 32. consider using a padder.\n",
      "[warning]: 23 frames will be lost, because video 5 has 5815 frames, which is not divisible by segment size 32. consider using a padder.\n",
      "[warning]: 24 frames will be lost, because video 6 has 6296 frames, which is not divisible by segment size 32. consider using a padder.\n",
      "[warning]: 12 frames will be lost, because video 7 has 6284 frames, which is not divisible by segment size 32. consider using a padder.\n",
      "[warning]: 4 frames will be lost, because video 8 has 6020 frames, which is not divisible by segment size 32. consider using a padder.\n",
      "[warning]: 29 frames will be lost, because video 9 has 6269 frames, which is not divisible by segment size 32. consider using a padder.\n",
      "[warning]: 26 frames will be lost, because video 10 has 5786 frames, which is not divisible by segment size 32. consider using a padder.\n",
      "[warning]: 22 frames will be lost, because video 11 has 5814 frames, which is not divisible by segment size 32. consider using a padder.\n",
      "[warning]: 3 frames will be lost, because video 12 has 6019 frames, which is not divisible by segment size 32. consider using a padder.\n",
      "[warning]: 25 frames will be lost, because video 13 has 6073 frames, which is not divisible by segment size 32. consider using a padder.\n",
      "[warning]: 25 frames will be lost, because video 14 has 5561 frames, which is not divisible by segment size 32. consider using a padder.\n",
      "[warning]: 30 frames will be lost, because video 15 has 5758 frames, which is not divisible by segment size 32. consider using a padder.\n",
      "[warning]: 5 frames will be lost, because video 16 has 5765 frames, which is not divisible by segment size 32. consider using a padder.\n",
      "[warning]: 12 frames will be lost, because video 17 has 5932 frames, which is not divisible by segment size 32. consider using a padder.\n",
      "[warning]: 4 frames will be lost, because video 18 has 5924 frames, which is not divisible by segment size 32. consider using a padder.\n",
      "[warning]: 20 frames will be lost, because video 19 has 5812 frames, which is not divisible by segment size 32. consider using a padder.\n",
      "[warning]: 1 frames will be lost, because video 20 has 5825 frames, which is not divisible by segment size 32. consider using a padder.\n",
      "[warning]: 26 frames will be lost, because video 21 has 5818 frames, which is not divisible by segment size 32. consider using a padder.\n",
      "[warning]: 13 frames will be lost, because video 0 has 5869 frames, which is not divisible by segment size 32. consider using a padder.\n",
      "[warning]: 21 frames will be lost, because video 1 has 6261 frames, which is not divisible by segment size 32. consider using a padder.\n",
      "[warning]: 20 frames will be lost, because video 2 has 6260 frames, which is not divisible by segment size 32. consider using a padder.\n",
      "[warning]: 10 frames will be lost, because video 3 has 6314 frames, which is not divisible by segment size 32. consider using a padder.\n",
      "[warning]: 31 frames will be lost, because video 4 has 6047 frames, which is not divisible by segment size 32. consider using a padder.\n",
      "[warning]: 23 frames will be lost, because video 5 has 5815 frames, which is not divisible by segment size 32. consider using a padder.\n",
      "[warning]: 24 frames will be lost, because video 6 has 6296 frames, which is not divisible by segment size 32. consider using a padder.\n",
      "[warning]: 12 frames will be lost, because video 7 has 6284 frames, which is not divisible by segment size 32. consider using a padder.\n",
      "[warning]: 4 frames will be lost, because video 8 has 6020 frames, which is not divisible by segment size 32. consider using a padder.\n",
      "[warning]: 29 frames will be lost, because video 9 has 6269 frames, which is not divisible by segment size 32. consider using a padder.\n",
      "[warning]: 26 frames will be lost, because video 10 has 5786 frames, which is not divisible by segment size 32. consider using a padder.\n",
      "[warning]: 22 frames will be lost, because video 11 has 5814 frames, which is not divisible by segment size 32. consider using a padder.\n",
      "[warning]: 3 frames will be lost, because video 12 has 6019 frames, which is not divisible by segment size 32. consider using a padder.\n",
      "[warning]: 25 frames will be lost, because video 13 has 6073 frames, which is not divisible by segment size 32. consider using a padder.\n",
      "[warning]: 25 frames will be lost, because video 14 has 5561 frames, which is not divisible by segment size 32. consider using a padder.\n",
      "[warning]: 30 frames will be lost, because video 15 has 5758 frames, which is not divisible by segment size 32. consider using a padder.\n",
      "[warning]: 5 frames will be lost, because video 16 has 5765 frames, which is not divisible by segment size 32. consider using a padder.\n",
      "[warning]: 12 frames will be lost, because video 17 has 5932 frames, which is not divisible by segment size 32. consider using a padder.\n",
      "[warning]: 4 frames will be lost, because video 18 has 5924 frames, which is not divisible by segment size 32. consider using a padder.\n",
      "[warning]: 20 frames will be lost, because video 19 has 5812 frames, which is not divisible by segment size 32. consider using a padder.\n",
      "[warning]: 1 frames will be lost, because video 20 has 5825 frames, which is not divisible by segment size 32. consider using a padder.\n",
      "[warning]: 26 frames will be lost, because video 21 has 5818 frames, which is not divisible by segment size 32. consider using a padder.\n",
      "[warning]: 13 frames will be lost, because video 0 has 5869 frames, which is not divisible by segment size 32. consider using a padder.\n",
      "[warning]: 21 frames will be lost, because video 1 has 6261 frames, which is not divisible by segment size 32. consider using a padder.\n",
      "[warning]: 20 frames will be lost, because video 2 has 6260 frames, which is not divisible by segment size 32. consider using a padder.\n",
      "[warning]: 10 frames will be lost, because video 3 has 6314 frames, which is not divisible by segment size 32. consider using a padder.\n",
      "[warning]: 31 frames will be lost, because video 4 has 6047 frames, which is not divisible by segment size 32. consider using a padder.\n",
      "[warning]: 23 frames will be lost, because video 5 has 5815 frames, which is not divisible by segment size 32. consider using a padder.\n",
      "[warning]: 24 frames will be lost, because video 6 has 6296 frames, which is not divisible by segment size 32. consider using a padder.\n",
      "[warning]: 12 frames will be lost, because video 7 has 6284 frames, which is not divisible by segment size 32. consider using a padder.\n",
      "[warning]: 4 frames will be lost, because video 8 has 6020 frames, which is not divisible by segment size 32. consider using a padder.\n",
      "[warning]: 29 frames will be lost, because video 9 has 6269 frames, which is not divisible by segment size 32. consider using a padder.\n",
      "[warning]: 26 frames will be lost, because video 10 has 5786 frames, which is not divisible by segment size 32. consider using a padder.\n",
      "[warning]: 22 frames will be lost, because video 11 has 5814 frames, which is not divisible by segment size 32. consider using a padder.\n",
      "[warning]: 3 frames will be lost, because video 12 has 6019 frames, which is not divisible by segment size 32. consider using a padder.\n",
      "[warning]: 25 frames will be lost, because video 13 has 6073 frames, which is not divisible by segment size 32. consider using a padder.\n",
      "[warning]: 25 frames will be lost, because video 14 has 5561 frames, which is not divisible by segment size 32. consider using a padder.\n",
      "[warning]: 30 frames will be lost, because video 15 has 5758 frames, which is not divisible by segment size 32. consider using a padder.\n",
      "[warning]: 5 frames will be lost, because video 16 has 5765 frames, which is not divisible by segment size 32. consider using a padder.\n",
      "[warning]: 12 frames will be lost, because video 17 has 5932 frames, which is not divisible by segment size 32. consider using a padder.\n",
      "[warning]: 4 frames will be lost, because video 18 has 5924 frames, which is not divisible by segment size 32. consider using a padder.\n",
      "[warning]: 20 frames will be lost, because video 19 has 5812 frames, which is not divisible by segment size 32. consider using a padder.\n",
      "[warning]: 1 frames will be lost, because video 20 has 5825 frames, which is not divisible by segment size 32. consider using a padder.\n",
      "[warning]: 26 frames will be lost, because video 21 has 5818 frames, which is not divisible by segment size 32. consider using a padder.\n",
      "[warning]: 13 frames will be lost, because video 0 has 5869 frames, which is not divisible by segment size 32. consider using a padder.\n",
      "[warning]: 21 frames will be lost, because video 1 has 6261 frames, which is not divisible by segment size 32. consider using a padder.\n",
      "[warning]: 20 frames will be lost, because video 2 has 6260 frames, which is not divisible by segment size 32. consider using a padder.\n",
      "[warning]: 10 frames will be lost, because video 3 has 6314 frames, which is not divisible by segment size 32. consider using a padder.\n",
      "[warning]: 31 frames will be lost, because video 4 has 6047 frames, which is not divisible by segment size 32. consider using a padder.\n",
      "[warning]: 23 frames will be lost, because video 5 has 5815 frames, which is not divisible by segment size 32. consider using a padder.\n",
      "[warning]: 24 frames will be lost, because video 6 has 6296 frames, which is not divisible by segment size 32. consider using a padder.\n",
      "[warning]: 12 frames will be lost, because video 7 has 6284 frames, which is not divisible by segment size 32. consider using a padder.\n",
      "[warning]: 4 frames will be lost, because video 8 has 6020 frames, which is not divisible by segment size 32. consider using a padder.\n",
      "[warning]: 29 frames will be lost, because video 9 has 6269 frames, which is not divisible by segment size 32. consider using a padder.\n",
      "[warning]: 26 frames will be lost, because video 10 has 5786 frames, which is not divisible by segment size 32. consider using a padder.\n",
      "[warning]: 22 frames will be lost, because video 11 has 5814 frames, which is not divisible by segment size 32. consider using a padder.\n",
      "[warning]: 3 frames will be lost, because video 12 has 6019 frames, which is not divisible by segment size 32. consider using a padder.\n",
      "[warning]: 25 frames will be lost, because video 13 has 6073 frames, which is not divisible by segment size 32. consider using a padder.\n",
      "[warning]: 25 frames will be lost, because video 14 has 5561 frames, which is not divisible by segment size 32. consider using a padder.\n",
      "[warning]: 30 frames will be lost, because video 15 has 5758 frames, which is not divisible by segment size 32. consider using a padder.\n",
      "[warning]: 5 frames will be lost, because video 16 has 5765 frames, which is not divisible by segment size 32. consider using a padder.\n",
      "[warning]: 12 frames will be lost, because video 17 has 5932 frames, which is not divisible by segment size 32. consider using a padder.\n",
      "[warning]: 4 frames will be lost, because video 18 has 5924 frames, which is not divisible by segment size 32. consider using a padder.\n",
      "[warning]: 20 frames will be lost, because video 19 has 5812 frames, which is not divisible by segment size 32. consider using a padder.\n",
      "[warning]: 1 frames will be lost, because video 20 has 5825 frames, which is not divisible by segment size 32. consider using a padder.\n",
      "[warning]: 26 frames will be lost, because video 21 has 5818 frames, which is not divisible by segment size 32. consider using a padder.\n",
      "[warning]: 13 frames will be lost, because video 0 has 5869 frames, which is not divisible by segment size 32. consider using a padder.\n",
      "[warning]: 21 frames will be lost, because video 1 has 6261 frames, which is not divisible by segment size 32. consider using a padder.\n",
      "[warning]: 20 frames will be lost, because video 2 has 6260 frames, which is not divisible by segment size 32. consider using a padder.\n",
      "[warning]: 10 frames will be lost, because video 3 has 6314 frames, which is not divisible by segment size 32. consider using a padder.\n",
      "[warning]: 31 frames will be lost, because video 4 has 6047 frames, which is not divisible by segment size 32. consider using a padder.\n",
      "[warning]: 23 frames will be lost, because video 5 has 5815 frames, which is not divisible by segment size 32. consider using a padder.\n",
      "[warning]: 24 frames will be lost, because video 6 has 6296 frames, which is not divisible by segment size 32. consider using a padder.\n",
      "[warning]: 12 frames will be lost, because video 7 has 6284 frames, which is not divisible by segment size 32. consider using a padder.\n",
      "[warning]: 4 frames will be lost, because video 8 has 6020 frames, which is not divisible by segment size 32. consider using a padder.\n",
      "[warning]: 29 frames will be lost, because video 9 has 6269 frames, which is not divisible by segment size 32. consider using a padder.\n",
      "[warning]: 26 frames will be lost, because video 10 has 5786 frames, which is not divisible by segment size 32. consider using a padder.\n",
      "[warning]: 22 frames will be lost, because video 11 has 5814 frames, which is not divisible by segment size 32. consider using a padder.\n",
      "[warning]: 3 frames will be lost, because video 12 has 6019 frames, which is not divisible by segment size 32. consider using a padder.\n",
      "[warning]: 25 frames will be lost, because video 13 has 6073 frames, which is not divisible by segment size 32. consider using a padder.\n",
      "[warning]: 25 frames will be lost, because video 14 has 5561 frames, which is not divisible by segment size 32. consider using a padder.\n",
      "[warning]: 30 frames will be lost, because video 15 has 5758 frames, which is not divisible by segment size 32. consider using a padder.\n",
      "[warning]: 5 frames will be lost, because video 16 has 5765 frames, which is not divisible by segment size 32. consider using a padder.\n",
      "[warning]: 12 frames will be lost, because video 17 has 5932 frames, which is not divisible by segment size 32. consider using a padder.\n",
      "[warning]: 4 frames will be lost, because video 18 has 5924 frames, which is not divisible by segment size 32. consider using a padder.\n",
      "[warning]: 20 frames will be lost, because video 19 has 5812 frames, which is not divisible by segment size 32. consider using a padder.\n",
      "[warning]: 1 frames will be lost, because video 20 has 5825 frames, which is not divisible by segment size 32. consider using a padder.\n",
      "[warning]: 26 frames will be lost, because video 21 has 5818 frames, which is not divisible by segment size 32. consider using a padder.\n",
      "[caching-dataset](averaged-dino):\n",
      "[caching-dataset](dino):\n",
      "[caching-dataset](resnet-3d):\n",
      "[caching-dataset](i3d):\n",
      "[caching-dataset](clip):\n",
      "[caching-dataset](x3d-xs):\n",
      "[caching-dataset](x3d-s):\n",
      "[caching-dataset](x3d-m):\n",
      "[caching-dataset](x3d-l):\n"
     ]
    },
    {
     "name": "stderr",
     "output_type": "stream",
     "text": [
      "[caching-dataset]:  46%|████▌     | 1883/4098 [1:50:52<2:16:04,  3.69s/it]"
     ]
    }
   ],
   "source": [
    "outputs = preparations()\n",
    "\n",
    "datasets = outputs['datasets']\n",
    "FEATURES_EXTRACTORS = outputs['FEATURES_EXTRACTORS']\n",
    "video_segments_mapping = outputs['video_segments_mapping']\n",
    "disk_cached_datasets = outputs['disk_cached_datasets']"
   ]
  },
  {
   "cell_type": "markdown",
   "metadata": {},
   "source": [
    "<div class=\"alert alert-info\">\n",
    "\n",
    "### **Backbones Features Shapes:**\n",
    "\n",
    "Showcase of the different backbone models and their corresponding feature shape.\n",
    "\n",
    "</div>"
   ]
  },
  {
   "cell_type": "code",
   "execution_count": 108,
   "metadata": {},
   "outputs": [
    {
     "name": "stdout",
     "output_type": "stream",
     "text": [
      "[averaged-dino]: torch.Size([384])\n",
      "[dino]: torch.Size([8, 384])\n",
      "[resnet-3d]: torch.Size([2048])\n",
      "[i3d]: torch.Size([1024])\n",
      "[clip]: torch.Size([8, 512])\n",
      "[x3d-xs]: torch.Size([2048])\n",
      "[x3d-s]: torch.Size([2048])\n",
      "[x3d-m]: torch.Size([2048])\n",
      "[yolo]: torch.Size([8, 34])\n",
      "[s3d-kinetics]: torch.Size([1024])\n",
      "[s3d-howto100m]: torch.Size([1024])\n",
      "[slowfast]: torch.Size([2304])\n"
     ]
    }
   ],
   "source": [
    "for dataset, extractor in zip(datasets, FEATURES_EXTRACTORS):\n",
    "    print(f\"[{extractor['name']}]:\", end=\" \")\n",
    "    print(dataset[0][0].shape)"
   ]
  },
  {
   "cell_type": "code",
   "execution_count": 109,
   "metadata": {},
   "outputs": [
    {
     "name": "stdout",
     "output_type": "stream",
     "text": [
      "[#videos]: 22\n"
     ]
    }
   ],
   "source": [
    "annotated_videos_ids = np.loadtxt(os.path.join(DATASET_PATH, ANNOTATED_IDS_FILE_NAME), dtype=str)\n",
    "\n",
    "print(f\"[#videos]: {len(annotated_videos_ids)}\")"
   ]
  },
  {
   "cell_type": "code",
   "execution_count": 110,
   "metadata": {},
   "outputs": [],
   "source": [
    "device = torch.device(\"cuda\" if torch.cuda.is_available() else \"mps\" if torch.mps.is_available() else \"cpu\")"
   ]
  },
  {
   "cell_type": "code",
   "execution_count": 114,
   "metadata": {},
   "outputs": [],
   "source": [
    "from simplest.trainer import Trainer\n",
    "\n",
    "from simplest.simple_linear_classifier import SimpleLinearClassifier\n",
    "from simplest.complex_linear_classifier import ComplexLinearClassifier"
   ]
  },
  {
   "cell_type": "markdown",
   "metadata": {},
   "source": [
    "<div class=\"alert alert-info\">\n",
    "\n",
    "### **Training Models**\n",
    "\n",
    "</div>"
   ]
  },
  {
   "cell_type": "code",
   "execution_count": 115,
   "metadata": {},
   "outputs": [],
   "source": [
    "from helpers.filters import with_ignore_classes, with_ignore_pensionless_segments"
   ]
  },
  {
   "cell_type": "code",
   "execution_count": null,
   "metadata": {},
   "outputs": [],
   "source": [
    "def with_positional_encoding(dataset):\n",
    "    \"\"\"\n",
    "    Transform the dataset to include positional encoding.\n",
    "    \"\"\"\n",
    "    pass"
   ]
  },
  {
   "cell_type": "code",
   "execution_count": 67,
   "metadata": {},
   "outputs": [
    {
     "name": "stderr",
     "output_type": "stream",
     "text": [
      "[training-averaged-dino-1/5]: 100%|██████████| 32/32 [00:17<00:00,  1.84epoch/s, training-loss=0.449, training-accuracy=0.834, validation-loss=0.646, validation-accuracy=0.777, best-validation-accuracy=0.816, best-training-accuracy=0.808]\n",
      "[training-dino-1/5]: 100%|██████████| 32/32 [21:52<00:00, 41.02s/epoch, training-loss=0.49, training-accuracy=0.846, validation-loss=0.867, validation-accuracy=0.778, best-validation-accuracy=0.822, best-training-accuracy=0.77]  \n",
      "[training-resnet-3d-1/5]: 100%|██████████| 32/32 [00:14<00:00,  2.24epoch/s, training-loss=0.369, training-accuracy=0.861, validation-loss=0.445, validation-accuracy=0.853, best-validation-accuracy=0.871, best-training-accuracy=0.805]\n",
      "[training-i3d-1/5]: 100%|██████████| 32/32 [00:16<00:00,  1.94epoch/s, training-loss=0.42, training-accuracy=0.858, validation-loss=0.603, validation-accuracy=0.771, best-validation-accuracy=0.837, best-training-accuracy=0.79] \n",
      "[training-clip-1/5]: 100%|██████████| 32/32 [00:14<00:00,  2.16epoch/s, training-loss=0.329, training-accuracy=0.878, validation-loss=1.56, validation-accuracy=0.617, best-validation-accuracy=0.698, best-training-accuracy=0.759]\n",
      "[training-x3d-xs-1/5]: 100%|██████████| 32/32 [00:15<00:00,  2.11epoch/s, training-loss=0.307, training-accuracy=0.886, validation-loss=0.498, validation-accuracy=0.836, best-validation-accuracy=0.856, best-training-accuracy=0.816]\n",
      "[training-x3d-s-1/5]: 100%|██████████| 32/32 [00:15<00:00,  2.08epoch/s, training-loss=0.285, training-accuracy=0.896, validation-loss=0.455, validation-accuracy=0.856, best-validation-accuracy=0.888, best-training-accuracy=0.808]\n",
      "[training-x3d-m-1/5]: 100%|██████████| 32/32 [00:14<00:00,  2.15epoch/s, training-loss=0.293, training-accuracy=0.893, validation-loss=0.461, validation-accuracy=0.839, best-validation-accuracy=0.879, best-training-accuracy=0.821]\n",
      "[training-yolo-1/5]: 100%|██████████| 32/32 [00:14<00:00,  2.25epoch/s, training-loss=0.862, training-accuracy=0.654, validation-loss=0.853, validation-accuracy=0.675, best-validation-accuracy=0.711, best-training-accuracy=0.656]\n",
      "[training-s3d-kinetics-1/5]: 100%|██████████| 32/32 [00:14<00:00,  2.20epoch/s, training-loss=0.514, training-accuracy=0.827, validation-loss=0.564, validation-accuracy=0.814, best-validation-accuracy=0.824, best-training-accuracy=0.826]\n",
      "[training-s3d-howto100m-1/5]: 100%|██████████| 32/32 [00:15<00:00,  2.07epoch/s, training-loss=1.11, training-accuracy=0.585, validation-loss=1.1, validation-accuracy=0.587, best-validation-accuracy=0.594, best-training-accuracy=0.577] \n",
      "[training-slowfast-1/5]: 100%|██████████| 32/32 [00:15<00:00,  2.02epoch/s, training-loss=0.187, training-accuracy=0.957, validation-loss=0.537, validation-accuracy=0.816, best-validation-accuracy=0.859, best-training-accuracy=0.808]\n",
      "[training-averaged-dino-2/5]: 100%|██████████| 32/32 [00:14<00:00,  2.25epoch/s, training-loss=0.412, training-accuracy=0.843, validation-loss=0.672, validation-accuracy=0.716, best-validation-accuracy=0.799, best-training-accuracy=0.794]\n",
      "[training-dino-2/5]: 100%|██████████| 32/32 [35:22<00:00, 66.31s/epoch, training-loss=0.371, training-accuracy=0.876, validation-loss=1.17, validation-accuracy=0.656, best-validation-accuracy=0.791, best-training-accuracy=0.685]    \n",
      "[training-resnet-3d-2/5]: 100%|██████████| 32/32 [00:15<00:00,  2.13epoch/s, training-loss=0.349, training-accuracy=0.883, validation-loss=0.603, validation-accuracy=0.811, best-validation-accuracy=0.857, best-training-accuracy=0.709]\n",
      "[training-i3d-2/5]: 100%|██████████| 32/32 [00:15<00:00,  2.12epoch/s, training-loss=0.407, training-accuracy=0.859, validation-loss=0.641, validation-accuracy=0.783, best-validation-accuracy=0.792, best-training-accuracy=0.819]\n",
      "[training-clip-2/5]: 100%|██████████| 32/32 [00:13<00:00,  2.29epoch/s, training-loss=0.314, training-accuracy=0.89, validation-loss=1.18, validation-accuracy=0.621, best-validation-accuracy=0.72, best-training-accuracy=0.774]  \n",
      "[training-x3d-xs-2/5]: 100%|██████████| 32/32 [00:14<00:00,  2.24epoch/s, training-loss=0.279, training-accuracy=0.9, validation-loss=0.61, validation-accuracy=0.784, best-validation-accuracy=0.86, best-training-accuracy=0.696]   \n",
      "[training-x3d-s-2/5]: 100%|██████████| 32/32 [00:14<00:00,  2.28epoch/s, training-loss=0.256, training-accuracy=0.908, validation-loss=0.699, validation-accuracy=0.757, best-validation-accuracy=0.849, best-training-accuracy=0.744]\n",
      "[training-x3d-m-2/5]: 100%|██████████| 32/32 [00:15<00:00,  2.10epoch/s, training-loss=0.253, training-accuracy=0.909, validation-loss=0.64, validation-accuracy=0.784, best-validation-accuracy=0.85, best-training-accuracy=0.829] \n",
      "[training-yolo-2/5]: 100%|██████████| 32/32 [10:59<00:00, 20.62s/epoch, training-loss=0.832, training-accuracy=0.66, validation-loss=1.01, validation-accuracy=0.552, best-validation-accuracy=0.552, best-training-accuracy=0.66]   \n",
      "[training-s3d-kinetics-2/5]: 100%|██████████| 32/32 [00:16<00:00,  1.96epoch/s, training-loss=0.488, training-accuracy=0.837, validation-loss=0.673, validation-accuracy=0.757, best-validation-accuracy=0.776, best-training-accuracy=0.825]\n",
      "[training-s3d-howto100m-2/5]: 100%|██████████| 32/32 [00:14<00:00,  2.27epoch/s, training-loss=1.1, training-accuracy=0.579, validation-loss=1.12, validation-accuracy=0.451, best-validation-accuracy=0.466, best-training-accuracy=0.479] \n",
      "[training-slowfast-2/5]: 100%|██████████| 32/32 [00:13<00:00,  2.34epoch/s, training-loss=0.173, training-accuracy=0.966, validation-loss=0.628, validation-accuracy=0.777, best-validation-accuracy=0.837, best-training-accuracy=0.835]\n",
      "[training-averaged-dino-3/5]: 100%|██████████| 32/32 [00:14<00:00,  2.14epoch/s, training-loss=0.372, training-accuracy=0.869, validation-loss=1.33, validation-accuracy=0.537, best-validation-accuracy=0.704, best-training-accuracy=0.811] \n",
      "[training-dino-3/5]: 100%|██████████| 32/32 [04:38<00:00,  8.70s/epoch, training-loss=0.501, training-accuracy=0.856, validation-loss=2.96, validation-accuracy=0.491, best-validation-accuracy=0.642, best-training-accuracy=0.836]\n",
      "[training-resnet-3d-3/5]: 100%|██████████| 32/32 [00:14<00:00,  2.20epoch/s, training-loss=0.329, training-accuracy=0.884, validation-loss=0.701, validation-accuracy=0.762, best-validation-accuracy=0.793, best-training-accuracy=0.843]\n",
      "[training-i3d-3/5]: 100%|██████████| 32/32 [00:15<00:00,  2.10epoch/s, training-loss=0.375, training-accuracy=0.87, validation-loss=0.877, validation-accuracy=0.664, best-validation-accuracy=0.712, best-training-accuracy=0.814] \n",
      "[training-clip-3/5]: 100%|██████████| 32/32 [00:15<00:00,  2.05epoch/s, training-loss=0.298, training-accuracy=0.891, validation-loss=0.835, validation-accuracy=0.692, best-validation-accuracy=0.711, best-training-accuracy=0.871]\n",
      "[training-x3d-xs-3/5]: 100%|██████████| 32/32 [00:15<00:00,  2.08epoch/s, training-loss=0.269, training-accuracy=0.905, validation-loss=0.857, validation-accuracy=0.737, best-validation-accuracy=0.763, best-training-accuracy=0.891]\n",
      "[training-x3d-s-3/5]: 100%|██████████| 32/32 [00:14<00:00,  2.20epoch/s, training-loss=0.262, training-accuracy=0.91, validation-loss=0.652, validation-accuracy=0.811, best-validation-accuracy=0.816, best-training-accuracy=0.863] \n",
      "[training-x3d-m-3/5]: 100%|██████████| 32/32 [00:14<00:00,  2.24epoch/s, training-loss=0.258, training-accuracy=0.912, validation-loss=0.733, validation-accuracy=0.79, best-validation-accuracy=0.813, best-training-accuracy=0.874] \n",
      "[training-yolo-3/5]: 100%|██████████| 32/32 [00:14<00:00,  2.28epoch/s, training-loss=0.821, training-accuracy=0.648, validation-loss=1, validation-accuracy=0.577, best-validation-accuracy=0.621, best-training-accuracy=0.636]    \n",
      "[training-s3d-kinetics-3/5]: 100%|██████████| 32/32 [00:15<00:00,  2.04epoch/s, training-loss=0.46, training-accuracy=0.851, validation-loss=0.776, validation-accuracy=0.733, best-validation-accuracy=0.736, best-training-accuracy=0.85]  \n",
      "[training-s3d-howto100m-3/5]: 100%|██████████| 32/32 [00:15<00:00,  2.10epoch/s, training-loss=1.08, training-accuracy=0.603, validation-loss=1.19, validation-accuracy=0.581, best-validation-accuracy=0.584, best-training-accuracy=0.59] \n",
      "[training-slowfast-3/5]: 100%|██████████| 32/32 [00:15<00:00,  2.13epoch/s, training-loss=0.164, training-accuracy=0.968, validation-loss=0.663, validation-accuracy=0.766, best-validation-accuracy=0.787, best-training-accuracy=0.88] \n",
      "[training-averaged-dino-4/5]: 100%|██████████| 32/32 [00:13<00:00,  2.29epoch/s, training-loss=0.402, training-accuracy=0.858, validation-loss=0.94, validation-accuracy=0.678, best-validation-accuracy=0.713, best-training-accuracy=0.843] \n",
      "[training-dino-4/5]: 100%|██████████| 32/32 [04:55<00:00,  9.22s/epoch, training-loss=0.456, training-accuracy=0.863, validation-loss=1.45, validation-accuracy=0.732, best-validation-accuracy=0.735, best-training-accuracy=0.846]\n",
      "[training-resnet-3d-4/5]: 100%|██████████| 32/32 [00:14<00:00,  2.20epoch/s, training-loss=0.339, training-accuracy=0.879, validation-loss=0.923, validation-accuracy=0.71, best-validation-accuracy=0.756, best-training-accuracy=0.844] \n",
      "[training-i3d-4/5]: 100%|██████████| 32/32 [00:15<00:00,  2.10epoch/s, training-loss=0.385, training-accuracy=0.868, validation-loss=1.14, validation-accuracy=0.593, best-validation-accuracy=0.612, best-training-accuracy=0.847]\n",
      "[training-clip-4/5]: 100%|██████████| 32/32 [00:14<00:00,  2.21epoch/s, training-loss=0.322, training-accuracy=0.889, validation-loss=1.06, validation-accuracy=0.692, best-validation-accuracy=0.753, best-training-accuracy=0.806] \n",
      "[training-x3d-xs-4/5]: 100%|██████████| 32/32 [00:14<00:00,  2.22epoch/s, training-loss=0.293, training-accuracy=0.893, validation-loss=0.995, validation-accuracy=0.719, best-validation-accuracy=0.754, best-training-accuracy=0.828]\n",
      "[training-x3d-s-4/5]: 100%|██████████| 32/32 [00:14<00:00,  2.20epoch/s, training-loss=0.272, training-accuracy=0.901, validation-loss=0.976, validation-accuracy=0.725, best-validation-accuracy=0.757, best-training-accuracy=0.882]\n",
      "[training-x3d-m-4/5]: 100%|██████████| 32/32 [00:14<00:00,  2.20epoch/s, training-loss=0.28, training-accuracy=0.901, validation-loss=0.95, validation-accuracy=0.741, best-validation-accuracy=0.772, best-training-accuracy=0.894]  \n",
      "[training-yolo-4/5]: 100%|██████████| 32/32 [00:13<00:00,  2.29epoch/s, training-loss=0.81, training-accuracy=0.698, validation-loss=1.07, validation-accuracy=0.493, best-validation-accuracy=0.509, best-training-accuracy=0.634] \n",
      "[training-s3d-kinetics-4/5]: 100%|██████████| 32/32 [00:15<00:00,  2.07epoch/s, training-loss=0.475, training-accuracy=0.852, validation-loss=0.849, validation-accuracy=0.646, best-validation-accuracy=0.66, best-training-accuracy=0.846] \n",
      "[training-s3d-howto100m-4/5]: 100%|██████████| 32/32 [00:15<00:00,  2.10epoch/s, training-loss=1.1, training-accuracy=0.589, validation-loss=1.15, validation-accuracy=0.52, best-validation-accuracy=0.523, best-training-accuracy=0.605]  \n",
      "[training-slowfast-4/5]: 100%|██████████| 32/32 [00:14<00:00,  2.22epoch/s, training-loss=0.164, training-accuracy=0.967, validation-loss=0.765, validation-accuracy=0.752, best-validation-accuracy=0.78, best-training-accuracy=0.911] \n",
      "[training-averaged-dino-5/5]: 100%|██████████| 32/32 [00:14<00:00,  2.24epoch/s, training-loss=0.358, training-accuracy=0.865, validation-loss=1, validation-accuracy=0.788, best-validation-accuracy=0.789, best-training-accuracy=0.872]    \n",
      "[training-dino-5/5]: 100%|██████████| 32/32 [04:41<00:00,  8.78s/epoch, training-loss=0.297, training-accuracy=0.891, validation-loss=1.96, validation-accuracy=0.73, best-validation-accuracy=0.788, best-training-accuracy=0.817] \n",
      "[training-resnet-3d-5/5]: 100%|██████████| 32/32 [00:15<00:00,  2.12epoch/s, training-loss=0.284, training-accuracy=0.904, validation-loss=0.896, validation-accuracy=0.779, best-validation-accuracy=0.795, best-training-accuracy=0.857]\n",
      "[training-i3d-5/5]: 100%|██████████| 32/32 [00:15<00:00,  2.03epoch/s, training-loss=0.356, training-accuracy=0.885, validation-loss=1, validation-accuracy=0.688, best-validation-accuracy=0.743, best-training-accuracy=0.777]    \n",
      "[training-clip-5/5]: 100%|██████████| 32/32 [00:14<00:00,  2.26epoch/s, training-loss=0.283, training-accuracy=0.893, validation-loss=1.36, validation-accuracy=0.605, best-validation-accuracy=0.732, best-training-accuracy=0.692]\n",
      "[training-x3d-xs-5/5]: 100%|██████████| 32/32 [00:14<00:00,  2.22epoch/s, training-loss=0.243, training-accuracy=0.919, validation-loss=1.08, validation-accuracy=0.798, best-validation-accuracy=0.801, best-training-accuracy=0.901] \n",
      "[training-x3d-s-5/5]: 100%|██████████| 32/32 [00:14<00:00,  2.22epoch/s, training-loss=0.217, training-accuracy=0.928, validation-loss=1.12, validation-accuracy=0.79, best-validation-accuracy=0.817, best-training-accuracy=0.91]   \n",
      "[training-x3d-m-5/5]: 100%|██████████| 32/32 [00:14<00:00,  2.21epoch/s, training-loss=0.222, training-accuracy=0.922, validation-loss=1.08, validation-accuracy=0.761, best-validation-accuracy=0.787, best-training-accuracy=0.772] \n",
      "[training-yolo-5/5]: 100%|██████████| 32/32 [00:14<00:00,  2.21epoch/s, training-loss=0.832, training-accuracy=0.689, validation-loss=0.897, validation-accuracy=0.647, best-validation-accuracy=0.651, best-training-accuracy=0.615]\n",
      "[training-s3d-kinetics-5/5]: 100%|██████████| 32/32 [00:15<00:00,  2.10epoch/s, training-loss=0.441, training-accuracy=0.858, validation-loss=0.844, validation-accuracy=0.734, best-validation-accuracy=0.775, best-training-accuracy=0.717]\n",
      "[training-s3d-howto100m-5/5]: 100%|██████████| 32/32 [00:15<00:00,  2.04epoch/s, training-loss=1.11, training-accuracy=0.6, validation-loss=1.06, validation-accuracy=0.671, best-validation-accuracy=0.676, best-training-accuracy=0.597]  \n",
      "[training-slowfast-5/5]: 100%|██████████| 32/32 [00:15<00:00,  2.02epoch/s, training-loss=0.14, training-accuracy=0.973, validation-loss=0.983, validation-accuracy=0.75, best-validation-accuracy=0.783, best-training-accuracy=0.848]  \n"
     ]
    }
   ],
   "source": [
    "folds_histories = []\n",
    "\n",
    "for fold_index, folds in enumerate(split_generator(NUMBER_OF_FOLDS)):\n",
    "    histories = []\n",
    "    \n",
    "    for extractor in FEATURES_EXTRACTORS:\n",
    "        training_videos_ids, testing_videos_ids = folds\n",
    "    \n",
    "        training_samples_ids = videos_to_indices(training_videos_ids)\n",
    "        testing_samples_ids = videos_to_indices(testing_videos_ids)\n",
    "        \n",
    "        # TODO: try ignoring the chronometer class too\n",
    "        training_dataset = with_ignore_pensionless_segments(with_ignore_classes([\"nothing\"], DiskCachedDataset(\n",
    "            base_path=os.path.join(DATASET_PATH, extractor[\"features-directory-name\"]),\n",
    "            verbose=True,\n",
    "            ids=training_samples_ids,\n",
    "            # TODO: just here include x[-1] or something like that, like the previous sample in order to use it in the LSTM\n",
    "            transform=lambda x: (x[0], x[1])\n",
    "        )))\n",
    "\n",
    "        # TODO: try ignoring the chronometer class too\n",
    "        testing_dataset = with_ignore_pensionless_segments(with_ignore_classes([\"nothing\"], DiskCachedDataset(\n",
    "            base_path=os.path.join(DATASET_PATH, extractor[\"features-directory-name\"]),\n",
    "            verbose=True,\n",
    "            ids=testing_samples_ids,\n",
    "            # TODO: just here include x[-1] or something like that, like the previous sample in order to use it in the LSTM\n",
    "            transform=lambda x: (x[0], x[1])\n",
    "        )))\n",
    "        \n",
    "        training_dataloader = torch.utils.data.DataLoader(training_dataset, batch_size=32, shuffle=True)\n",
    "        testing_dataloader = torch.utils.data.DataLoader(testing_dataset, batch_size=32, shuffle=False)\n",
    "    \n",
    "        linear_classifier = SimpleLinearClassifier(input_size=training_dataset[0][0].shape[0], output_size=len(label_encoder.classes_)).to(device)\n",
    "        \n",
    "        trainer = Trainer(linear_classifier)\n",
    "        \n",
    "        history, best_training_accuracy, best_validation_accuracy, best_epoch = trainer.train(training_dataloader, testing_dataloader, title=f\"[training-{extractor['name']}-{fold_index + 1}/{NUMBER_OF_FOLDS}]\")\n",
    "        \n",
    "        histories.append((history, best_training_accuracy, best_validation_accuracy, best_epoch))\n",
    "        \n",
    "    folds_histories.append(histories)"
   ]
  },
  {
   "cell_type": "code",
   "execution_count": null,
   "metadata": {},
   "outputs": [],
   "source": [
    "number_of_models = len(FEATURES_EXTRACTORS)\n",
    "\n",
    "figure, axes = plt.subplots(nrows=(number_of_models+1)//2, ncols=2, figsize=(15, 4*((number_of_models+1)//2)))\n",
    "\n",
    "axes = axes.flatten()\n",
    "\n",
    "min_loss = float('inf')\n",
    "max_loss = float('-inf')\n",
    "\n",
    "for (history, best_training_accuracy, best_validation_accuracy, best_epoch), extractor in zip(histories, FEATURES_EXTRACTORS):\n",
    "    name = extractor['name']\n",
    "    min_loss = min(min_loss, \n",
    "                  min(history['training_loss']), \n",
    "                  min(history['testing_loss']))\n",
    "    max_loss = max(max_loss, \n",
    "                   max(history['training_loss']), \n",
    "                   max(history['testing_loss']))\n",
    "\n",
    "for idx, (history, best_training_accuracy, best_validation_accuracy, best_epoch), extractor in zip(range(len(histories)), histories, FEATURES_EXTRACTORS):\n",
    "    name = extractor['name']\n",
    "    \n",
    "    axes[idx].plot(history['training_loss'], label='Training Loss')\n",
    "    axes[idx].plot(history['testing_loss'], label='Testing Loss')\n",
    "    \n",
    "    axes[idx].set_title(f'{name.upper()} Loss')\n",
    "    axes[idx].set_xlabel('Epoch')\n",
    "    axes[idx].set_ylabel('Loss')\n",
    "    axes[idx].legend()\n",
    "    axes[idx].grid(True)\n",
    "    \n",
    "    # axes[idx].set_ylim(min_loss, max_loss)\n",
    "\n",
    "if number_of_models % 2 != 0:\n",
    "    figure.delaxes(axes[-1])\n",
    "\n",
    "plt.tight_layout()\n",
    "\n",
    "# NOTE: uncomment to display the plot\n",
    "# plt.show()\n",
    "\n",
    "plt.close()"
   ]
  },
  {
   "cell_type": "markdown",
   "metadata": {},
   "source": [
    "<div class=\"alert alert-info\">\n",
    "\n",
    "### **Models Performances Preview**\n",
    "\n",
    "</div>"
   ]
  },
  {
   "cell_type": "code",
   "execution_count": 87,
   "metadata": {},
   "outputs": [],
   "source": [
    "histories, best_scores, validation_accuracies, training_accuracies = aggregate_folds_histories(folds_histories)"
   ]
  },
  {
   "cell_type": "code",
   "execution_count": 129,
   "metadata": {},
   "outputs": [
    {
     "name": "stdout",
     "output_type": "stream",
     "text": [
      "[averaged-dino]: 76.43% ± 0.22%\n",
      "[dino]: 75.54% ± 0.40%\n",
      "[resnet-3d]: 81.42% ± 0.18%\n",
      "[i3d]: 73.93% ± 0.58%\n",
      "[clip]: 72.27% ± 0.03%\n",
      "[x3d-xs]: 80.68% ± 0.20%\n",
      "[x3d-s]: 82.54% ± 0.18%\n",
      "[x3d-m]: 82.01% ± 0.16%\n",
      "[yolo]: 60.88% ± 0.51%\n",
      "[s3d-kinetics]: 75.43% ± 0.30%\n",
      "[s3d-howto100m]: 56.87% ± 0.50%\n",
      "[slowfast]: 80.92% ± 0.11%\n"
     ]
    }
   ],
   "source": [
    "for extractor, (average_best_training_score, average_best_validation_score, variance_best_training_score, variance_best_validation_score) in zip(FEATURES_EXTRACTORS, best_scores):\n",
    "    print(f\"[{extractor[\"name\"]}]: {(average_best_validation_score * 100):.02f}% ± {(variance_best_validation_score * 100):.02f}%\")"
   ]
  },
  {
   "cell_type": "code",
   "execution_count": 130,
   "metadata": {},
   "outputs": [
    {
     "data": {
      "image/png": "[encoded data removed]",
      "text/plain": [
       "<Figure size 1000x600 with 1 Axes>"
      ]
     },
     "metadata": {},
     "output_type": "display_data"
    }
   ],
   "source": [
    "model_names = [extractor[\"name\"] for extractor in FEATURES_EXTRACTORS]\n",
    "\n",
    "plot_model_performances(model_names, validation_accuracies, training_accuracies)"
   ]
  },
  {
   "cell_type": "markdown",
   "metadata": {},
   "source": [
    "<div class=\"alert alert-info\">\n",
    "\n",
    "### **Confusion Matrices**\n",
    "\n",
    "</div>"
   ]
  },
  {
   "cell_type": "code",
   "execution_count": 131,
   "metadata": {},
   "outputs": [],
   "source": [
    "#"
   ]
  },
  {
   "cell_type": "markdown",
   "metadata": {},
   "source": [
    "<div class=\"alert alert-info\">\n",
    "\n",
    "### **Segmentation Visualization**\n",
    "\n",
    "</div>"
   ]
  },
  {
   "cell_type": "markdown",
   "metadata": {},
   "source": [
    "---"
   ]
  },
  {
   "cell_type": "markdown",
   "metadata": {},
   "source": [
    "### About Dino"
   ]
  },
  {
   "cell_type": "markdown",
   "metadata": {},
   "source": [
    "<div class=\"alert alert-info\">\n",
    "\n",
    "**Dino Model Card:** https://github.com/facebookresearch/dinov2/blob/main/MODEL_CARD.md\n",
    "\n",
    "**Dino for Video Classification:** https://github.com/facebookresearch/dinov2/issues/16\n",
    "\n",
    "**Note on UniformTemporalSubSample Size:** Increasing it will give better results but increase loading time. https://github.com/facebookresearch/dinov2/issues/16#issuecomment-1521403076\n",
    "\n",
    "</div>"
   ]
  },
  {
   "cell_type": "markdown",
   "metadata": {},
   "source": [
    "<div class=\"alert alert-warning\">\n",
    "\n",
    "**`patchtokens`** are the image token / patches embeddings after they have been passed through the network and the 324 is here because we have a total of 324 patches.\n",
    "\n",
    "**`clstoken`** is the cls token that is supposed to contain all the relevant information about the image.\n",
    "\n",
    "**`regtokens`** are regularization tokens and they only help improve feature diversity and representation during training. Only 4 are used in this model.\n",
    "\n",
    "**`prenorm`** is represent the combined tokens before the layer normalization (1 [CLS Token] + 4 Regularization Tokens + 324 Patch Tokens = 329).\n",
    "\n",
    "The 768 is the patch embedding size that is used by Deno. And the 16 that keeps reappearing is the batch size since we are using a sample of 16 frames.\n",
    "\n",
    "```bash\n",
    "[features.keys()]: dict_keys(['x_norm_clstoken', 'x_norm_regtokens', 'x_norm_patchtokens', 'x_prenorm', 'masks'])\n",
    "[number_of_patches]: 324\n",
    "[x_norm_clstoken]: torch.Size([16, 768])\n",
    "[x_norm_regtokens]: torch.Size([16, 4, 768])\n",
    "[x_norm_patchtokens]: torch.Size([16, 324, 768])\n",
    "[x_prenorm]: torch.Size([16, 329, 768])\n",
    "[masks]: None\n",
    "```\n",
    "\n",
    "</div>"
   ]
  },
  {
   "cell_type": "markdown",
   "metadata": {},
   "source": [
    "<div class=\"alert alert-success\">\n",
    "\n",
    "**Questions**\n",
    "- [ ] Why are we using the last hidden state rather than the last memory cell or output ?\n",
    "\n",
    "</div>"
   ]
  },
  {
   "cell_type": "markdown",
   "metadata": {},
   "source": [
    "---"
   ]
  },
  {
   "cell_type": "markdown",
   "metadata": {},
   "source": [
    "### About I-Jepa"
   ]
  },
  {
   "cell_type": "markdown",
   "metadata": {},
   "source": [
    "<div class=\"alert alert-warning\">\n",
    "\n",
    "\n",
    "- [ ] **Checkout** [This Site](https://paperswithcode.com/sota/action-classification-on-kinetics-600?p=video-swin-transformer) for a leaderboard on video classification task.\n",
    "\n",
    "- [ ] Experiment with features from I-Jepa\n",
    "- [ ] Experiment with features from VideoMAE-ViT-H/16; OmniMAE-ViT-H/16 and VideoMAEv2-ViT-g/14 and other ViT based models for features extraction.\n",
    "- [ ] Experiment on fine tuning ViT for a specific task using some unlabelled videos or reinforcement learning.\n",
    "- [ ] Try to perform some sort of clustering and visualizations on using Umap and PCA on these extracted features on different models, do this for features from different models such as ViT, resnet, Video CNNs, etc.\n",
    "\n",
    "</div>"
   ]
  },
  {
   "cell_type": "markdown",
   "metadata": {},
   "source": [
    "<div class=\"alert alert-warning\">\n",
    "\n",
    "- [ ] Is this [Repository](https://github.com/kylemin/S3D) the same as the one we took the S3D model from ?\n",
    "\n",
    "</div>"
   ]
  },
  {
   "cell_type": "markdown",
   "metadata": {},
   "source": [
    "<div class=\"alert alert-info\">\n",
    "\n",
    "**Introduction Video About Image-Jepa:** https://www.youtube.com/watch?v=6bJIkfi8H-E\n",
    "\n",
    "**V-Jepa Paper:** [Here](https://scontent-lhr8-2.xx.fbcdn.net/v/t39.2365-6/427986745_768441298640104_1604906292521363076_n.pdf?_nc_cat=103&ccb=1-7&_nc_sid=3c67a6&_nc_ohc=G-D4kApr8TQQ7kNvgFSoEBh&_nc_oc=AdiZo1b5QaDaQaf0hctrozKJ2vjIp_iQvUZxArm_8k3ngVZNVLtltyVFidEIN-Njt9g&_nc_zt=14&_nc_ht=scontent-lhr8-2.xx&_nc_gid=AzzCS9ed8AZ-B2iLuVB7EE0&oh=00_AYB3kfkI_sVH0UVTrzunG99_ThmOVCNN7sRu9q9XS7nAPw&oe=67BCDFF1).\n",
    "\n",
    "</div>"
   ]
  },
  {
   "cell_type": "markdown",
   "metadata": {},
   "source": [
    "### About YOLO"
   ]
  },
  {
   "cell_type": "markdown",
   "metadata": {},
   "source": [
    "<div class=\"alert alert-info\">\n",
    "\n",
    "`keypoints = torch.tensor(result.keypoints[0].xyn)`. the `xyn` gives the normalized version of the `xy` keypoints, the \"n\" stands for \"normalized\".\n",
    "\n",
    "</div>"
   ]
  }
 ],
 "metadata": {
  "kernelspec": {
   "display_name": ".venv",
   "language": "python",
   "name": "python3"
  },
  "language_info": {
   "codemirror_mode": {
    "name": "ipython",
    "version": 3
   },
   "file_extension": ".py",
   "mimetype": "text/x-python",
   "name": "python",
   "nbconvert_exporter": "python",
   "pygments_lexer": "ipython3",
   "version": "3.12.0"
  }
 },
 "nbformat": 4,
 "nbformat_minor": 2
}
