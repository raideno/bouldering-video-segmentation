{
 "cells": [
  {
   "cell_type": "code",
   "execution_count": 172,
   "metadata": {},
   "outputs": [],
   "source": [
    "import os\n",
    "import tqdm\n",
    "import torch\n",
    "import torchvision\n",
    "\n",
    "import numpy as np\n",
    "\n",
    "from enum import StrEnum\n",
    "\n",
    "from models.s3d import S3D\n",
    "from utils import LabelEncoderFactory, UniformTemporalSubsample\n",
    "\n",
    "from video_dataset import VideoDataset\n",
    "from video_dataset.dataset import VideoShapeComponents\n",
    "from video_dataset.video import VideoFromVideoFramesDirectory\n",
    "from video_dataset.preprocessor import extract_frames_from_videos\n",
    "from video_dataset.annotations import AnnotationsFromSegmentLevelCsvFileAnnotations\n",
    "\n",
    "from cached_dataset import DiskCachedDataset\n",
    "\n",
    "from data_augmentation import AugmentDataset"
   ]
  },
  {
   "cell_type": "code",
   "execution_count": 90,
   "metadata": {},
   "outputs": [],
   "source": [
    "DATASET_PATH = \"/Users/nadir/Documents/research-project-dataset\"\n",
    "\n",
    "VIDEOS_DIRECTORY_NAME = \"videos\"\n",
    "ANNOTATIONS_DIRECTORY_NAME = \"annotations\"\n",
    "VIDEOS_FRAMES_DIRECTORY_NAME = \"videos_frames\"\n",
    "\n",
    "TRAINING_IDS_FILE_NAME = \"training_ids.txt\"\n",
    "TESTING_IDS_FILE_NAME = \"testing_ids.txt\"\n",
    "ANNOTATED_IDS_FILE_NAME = \"annotated_ids.txt\"\n",
    "UNANNOTATED_IDS_FILE_NAME = \"unannotated_ids.txt\""
   ]
  },
  {
   "cell_type": "code",
   "execution_count": 91,
   "metadata": {},
   "outputs": [],
   "source": [
    "label_encoder = LabelEncoderFactory.get()\n",
    "device = torch.device('cuda' if torch.cuda.is_available() else 'cpu')"
   ]
  },
  {
   "cell_type": "code",
   "execution_count": 92,
   "metadata": {},
   "outputs": [
    {
     "name": "stdout",
     "output_type": "stream",
     "text": [
      "[INFO]: frames for \"climb_1-climber_MoubeAdrian-bloc_1-angle_face\" already exist. skipping extraction.\n",
      "[INFO]: frames for \"climb_1-climber_MoubeAdrian-bloc_1-angle_profile\" already exist. skipping extraction.\n",
      "[INFO]: frames for \"climb_10-climber_DouglasSophia-bloc_1-angle_face\" already exist. skipping extraction.\n",
      "[INFO]: frames for \"climb_10-climber_DouglasSophia-bloc_1-angle_profile\" already exist. skipping extraction.\n",
      "[INFO]: frames for \"climb_11-climber_MoubeAdrian-bloc_2-angle_face\" already exist. skipping extraction.\n",
      "[INFO]: frames for \"climb_11-climber_MoubeAdrian-bloc_2-angle_profile\" already exist. skipping extraction.\n",
      "[INFO]: frames for \"climb_12-climber_MrideEsteban-bloc_2-angle_face\" already exist. skipping extraction.\n",
      "[INFO]: frames for \"climb_12-climber_MrideEsteban-bloc_2-angle_profile\" already exist. skipping extraction.\n",
      "[INFO]: frames for \"climb_13-climber_FonneLana-bloc_2-angle_face\" already exist. skipping extraction.\n",
      "[INFO]: frames for \"climb_13-climber_FonneLana-bloc_2-angle_profile\" already exist. skipping extraction.\n",
      "[INFO]: frames for \"climb_14-climber_PlancheLeo-bloc_2-angle_face\" already exist. skipping extraction.\n",
      "[INFO]: frames for \"climb_14-climber_PlancheLeo-bloc_2-angle_profile\" already exist. skipping extraction.\n",
      "[INFO]: frames for \"climb_15-climber_ChatagonMael-bloc_2-angle_face\" already exist. skipping extraction.\n",
      "[INFO]: frames for \"climb_15-climber_ChatagonMael-bloc_2-angle_profile\" already exist. skipping extraction.\n",
      "[INFO]: frames for \"climb_16-climber_LyantMargaux-bloc_2-angle_face\" already exist. skipping extraction.\n",
      "[INFO]: frames for \"climb_16-climber_LyantMargaux-bloc_2-angle_profile\" already exist. skipping extraction.\n",
      "[INFO]: frames for \"climb_17-climber_MuteeMathis-bloc_2-angle_face\" already exist. skipping extraction.\n",
      "[INFO]: frames for \"climb_17-climber_MuteeMathis-bloc_2-angle_profile\" already exist. skipping extraction.\n",
      "[INFO]: frames for \"climb_18-climber_LegrosNinon-bloc_2-angle_profile\" already exist. skipping extraction.\n",
      "[INFO]: frames for \"climb_19-climber_DouglasSophia-bloc_2-angle_face\" already exist. skipping extraction.\n",
      "[INFO]: frames for \"climb_19-climber_DouglasSophia-bloc_2-angle_profile\" already exist. skipping extraction.\n",
      "[INFO]: frames for \"climb_2-climber_MrideEsteban-bloc_1-angle_face\" already exist. skipping extraction.\n",
      "[INFO]: frames for \"climb_2-climber_MrideEsteban-bloc_1-angle_profile\" already exist. skipping extraction.\n",
      "[INFO]: frames for \"climb_20-climber_MasseQuentin-bloc_2-angle_face\" already exist. skipping extraction.\n",
      "[INFO]: frames for \"climb_3-climber_FonneLana-bloc_1-angle_face\" already exist. skipping extraction.\n",
      "[INFO]: frames for \"climb_3-climber_FonneLana-bloc_1-angle_profile\" already exist. skipping extraction.\n",
      "[INFO]: frames for \"climb_4-climber_PlancheLeo-bloc_1-angle_face\" already exist. skipping extraction.\n",
      "[INFO]: frames for \"climb_4-climber_PlancheLeo-bloc_1-angle_profile\" already exist. skipping extraction.\n",
      "[INFO]: frames for \"climb_5-climber_ChatagonMael-bloc_1-angle_face\" already exist. skipping extraction.\n",
      "[INFO]: frames for \"climb_5-climber_ChatagonMael-bloc_1-angle_profile\" already exist. skipping extraction.\n",
      "[INFO]: frames for \"climb_6-climber_LyantMargaux-bloc_1-angle_face\" already exist. skipping extraction.\n",
      "[INFO]: frames for \"climb_6-climber_LyantMargaux-bloc_1-angle_profile\" already exist. skipping extraction.\n",
      "[INFO]: frames for \"climb_7-climber_MuteeMathis-bloc_1-angle_face\" already exist. skipping extraction.\n",
      "[INFO]: frames for \"climb_7-climber_MuteeMathis-bloc_1-angle_profile\" already exist. skipping extraction.\n",
      "[INFO]: frames for \"climb_8-climber_LegrosNinon-bloc_1-angle_face\" already exist. skipping extraction.\n",
      "[INFO]: frames for \"climb_8-climber_LegrosNinon-bloc_1-angle_profile\" already exist. skipping extraction.\n",
      "[INFO]: frames for \"climb_9-climber_MasseQuentin-bloc_1-angle_face\" already exist. skipping extraction.\n",
      "[INFO]: frames for \"climb_9-climber_MasseQuentin-bloc_1-angle_profile\" already exist. skipping extraction.\n"
     ]
    }
   ],
   "source": [
    "extract_frames_from_videos(\n",
    "    videos_dir=os.path.join(DATASET_PATH, VIDEOS_DIRECTORY_NAME),\n",
    "    output_dir=os.path.join(DATASET_PATH, VIDEOS_FRAMES_DIRECTORY_NAME),\n",
    ")"
   ]
  },
  {
   "cell_type": "code",
   "execution_count": 166,
   "metadata": {},
   "outputs": [
    {
     "name": "stdout",
     "output_type": "stream",
     "text": [
      "[s3d]: loading weights.\n",
      "[s3d]: loaded weights.\n",
      "--- --- ---\n",
      "[len(modules)]: 350\n",
      "[modules]: Conv3d(1024, 400, kernel_size=(1, 1, 1), stride=(1, 1, 1))\n",
      "[modules]: Conv3d(1024, 5, kernel_size=(1, 1, 1), stride=(1, 1, 1))\n"
     ]
    }
   ],
   "source": [
    "model = S3D(num_class=400)\n",
    "\n",
    "weights_file = 'weights/s3d_kinetics400.pt'\n",
    "        \n",
    "if os.path.isfile(weights_file):\n",
    "    print('[s3d]: loading weights.')\n",
    "        \n",
    "    weight_dict = torch.load(weights_file, map_location=device, weights_only=False)\n",
    "    model_dict = model.state_dict()\n",
    "    for name, param in weight_dict.items():\n",
    "        if 'module' in name:\n",
    "            name = '.'.join(name.split('.')[1:])\n",
    "        if name in model_dict:\n",
    "            if param.size() == model_dict[name].size():\n",
    "                model_dict[name].copy_(param)\n",
    "            else:\n",
    "                print(' size? ' + name, param.size(), model_dict[name].size())\n",
    "\n",
    "    print('[s3d]: loaded weights.')\n",
    "else:\n",
    "    raise ValueError('No weight file.')\n",
    "\n",
    "print(f\"--- --- ---\")\n",
    "\n",
    "modules = list(model.modules())\n",
    "\n",
    "print(f\"[len(modules)]: {len(modules)}\")\n",
    "print(f\"[modules]: {modules[-1]}\")\n",
    "\n",
    "model.fc = torch.nn.Conv3d(1024, len(label_encoder.classes_), kernel_size=(1, 1, 1), stride=(1, 1, 1))\n",
    "\n",
    "modules = list(model.modules())\n",
    "print(f\"[modules]: {modules[-1]}\")"
   ]
  },
  {
   "cell_type": "code",
   "execution_count": 167,
   "metadata": {},
   "outputs": [],
   "source": [
    "def __aggregate_labels(str_labels):\n",
    "    labels = label_encoder.transform(str_labels)\n",
    "    \n",
    "    unique_elements, counts = np.unique(labels, return_counts=True)\n",
    "\n",
    "    max_count_index = np.argmax(counts)\n",
    "\n",
    "    most_frequent_element = unique_elements[max_count_index]\n",
    "    \n",
    "    return most_frequent_element"
   ]
  },
  {
   "cell_type": "code",
   "execution_count": 168,
   "metadata": {},
   "outputs": [],
   "source": [
    "class DatasetVariant(StrEnum):\n",
    "    TRAINING = TRAINING_IDS_FILE_NAME\n",
    "    VALIDATION = TESTING_IDS_FILE_NAME\n",
    "\n",
    "def __get_dataset(variant: DatasetVariant, load_videos=True):\n",
    "    ids_file = variant.value\n",
    "    \n",
    "    return VideoDataset(\n",
    "        annotations_dir=os.path.join(DATASET_PATH, ANNOTATIONS_DIRECTORY_NAME),\n",
    "        videos_dir=os.path.join(DATASET_PATH, VIDEOS_FRAMES_DIRECTORY_NAME),\n",
    "        ids_file=os.path.join(DATASET_PATH, ids_file),\n",
    "        segment_size=32,\n",
    "        video_processor=VideoFromVideoFramesDirectory,\n",
    "        annotations_processor=AnnotationsFromSegmentLevelCsvFileAnnotations,\n",
    "        annotations_processor_kwargs={\"fps\": 25, \"delimiter\": \",\"},\n",
    "        video_shape=(VideoShapeComponents.CHANNELS, VideoShapeComponents.TIME, VideoShapeComponents.HEIGHT, VideoShapeComponents.WIDTH),\n",
    "        annotations_transform=__aggregate_labels,\n",
    "        frames_transform=torchvision.transforms.Compose([\n",
    "            torchvision.transforms.Lambda(torch.tensor),\n",
    "            UniformTemporalSubsample(num_samples=16, temporal_dim=1),\n",
    "            torchvision.transforms.Resize(size=(224, 224)),\n",
    "            torchvision.transforms.Lambda(lambda x: x / max(255.0, x.max())),\n",
    "        ]),\n",
    "        overlap=0,\n",
    "        verbose=False,\n",
    "        load_videos=load_videos\n",
    ")"
   ]
  },
  {
   "cell_type": "code",
   "execution_count": 169,
   "metadata": {},
   "outputs": [],
   "source": [
    "yolo_dataset = DiskCachedDataset(\n",
    "    base_path=os.path.join(DATASET_PATH, \"features/yolo-features\"),\n",
    ")\n",
    "\n",
    "temp_dataset = {\n",
    "    DatasetVariant.TRAINING: __get_dataset(DatasetVariant.TRAINING, load_videos=False),\n",
    "    DatasetVariant.VALIDATION: __get_dataset(DatasetVariant.VALIDATION, load_videos=False),\n",
    "}\n",
    "\n",
    "def with_ignore_classes(classes: list[str], dataset, variant: DatasetVariant):\n",
    "    return torch.utils.data.Subset(dataset, [i for i in range(len(dataset)) if temp_dataset[variant][i][1] not in label_encoder.transform(classes)])\n",
    "\n",
    "def with_ignore_pensionless_segments(dataset):\n",
    "    return torch.utils.data.Subset(dataset, [i for i in range(len(dataset)) if torch.count_nonzero(torch.sum(yolo_dataset[i][0], dim=1)) >= 4])"
   ]
  },
  {
   "cell_type": "code",
   "execution_count": 170,
   "metadata": {},
   "outputs": [
    {
     "name": "stdout",
     "output_type": "stream",
     "text": [
      "[len(training_dataset)]: 2584\n",
      "[len(validation_dataset)]: 986\n"
     ]
    }
   ],
   "source": [
    "# wrapper = lambda dataset, variant: with_ignore_pensionless_segments(with_ignore_classes([\"nothing\"], dataset, variant))\n",
    "wrapper = lambda dataset, variant: with_ignore_pensionless_segments(dataset)\n",
    "\n",
    "training_dataset = wrapper(__get_dataset(DatasetVariant.TRAINING), DatasetVariant.TRAINING)\n",
    "validation_dataset = wrapper(__get_dataset(DatasetVariant.VALIDATION), DatasetVariant.VALIDATION)\n",
    "\n",
    "print(f\"[len(training_dataset)]: {len(training_dataset)}\")\n",
    "print(f\"[len(validation_dataset)]: {len(validation_dataset)}\")"
   ]
  },
  {
   "cell_type": "code",
   "execution_count": 173,
   "metadata": {},
   "outputs": [
    {
     "name": "stdout",
     "output_type": "stream",
     "text": [
      "[10, 1.4952720403671265]\n",
      "[20, 1.4575333833694457]\n",
      "[30, 1.2265396118164062]\n",
      "[40, 1.27165447473526]\n",
      "[50, 1.112617027759552]\n",
      "[60, 1.2272875964641572]\n",
      "[70, 1.2306511342525481]\n",
      "[80, 1.238953161239624]\n",
      "[90, 0.7867084860801696]\n",
      "[100, 0.8353454291820526]\n",
      "[110, 0.7859298378229141]\n",
      "[120, 1.0596587002277373]\n",
      "[130, 0.7499672621488571]\n",
      "[140, 0.767366573214531]\n",
      "[150, 0.8671666622161865]\n",
      "[160, 1.0782278716564178]\n",
      "[170, 1.0196568965911865]\n",
      "[180, 0.7630046546459198]\n"
     ]
    },
    {
     "ename": "KeyboardInterrupt",
     "evalue": "",
     "output_type": "error",
     "traceback": [
      "\u001b[0;31m---------------------------------------------------------------------------\u001b[0m",
      "\u001b[0;31mKeyboardInterrupt\u001b[0m                         Traceback (most recent call last)",
      "Cell \u001b[0;32mIn[173], line 31\u001b[0m\n\u001b[1;32m     28\u001b[0m             \u001b[38;5;28mprint\u001b[39m(\u001b[38;5;124mf\u001b[39m\u001b[38;5;124m\"\u001b[39m\u001b[38;5;124m[\u001b[39m\u001b[38;5;132;01m{\u001b[39;00mi\u001b[38;5;250m \u001b[39m\u001b[38;5;241m+\u001b[39m\u001b[38;5;250m \u001b[39m\u001b[38;5;241m1\u001b[39m\u001b[38;5;132;01m}\u001b[39;00m\u001b[38;5;124m, \u001b[39m\u001b[38;5;132;01m{\u001b[39;00mrunning_loss\u001b[38;5;250m \u001b[39m\u001b[38;5;241m/\u001b[39m\u001b[38;5;250m \u001b[39m\u001b[38;5;241m10\u001b[39m\u001b[38;5;132;01m}\u001b[39;00m\u001b[38;5;124m]\u001b[39m\u001b[38;5;124m\"\u001b[39m)\n\u001b[1;32m     29\u001b[0m             running_loss \u001b[38;5;241m=\u001b[39m \u001b[38;5;241m0.0\u001b[39m\n\u001b[0;32m---> 31\u001b[0m \u001b[43mtrain\u001b[49m\u001b[43m(\u001b[49m\u001b[43m)\u001b[49m\n",
      "Cell \u001b[0;32mIn[173], line 22\u001b[0m, in \u001b[0;36mtrain\u001b[0;34m()\u001b[0m\n\u001b[1;32m     19\u001b[0m outputs \u001b[38;5;241m=\u001b[39m model(inputs)\n\u001b[1;32m     21\u001b[0m loss \u001b[38;5;241m=\u001b[39m criterion(outputs, labels)\n\u001b[0;32m---> 22\u001b[0m \u001b[43mloss\u001b[49m\u001b[38;5;241;43m.\u001b[39;49m\u001b[43mbackward\u001b[49m\u001b[43m(\u001b[49m\u001b[43m)\u001b[49m\n\u001b[1;32m     23\u001b[0m optimizer\u001b[38;5;241m.\u001b[39mstep()\n\u001b[1;32m     25\u001b[0m running_loss \u001b[38;5;241m+\u001b[39m\u001b[38;5;241m=\u001b[39m loss\u001b[38;5;241m.\u001b[39mitem()\n",
      "File \u001b[0;32m~/Documents/code/.venv/lib/python3.12/site-packages/torch/_tensor.py:581\u001b[0m, in \u001b[0;36mTensor.backward\u001b[0;34m(self, gradient, retain_graph, create_graph, inputs)\u001b[0m\n\u001b[1;32m    571\u001b[0m \u001b[38;5;28;01mif\u001b[39;00m has_torch_function_unary(\u001b[38;5;28mself\u001b[39m):\n\u001b[1;32m    572\u001b[0m     \u001b[38;5;28;01mreturn\u001b[39;00m handle_torch_function(\n\u001b[1;32m    573\u001b[0m         Tensor\u001b[38;5;241m.\u001b[39mbackward,\n\u001b[1;32m    574\u001b[0m         (\u001b[38;5;28mself\u001b[39m,),\n\u001b[0;32m   (...)\u001b[0m\n\u001b[1;32m    579\u001b[0m         inputs\u001b[38;5;241m=\u001b[39minputs,\n\u001b[1;32m    580\u001b[0m     )\n\u001b[0;32m--> 581\u001b[0m \u001b[43mtorch\u001b[49m\u001b[38;5;241;43m.\u001b[39;49m\u001b[43mautograd\u001b[49m\u001b[38;5;241;43m.\u001b[39;49m\u001b[43mbackward\u001b[49m\u001b[43m(\u001b[49m\n\u001b[1;32m    582\u001b[0m \u001b[43m    \u001b[49m\u001b[38;5;28;43mself\u001b[39;49m\u001b[43m,\u001b[49m\u001b[43m \u001b[49m\u001b[43mgradient\u001b[49m\u001b[43m,\u001b[49m\u001b[43m \u001b[49m\u001b[43mretain_graph\u001b[49m\u001b[43m,\u001b[49m\u001b[43m \u001b[49m\u001b[43mcreate_graph\u001b[49m\u001b[43m,\u001b[49m\u001b[43m \u001b[49m\u001b[43minputs\u001b[49m\u001b[38;5;241;43m=\u001b[39;49m\u001b[43minputs\u001b[49m\n\u001b[1;32m    583\u001b[0m \u001b[43m\u001b[49m\u001b[43m)\u001b[49m\n",
      "File \u001b[0;32m~/Documents/code/.venv/lib/python3.12/site-packages/torch/autograd/__init__.py:347\u001b[0m, in \u001b[0;36mbackward\u001b[0;34m(tensors, grad_tensors, retain_graph, create_graph, grad_variables, inputs)\u001b[0m\n\u001b[1;32m    342\u001b[0m     retain_graph \u001b[38;5;241m=\u001b[39m create_graph\n\u001b[1;32m    344\u001b[0m \u001b[38;5;66;03m# The reason we repeat the same comment below is that\u001b[39;00m\n\u001b[1;32m    345\u001b[0m \u001b[38;5;66;03m# some Python versions print out the first line of a multi-line function\u001b[39;00m\n\u001b[1;32m    346\u001b[0m \u001b[38;5;66;03m# calls in the traceback and some print out the last line\u001b[39;00m\n\u001b[0;32m--> 347\u001b[0m \u001b[43m_engine_run_backward\u001b[49m\u001b[43m(\u001b[49m\n\u001b[1;32m    348\u001b[0m \u001b[43m    \u001b[49m\u001b[43mtensors\u001b[49m\u001b[43m,\u001b[49m\n\u001b[1;32m    349\u001b[0m \u001b[43m    \u001b[49m\u001b[43mgrad_tensors_\u001b[49m\u001b[43m,\u001b[49m\n\u001b[1;32m    350\u001b[0m \u001b[43m    \u001b[49m\u001b[43mretain_graph\u001b[49m\u001b[43m,\u001b[49m\n\u001b[1;32m    351\u001b[0m \u001b[43m    \u001b[49m\u001b[43mcreate_graph\u001b[49m\u001b[43m,\u001b[49m\n\u001b[1;32m    352\u001b[0m \u001b[43m    \u001b[49m\u001b[43minputs\u001b[49m\u001b[43m,\u001b[49m\n\u001b[1;32m    353\u001b[0m \u001b[43m    \u001b[49m\u001b[43mallow_unreachable\u001b[49m\u001b[38;5;241;43m=\u001b[39;49m\u001b[38;5;28;43;01mTrue\u001b[39;49;00m\u001b[43m,\u001b[49m\n\u001b[1;32m    354\u001b[0m \u001b[43m    \u001b[49m\u001b[43maccumulate_grad\u001b[49m\u001b[38;5;241;43m=\u001b[39;49m\u001b[38;5;28;43;01mTrue\u001b[39;49;00m\u001b[43m,\u001b[49m\n\u001b[1;32m    355\u001b[0m \u001b[43m\u001b[49m\u001b[43m)\u001b[49m\n",
      "File \u001b[0;32m~/Documents/code/.venv/lib/python3.12/site-packages/torch/autograd/graph.py:825\u001b[0m, in \u001b[0;36m_engine_run_backward\u001b[0;34m(t_outputs, *args, **kwargs)\u001b[0m\n\u001b[1;32m    823\u001b[0m     unregister_hooks \u001b[38;5;241m=\u001b[39m _register_logging_hooks_on_whole_graph(t_outputs)\n\u001b[1;32m    824\u001b[0m \u001b[38;5;28;01mtry\u001b[39;00m:\n\u001b[0;32m--> 825\u001b[0m     \u001b[38;5;28;01mreturn\u001b[39;00m \u001b[43mVariable\u001b[49m\u001b[38;5;241;43m.\u001b[39;49m\u001b[43m_execution_engine\u001b[49m\u001b[38;5;241;43m.\u001b[39;49m\u001b[43mrun_backward\u001b[49m\u001b[43m(\u001b[49m\u001b[43m  \u001b[49m\u001b[38;5;66;43;03m# Calls into the C++ engine to run the backward pass\u001b[39;49;00m\n\u001b[1;32m    826\u001b[0m \u001b[43m        \u001b[49m\u001b[43mt_outputs\u001b[49m\u001b[43m,\u001b[49m\u001b[43m \u001b[49m\u001b[38;5;241;43m*\u001b[39;49m\u001b[43margs\u001b[49m\u001b[43m,\u001b[49m\u001b[43m \u001b[49m\u001b[38;5;241;43m*\u001b[39;49m\u001b[38;5;241;43m*\u001b[39;49m\u001b[43mkwargs\u001b[49m\n\u001b[1;32m    827\u001b[0m \u001b[43m    \u001b[49m\u001b[43m)\u001b[49m  \u001b[38;5;66;03m# Calls into the C++ engine to run the backward pass\u001b[39;00m\n\u001b[1;32m    828\u001b[0m \u001b[38;5;28;01mfinally\u001b[39;00m:\n\u001b[1;32m    829\u001b[0m     \u001b[38;5;28;01mif\u001b[39;00m attach_logging_hooks:\n",
      "\u001b[0;31mKeyboardInterrupt\u001b[0m: "
     ]
    }
   ],
   "source": [
    "optimizer = torch.optim.Adam(model.parameters(), lr=0.001)\n",
    "criterion = torch.nn.CrossEntropyLoss()\n",
    "\n",
    "model.to(device)\n",
    "\n",
    "training_loader = torch.utils.data.DataLoader(training_dataset, batch_size=4, shuffle=True)\n",
    "validation_loader = torch.utils.data.DataLoader(validation_dataset, batch_size=4, shuffle=True)\n",
    "\n",
    "def train():\n",
    "    model.train()\n",
    "\n",
    "    running_loss = 0.0\n",
    "\n",
    "    with tqdm.tqdm(iterable=enumerate(training_loader), desc=\"[training]\", unit=\"batch\") as progress_bar:\n",
    "        for i, (inputs, labels, _) in progress_bar:\n",
    "            inputs, labels = inputs.to(device), labels.to(device)\n",
    "\n",
    "            optimizer.zero_grad()\n",
    "\n",
    "            outputs = model(inputs)\n",
    "\n",
    "            loss = criterion(outputs, labels)\n",
    "            loss.backward()\n",
    "            optimizer.step()\n",
    "\n",
    "            running_loss += loss.item()\n",
    "\n",
    "            if i % 10 == 9:\n",
    "                print(f\"[{i + 1}, {running_loss / 10}]\")\n",
    "                running_loss = 0.0\n",
    "                \n",
    "train()"
   ]
  }
 ],
 "metadata": {
  "kernelspec": {
   "display_name": ".venv",
   "language": "python",
   "name": "python3"
  },
  "language_info": {
   "codemirror_mode": {
    "name": "ipython",
    "version": 3
   },
   "file_extension": ".py",
   "mimetype": "text/x-python",
   "name": "python",
   "nbconvert_exporter": "python",
   "pygments_lexer": "ipython3",
   "version": "3.12.0"
  }
 },
 "nbformat": 4,
 "nbformat_minor": 2
}
