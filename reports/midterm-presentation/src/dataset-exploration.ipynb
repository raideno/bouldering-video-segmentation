{
 "cells": [
  {
   "cell_type": "code",
   "execution_count": 52,
   "metadata": {},
   "outputs": [],
   "source": [
    "import os\n",
    "import tqdm\n",
    "\n",
    "import pandas as pd\n",
    "\n",
    "from utils import DiskCachedDataset\n",
    "from sklearn.preprocessing import LabelEncoder"
   ]
  },
  {
   "cell_type": "code",
   "execution_count": 53,
   "metadata": {},
   "outputs": [],
   "source": [
    "DATASET_PATH = \"experiments/datasets/256-256-32-frames-clips\""
   ]
  },
  {
   "cell_type": "code",
   "execution_count": 54,
   "metadata": {},
   "outputs": [],
   "source": [
    "dataset = DiskCachedDataset(DATASET_PATH)"
   ]
  },
  {
   "cell_type": "code",
   "execution_count": 55,
   "metadata": {},
   "outputs": [
    {
     "name": "stdout",
     "output_type": "stream",
     "text": [
      "2967\n"
     ]
    }
   ],
   "source": [
    "print(len(dataset))"
   ]
  },
  {
   "cell_type": "code",
   "execution_count": 56,
   "metadata": {},
   "outputs": [],
   "source": [
    "classes = [\"nothing\", \"chrono\", \"grimpe\", \"lecture\", \"brossage\"]\n",
    "\n",
    "number_of_classes = len(classes)\n",
    "\n",
    "encoder = LabelEncoder()\n",
    "\n",
    "encoder = encoder.fit(classes)"
   ]
  },
  {
   "cell_type": "code",
   "execution_count": 57,
   "metadata": {},
   "outputs": [],
   "source": [
    "dataset_summary = {classes[i]: i for i in range(number_of_classes)}"
   ]
  },
  {
   "cell_type": "code",
   "execution_count": 58,
   "metadata": {},
   "outputs": [],
   "source": [
    "# for sample in tqdm.tqdm(dataset, desc=\"[counting-classes]:\"):\n",
    "#     dataset_summary[classes[sample[1]]] += 1"
   ]
  },
  {
   "cell_type": "code",
   "execution_count": 59,
   "metadata": {},
   "outputs": [],
   "source": [
    "fps = 25\n",
    "clip_size = 32"
   ]
  },
  {
   "cell_type": "code",
   "execution_count": 60,
   "metadata": {},
   "outputs": [],
   "source": [
    "dataset_summary_in_seconds = {k: (v * clip_size) / fps for k, v in dataset_summary.items()} \n",
    "dataset_summary_in_minutes = {k: (v * clip_size) / fps / 60 for k, v in dataset_summary.items()} "
   ]
  },
  {
   "cell_type": "code",
   "execution_count": 61,
   "metadata": {},
   "outputs": [
    {
     "data": {
      "text/plain": [
       "{'nothing': 0.0,\n",
       " 'chrono': 1.28,\n",
       " 'grimpe': 2.56,\n",
       " 'lecture': 3.84,\n",
       " 'brossage': 5.12}"
      ]
     },
     "execution_count": 61,
     "metadata": {},
     "output_type": "execute_result"
    }
   ],
   "source": [
    "dataset_summary_in_seconds"
   ]
  },
  {
   "cell_type": "code",
   "execution_count": 62,
   "metadata": {},
   "outputs": [
    {
     "data": {
      "text/plain": [
       "{'nothing': 0.0,\n",
       " 'chrono': 0.021333333333333333,\n",
       " 'grimpe': 0.042666666666666665,\n",
       " 'lecture': 0.064,\n",
       " 'brossage': 0.08533333333333333}"
      ]
     },
     "execution_count": 62,
     "metadata": {},
     "output_type": "execute_result"
    }
   ],
   "source": [
    "dataset_summary_in_minutes"
   ]
  },
  {
   "cell_type": "code",
   "execution_count": 63,
   "metadata": {},
   "outputs": [],
   "source": [
    "# NOTE: create summary dataframe\n",
    "df_summary = pd.DataFrame({\n",
    "    'Class Name': pd.Series(dataset_summary.keys(), dtype='str'),\n",
    "    'Number of Clips (32)': pd.Series(dataset_summary.values()).astype('int'),\n",
    "    'Number of Frames': pd.Series([v * clip_size for v in dataset_summary.values()]).astype('int'),\n",
    "    'Duration in Seconds': pd.Series(dataset_summary_in_seconds.values()).astype('int'),\n",
    "    'Duration in Minutes': pd.Series(dataset_summary_in_minutes.values()).astype('int'),\n",
    "})\n",
    "\n",
    "# NOTE: add percentage column\n",
    "total_clips = df_summary['Number of Clips (32)'].sum()\n",
    "df_summary['percentage'] = (df_summary['Number of Clips (32)'] / total_clips * 100).round(2)\n",
    "\n",
    "# NOTE: add total row\n",
    "df_summary = pd.concat([df_summary, df_summary.sum(numeric_only=True).to_frame().T.assign(**{'Class Name': 'Total'})])\n",
    "\n",
    "df_summary['percentage'] = df_summary['percentage'].apply(lambda x: f\"{x}%\")"
   ]
  },
  {
   "cell_type": "code",
   "execution_count": 64,
   "metadata": {},
   "outputs": [
    {
     "data": {
      "text/html": [
       "<div>\n",
       "<style scoped>\n",
       "    .dataframe tbody tr th:only-of-type {\n",
       "        vertical-align: middle;\n",
       "    }\n",
       "\n",
       "    .dataframe tbody tr th {\n",
       "        vertical-align: top;\n",
       "    }\n",
       "\n",
       "    .dataframe thead th {\n",
       "        text-align: right;\n",
       "    }\n",
       "</style>\n",
       "<table border=\"1\" class=\"dataframe\">\n",
       "  <thead>\n",
       "    <tr style=\"text-align: right;\">\n",
       "      <th></th>\n",
       "      <th>Class Name</th>\n",
       "      <th>Number of Clips (32)</th>\n",
       "      <th>Number of Frames</th>\n",
       "      <th>Duration in Seconds</th>\n",
       "      <th>Duration in Minutes</th>\n",
       "      <th>percentage</th>\n",
       "    </tr>\n",
       "  </thead>\n",
       "  <tbody>\n",
       "    <tr>\n",
       "      <th>0</th>\n",
       "      <td>nothing</td>\n",
       "      <td>0.0</td>\n",
       "      <td>0.0</td>\n",
       "      <td>0.0</td>\n",
       "      <td>0.0</td>\n",
       "      <td>0.0%</td>\n",
       "    </tr>\n",
       "    <tr>\n",
       "      <th>1</th>\n",
       "      <td>chrono</td>\n",
       "      <td>1.0</td>\n",
       "      <td>32.0</td>\n",
       "      <td>1.0</td>\n",
       "      <td>0.0</td>\n",
       "      <td>10.0%</td>\n",
       "    </tr>\n",
       "    <tr>\n",
       "      <th>2</th>\n",
       "      <td>grimpe</td>\n",
       "      <td>2.0</td>\n",
       "      <td>64.0</td>\n",
       "      <td>2.0</td>\n",
       "      <td>0.0</td>\n",
       "      <td>20.0%</td>\n",
       "    </tr>\n",
       "    <tr>\n",
       "      <th>3</th>\n",
       "      <td>lecture</td>\n",
       "      <td>3.0</td>\n",
       "      <td>96.0</td>\n",
       "      <td>3.0</td>\n",
       "      <td>0.0</td>\n",
       "      <td>30.0%</td>\n",
       "    </tr>\n",
       "    <tr>\n",
       "      <th>4</th>\n",
       "      <td>brossage</td>\n",
       "      <td>4.0</td>\n",
       "      <td>128.0</td>\n",
       "      <td>5.0</td>\n",
       "      <td>0.0</td>\n",
       "      <td>40.0%</td>\n",
       "    </tr>\n",
       "    <tr>\n",
       "      <th>0</th>\n",
       "      <td>Total</td>\n",
       "      <td>10.0</td>\n",
       "      <td>320.0</td>\n",
       "      <td>11.0</td>\n",
       "      <td>0.0</td>\n",
       "      <td>100.0%</td>\n",
       "    </tr>\n",
       "  </tbody>\n",
       "</table>\n",
       "</div>"
      ],
      "text/plain": [
       "  Class Name  Number of Clips (32)  Number of Frames  Duration in Seconds  \\\n",
       "0    nothing                   0.0               0.0                  0.0   \n",
       "1     chrono                   1.0              32.0                  1.0   \n",
       "2     grimpe                   2.0              64.0                  2.0   \n",
       "3    lecture                   3.0              96.0                  3.0   \n",
       "4   brossage                   4.0             128.0                  5.0   \n",
       "0      Total                  10.0             320.0                 11.0   \n",
       "\n",
       "   Duration in Minutes percentage  \n",
       "0                  0.0       0.0%  \n",
       "1                  0.0      10.0%  \n",
       "2                  0.0      20.0%  \n",
       "3                  0.0      30.0%  \n",
       "4                  0.0      40.0%  \n",
       "0                  0.0     100.0%  "
      ]
     },
     "execution_count": 64,
     "metadata": {},
     "output_type": "execute_result"
    }
   ],
   "source": [
    "df_summary"
   ]
  },
  {
   "cell_type": "code",
   "execution_count": null,
   "metadata": {},
   "outputs": [],
   "source": []
  },
  {
   "cell_type": "code",
   "execution_count": 65,
   "metadata": {},
   "outputs": [],
   "source": [
    "df_summary_2  = pd.DataFrame({\n",
    "    'Class Name': pd.Series(dataset_summary.keys(), dtype='str'),\n",
    "    'Number of Segments': pd.Series(dataset_summary.values()).astype('int'),\n",
    "    'Total Number of Frames': pd.Series([v * clip_size for v in dataset_summary.values()]).astype('int'),\n",
    "    'Average Segment Duration in Seconds': pd.Series(dataset_summary_in_seconds.values()).astype('int'),\n",
    "    'Total in Seconds': pd.Series(dataset_summary_in_minutes.values()).astype('int'),\n",
    "    'Proportion': '',\n",
    "})"
   ]
  },
  {
   "cell_type": "code",
   "execution_count": 66,
   "metadata": {},
   "outputs": [],
   "source": [
    "BASE_ANNOTATIONS_PATH = \"/Volumes/secondary-disk/extracted-version-6/annotations\""
   ]
  },
  {
   "cell_type": "code",
   "execution_count": 67,
   "metadata": {},
   "outputs": [],
   "source": [
    "full_videos_annotations_paths = list(map(lambda path: os.path.join(BASE_ANNOTATIONS_PATH, path), filter(lambda file_name: '.DS_Store' not in file_name, os.listdir(BASE_ANNOTATIONS_PATH))))"
   ]
  },
  {
   "cell_type": "code",
   "execution_count": 68,
   "metadata": {},
   "outputs": [
    {
     "data": {
      "text/plain": [
       "['/Volumes/secondary-disk/extracted-version-6/annotations/climb_11-climber_MoubeAdrian-bloc_2-angle_face.csv',\n",
       " '/Volumes/secondary-disk/extracted-version-6/annotations/climb_11-climber_MoubeAdrian-bloc_2-angle_profile.csv',\n",
       " '/Volumes/secondary-disk/extracted-version-6/annotations/climb_12-climber_MrideEsteban-bloc_2-angle_face.csv',\n",
       " '/Volumes/secondary-disk/extracted-version-6/annotations/climb_12-climber_MrideEsteban-bloc_2-angle_profile.csv',\n",
       " '/Volumes/secondary-disk/extracted-version-6/annotations/climb_13-climber_FonneLana-bloc_2-angle_face.csv',\n",
       " '/Volumes/secondary-disk/extracted-version-6/annotations/climb_13-climber_FonneLana-bloc_2-angle_profile.csv',\n",
       " '/Volumes/secondary-disk/extracted-version-6/annotations/climb_14-climber_PlancheLeo-bloc_2-angle_face.csv',\n",
       " '/Volumes/secondary-disk/extracted-version-6/annotations/climb_14-climber_PlancheLeo-bloc_2-angle_profile.csv',\n",
       " '/Volumes/secondary-disk/extracted-version-6/annotations/climb_15-climber_ChatagonMael-bloc_2-angle_face.csv',\n",
       " '/Volumes/secondary-disk/extracted-version-6/annotations/climb_15-climber_ChatagonMael-bloc_2-angle_profile.csv',\n",
       " '/Volumes/secondary-disk/extracted-version-6/annotations/climb_16-climber_LyantMargaux-bloc_2-angle_face.csv',\n",
       " '/Volumes/secondary-disk/extracted-version-6/annotations/climb_16-climber_LyantMargaux-bloc_2-angle_profile.csv',\n",
       " '/Volumes/secondary-disk/extracted-version-6/annotations/climb_17-climber_MuteeMathis-bloc_2-angle_face.csv',\n",
       " '/Volumes/secondary-disk/extracted-version-6/annotations/climb_17-climber_MuteeMathis-bloc_2-angle_profile.csv',\n",
       " '/Volumes/secondary-disk/extracted-version-6/annotations/climb_19-climber_DouglasSophia-bloc_2-angle_face.csv',\n",
       " '/Volumes/secondary-disk/extracted-version-6/annotations/climb_19-climber_DouglasSophia-bloc_2-angle_profile.csv']"
      ]
     },
     "execution_count": 68,
     "metadata": {},
     "output_type": "execute_result"
    }
   ],
   "source": [
    "full_videos_annotations_paths"
   ]
  },
  {
   "cell_type": "code",
   "execution_count": 69,
   "metadata": {},
   "outputs": [
    {
     "name": "stdout",
     "output_type": "stream",
     "text": [
      "      action  starting-timestamp  ending-timestamp\n",
      "0    lecture                 0.0            9317.0\n",
      "1   brossage              9317.0           24432.0\n",
      "2   brossage             25392.0           35629.0\n",
      "3    lecture             35630.0           54344.0\n",
      "4     grimpe             54344.0          101770.0\n",
      "5    lecture            111289.0          115807.0\n",
      "6     chrono            115807.0          116566.0\n",
      "7   brossage            116567.0          158475.0\n",
      "8     chrono            158276.0          160315.0\n",
      "9   brossage            162234.0          178429.0\n",
      "10    chrono            178070.0          178829.0\n",
      "11    chrono            195945.0          196904.0\n",
      "12   lecture            197065.0          209341.0\n",
      "13    grimpe            209341.0          247210.0\n"
     ]
    }
   ],
   "source": [
    "full_videos_annotations_paths\n",
    "\n",
    "annotation = pd.read_csv(full_videos_annotations_paths[0])\n",
    "\n",
    "print(annotation)"
   ]
  },
  {
   "cell_type": "code",
   "execution_count": 70,
   "metadata": {},
   "outputs": [],
   "source": [
    "def analyze_annotations(file_paths):\n",
    "   all_annotations = pd.concat([pd.read_csv(path) for path in file_paths])\n",
    "   all_annotations['duration'] = all_annotations['ending-timestamp'] - all_annotations['starting-timestamp']\n",
    "   all_annotations['frames'] = all_annotations['duration'] * 25 / 1000  # Convert ms to frames\n",
    "   \n",
    "   all_annotations['action'] = all_annotations['action'].str.capitalize()\n",
    "   \n",
    "   summary = all_annotations.groupby('action').agg({\n",
    "       'action': 'count',\n",
    "       'duration': ['mean', 'sum'],\n",
    "       'frames': 'sum'\n",
    "   }).reset_index()\n",
    "   \n",
    "   summary.columns = ['Class Name', 'Number of Segments', 'Average Segment Duration (s)', 'Total Duration (m)', 'Number of Frames']\n",
    "   summary['Average Segment Duration (s)'] = (summary['Average Segment Duration (s)'] / 1000).round(2)\n",
    "   summary['Total Duration (m)'] = (summary['Total Duration (m)'] / 60000).round(2)\n",
    "   summary['Number of Frames'] = summary['Number of Frames'].round(0).astype(int)\n",
    "   \n",
    "   total_time = summary['Total Duration (m)'].sum()\n",
    "   summary['Proportion'] = summary['Total Duration (m)'].apply(lambda x: f\"{(x / total_time * 100).round(2)}\\\\%\")\n",
    "   \n",
    "   total_row = pd.DataFrame({\n",
    "       'Class Name': ['Total'],\n",
    "       'Number of Segments': [summary['Number of Segments'].sum()],\n",
    "       'Average Segment Duration (s)': [summary['Average Segment Duration (s)'].mean().round(2)],\n",
    "       'Total Duration (m)': [total_time.round(2)],\n",
    "       'Number of Frames': [summary['Number of Frames'].sum()],\n",
    "       'Proportion': ['100.00\\\\%']\n",
    "   })\n",
    "   \n",
    "   return pd.concat([summary, total_row], ignore_index=True)"
   ]
  },
  {
   "cell_type": "code",
   "execution_count": 71,
   "metadata": {},
   "outputs": [
    {
     "data": {
      "text/html": [
       "<div>\n",
       "<style scoped>\n",
       "    .dataframe tbody tr th:only-of-type {\n",
       "        vertical-align: middle;\n",
       "    }\n",
       "\n",
       "    .dataframe tbody tr th {\n",
       "        vertical-align: top;\n",
       "    }\n",
       "\n",
       "    .dataframe thead th {\n",
       "        text-align: right;\n",
       "    }\n",
       "</style>\n",
       "<table border=\"1\" class=\"dataframe\">\n",
       "  <thead>\n",
       "    <tr style=\"text-align: right;\">\n",
       "      <th></th>\n",
       "      <th>Class Name</th>\n",
       "      <th>Number of Segments</th>\n",
       "      <th>Average Segment Duration (s)</th>\n",
       "      <th>Total Duration (m)</th>\n",
       "      <th>Number of Frames</th>\n",
       "      <th>Proportion</th>\n",
       "    </tr>\n",
       "  </thead>\n",
       "  <tbody>\n",
       "    <tr>\n",
       "      <th>0</th>\n",
       "      <td>Brossage</td>\n",
       "      <td>34</td>\n",
       "      <td>18.84</td>\n",
       "      <td>10.68</td>\n",
       "      <td>16017</td>\n",
       "      <td>18.81\\%</td>\n",
       "    </tr>\n",
       "    <tr>\n",
       "      <th>1</th>\n",
       "      <td>Chrono</td>\n",
       "      <td>74</td>\n",
       "      <td>1.73</td>\n",
       "      <td>2.13</td>\n",
       "      <td>3199</td>\n",
       "      <td>3.75\\%</td>\n",
       "    </tr>\n",
       "    <tr>\n",
       "      <th>2</th>\n",
       "      <td>Grimpe</td>\n",
       "      <td>70</td>\n",
       "      <td>16.52</td>\n",
       "      <td>19.27</td>\n",
       "      <td>28903</td>\n",
       "      <td>33.94\\%</td>\n",
       "    </tr>\n",
       "    <tr>\n",
       "      <th>3</th>\n",
       "      <td>Lecture</td>\n",
       "      <td>96</td>\n",
       "      <td>15.44</td>\n",
       "      <td>24.70</td>\n",
       "      <td>37054</td>\n",
       "      <td>43.5\\%</td>\n",
       "    </tr>\n",
       "    <tr>\n",
       "      <th>4</th>\n",
       "      <td>Total</td>\n",
       "      <td>274</td>\n",
       "      <td>13.13</td>\n",
       "      <td>56.78</td>\n",
       "      <td>85173</td>\n",
       "      <td>100.00\\%</td>\n",
       "    </tr>\n",
       "  </tbody>\n",
       "</table>\n",
       "</div>"
      ],
      "text/plain": [
       "  Class Name  Number of Segments  Average Segment Duration (s)  \\\n",
       "0   Brossage                  34                         18.84   \n",
       "1     Chrono                  74                          1.73   \n",
       "2     Grimpe                  70                         16.52   \n",
       "3    Lecture                  96                         15.44   \n",
       "4      Total                 274                         13.13   \n",
       "\n",
       "   Total Duration (m)  Number of Frames Proportion  \n",
       "0               10.68             16017    18.81\\%  \n",
       "1                2.13              3199     3.75\\%  \n",
       "2               19.27             28903    33.94\\%  \n",
       "3               24.70             37054     43.5\\%  \n",
       "4               56.78             85173   100.00\\%  "
      ]
     },
     "execution_count": 71,
     "metadata": {},
     "output_type": "execute_result"
    }
   ],
   "source": [
    "summary_df = analyze_annotations(full_videos_annotations_paths)\n",
    "\n",
    "summary_df"
   ]
  },
  {
   "cell_type": "code",
   "execution_count": 72,
   "metadata": {},
   "outputs": [],
   "source": [
    "summary_df_without_total = summary_df[:-1]  # Remove total row\n",
    "new_row = pd.DataFrame([{\n",
    "    'Class Name': '-',\n",
    "    'Number of Segments': '-',\n",
    "    'Average Segment Duration (s)': '-',\n",
    "    'Total Duration (m)': '-',\n",
    "    'Number of Frames': '-',\n",
    "    'Proportion': '-'\n",
    "}])\n",
    "summary_df = pd.concat([summary_df_without_total, new_row, summary_df.tail(1)], ignore_index=True)"
   ]
  },
  {
   "cell_type": "code",
   "execution_count": 73,
   "metadata": {},
   "outputs": [
    {
     "data": {
      "text/html": [
       "<div>\n",
       "<style scoped>\n",
       "    .dataframe tbody tr th:only-of-type {\n",
       "        vertical-align: middle;\n",
       "    }\n",
       "\n",
       "    .dataframe tbody tr th {\n",
       "        vertical-align: top;\n",
       "    }\n",
       "\n",
       "    .dataframe thead th {\n",
       "        text-align: right;\n",
       "    }\n",
       "</style>\n",
       "<table border=\"1\" class=\"dataframe\">\n",
       "  <thead>\n",
       "    <tr style=\"text-align: right;\">\n",
       "      <th></th>\n",
       "      <th>Class Name</th>\n",
       "      <th>Number of Segments</th>\n",
       "      <th>Average Segment Duration (s)</th>\n",
       "      <th>Total Duration (m)</th>\n",
       "      <th>Number of Frames</th>\n",
       "      <th>Proportion</th>\n",
       "    </tr>\n",
       "  </thead>\n",
       "  <tbody>\n",
       "    <tr>\n",
       "      <th>0</th>\n",
       "      <td>Brossage</td>\n",
       "      <td>34</td>\n",
       "      <td>18.84</td>\n",
       "      <td>10.68</td>\n",
       "      <td>16017</td>\n",
       "      <td>18.81\\%</td>\n",
       "    </tr>\n",
       "    <tr>\n",
       "      <th>1</th>\n",
       "      <td>Chrono</td>\n",
       "      <td>74</td>\n",
       "      <td>1.73</td>\n",
       "      <td>2.13</td>\n",
       "      <td>3199</td>\n",
       "      <td>3.75\\%</td>\n",
       "    </tr>\n",
       "    <tr>\n",
       "      <th>2</th>\n",
       "      <td>Grimpe</td>\n",
       "      <td>70</td>\n",
       "      <td>16.52</td>\n",
       "      <td>19.27</td>\n",
       "      <td>28903</td>\n",
       "      <td>33.94\\%</td>\n",
       "    </tr>\n",
       "    <tr>\n",
       "      <th>3</th>\n",
       "      <td>Lecture</td>\n",
       "      <td>96</td>\n",
       "      <td>15.44</td>\n",
       "      <td>24.7</td>\n",
       "      <td>37054</td>\n",
       "      <td>43.5\\%</td>\n",
       "    </tr>\n",
       "    <tr>\n",
       "      <th>4</th>\n",
       "      <td>-</td>\n",
       "      <td>-</td>\n",
       "      <td>-</td>\n",
       "      <td>-</td>\n",
       "      <td>-</td>\n",
       "      <td>-</td>\n",
       "    </tr>\n",
       "    <tr>\n",
       "      <th>5</th>\n",
       "      <td>Total</td>\n",
       "      <td>274</td>\n",
       "      <td>13.13</td>\n",
       "      <td>56.78</td>\n",
       "      <td>85173</td>\n",
       "      <td>100.00\\%</td>\n",
       "    </tr>\n",
       "  </tbody>\n",
       "</table>\n",
       "</div>"
      ],
      "text/plain": [
       "  Class Name Number of Segments Average Segment Duration (s)  \\\n",
       "0   Brossage                 34                        18.84   \n",
       "1     Chrono                 74                         1.73   \n",
       "2     Grimpe                 70                        16.52   \n",
       "3    Lecture                 96                        15.44   \n",
       "4          -                  -                            -   \n",
       "5      Total                274                        13.13   \n",
       "\n",
       "  Total Duration (m) Number of Frames Proportion  \n",
       "0              10.68            16017    18.81\\%  \n",
       "1               2.13             3199     3.75\\%  \n",
       "2              19.27            28903    33.94\\%  \n",
       "3               24.7            37054     43.5\\%  \n",
       "4                  -                -          -  \n",
       "5              56.78            85173   100.00\\%  "
      ]
     },
     "execution_count": 73,
     "metadata": {},
     "output_type": "execute_result"
    }
   ],
   "source": [
    "summary_df"
   ]
  },
  {
   "cell_type": "code",
   "execution_count": 74,
   "metadata": {},
   "outputs": [],
   "source": [
    "def latex_with_resize(df: pd.DataFrame, path):\n",
    "    # numeric_cols = ['Average Segment Duration (s)', 'Total Duration (m)']\n",
    "    # df[numeric_cols] = df[numeric_cols].round(2).apply(lambda x: x.map('{:05.2f}'.format))\n",
    "    latex_content = df.to_latex(\n",
    "        column_format='|l|l|l|l|l|l|',\n",
    "        # float_format=\"%.2f\",\n",
    "        float_format='{:05.2f}'.format,\n",
    "        escape=False,\n",
    "        index=False,\n",
    "    )\n",
    "    \n",
    "    # lines = latex_content.split('\\n')\n",
    "    # lines.insert(-4, '\\\\hline') \n",
    "    # latex_content = '\\n'.join(lines)\n",
    "    \n",
    "    with open(path, 'w') as f:\n",
    "        f.write('\\\\resizebox{\\\\textwidth}{!}{\\n')\n",
    "        f.write(latex_content)\n",
    "        f.write('}')"
   ]
  },
  {
   "cell_type": "code",
   "execution_count": 75,
   "metadata": {},
   "outputs": [],
   "source": [
    "latex_with_resize(summary_df, \"report/assets/tables/dataset.summary.tex\")"
   ]
  },
  {
   "cell_type": "code",
   "execution_count": 76,
   "metadata": {},
   "outputs": [],
   "source": [
    "# summary_df.to_latex(\n",
    "#     \"report/assets/tables/dataset.summary.tex\",\n",
    "#     column_format='|l|l|l|l|l|',\n",
    "#     # caption='Dataset Summary Statistics',\n",
    "#     bold_rows=False,\n",
    "#     escape=False,\n",
    "#     index=False,\n",
    "#     header=[\"\\\\multicolumn{1}{|c|}{\\\\textbf{Class Name}}\", \n",
    "#             \"\\\\multicolumn{1}{c|}{\\\\textbf{Number of Segments}}\", \n",
    "#             \"\\\\multicolumn{1}{c|}{\\\\textbf{Average Segment Duration (s)}}\", \n",
    "#             \"\\\\multicolumn{1}{c|}{\\\\textbf{Total Duration (m)}}\", \n",
    "#             \"\\\\multicolumn{1}{c|}{\\\\textbf{Proportion}}\"]\n",
    "# )\n",
    "\n",
    "# # summary_df.to_csv(\"experiments/results/dataset.summary.csv\", index=False)\n",
    "# # summary_df.to_latex(\n",
    "# #     \"report/assets/tables/dataset.summary.tex\",\n",
    "# #     index=False,\n",
    "# #     column_format='|l|l|l|l|l|',\n",
    "# #     escape=False,\n",
    "# #     header=[\n",
    "# #         '\\\\textbf{Class Name}',\n",
    "# #         '\\\\textbf{Number of Segments}', \n",
    "# #         '\\\\textbf{Average Segment Duration (s)}',\n",
    "# #         '\\\\textbf{Total Duration (m)}',\n",
    "# #         '\\\\textbf{Proportion}'\n",
    "# #     ],\n",
    "# #     columns=[\n",
    "# #         'Class Name',\n",
    "# #         'Number of Segments',\n",
    "# #         'Average Segment Duration (s)',\n",
    "# #         'Total Duration (m)',\n",
    "# #         'Proportion'\n",
    "# #     ]\n",
    "# # )"
   ]
  },
  {
   "cell_type": "code",
   "execution_count": null,
   "metadata": {},
   "outputs": [],
   "source": []
  }
 ],
 "metadata": {
  "kernelspec": {
   "display_name": ".venv",
   "language": "python",
   "name": "python3"
  },
  "language_info": {
   "codemirror_mode": {
    "name": "ipython",
    "version": 3
   },
   "file_extension": ".py",
   "mimetype": "text/x-python",
   "name": "python",
   "nbconvert_exporter": "python",
   "pygments_lexer": "ipython3",
   "version": "3.12.0"
  }
 },
 "nbformat": 4,
 "nbformat_minor": 2
}
